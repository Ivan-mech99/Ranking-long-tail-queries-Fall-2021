{
 "cells": [
  {
   "cell_type": "code",
   "execution_count": 1,
   "id": "07af0eba",
   "metadata": {},
   "outputs": [],
   "source": [
    "from tqdm import tqdm\n",
    "import pandas as pd\n",
    "import os\n",
    "import gzip\n",
    "import zipfile\n",
    "import shutil\n",
    "from time import sleep\n",
    "import pymorphy2\n",
    "from pyaspeller import YandexSpeller\n",
    "from lru import LRU\n",
    "import pickle\n",
    "from time import sleep\n",
    "from concurrent.futures import ThreadPoolExecutor\n",
    "import tarfile\n",
    "import bz2\n",
    "import sys\n",
    "import numpy as np\n",
    "with open('ill_url_ids.pickle', 'rb') as file:\n",
    "    ill_url_ids = pickle.load(file)\n",
    "def transform(arg, ill_url_ids):\n",
    "    if arg not in ill_url_ids:\n",
    "        return arg\n",
    "    else:\n",
    "        return ill_url_ids[arg]\n",
    "alpha = np.array([0.41,0.16,0.105,0.08,0.06,0.05,0.35,0.3,0.25,0.2])\n",
    "class URL_info():\n",
    "    def __init__(self):\n",
    "        self.total_shows = 0\n",
    "        self.total_clicks = 0\n",
    "        self.num_first_clicks = 0\n",
    "        self.num_last_clicks = 0\n",
    "        self.show_poses = np.zeros((10,),dtype='int')\n",
    "        self.show_poses_cl = np.zeros((10,),dtype='int')\n",
    "        self.click_poses = np.zeros((10,),dtype='int')\n",
    "        self.time = 0\n",
    "        self.clicks_on_higher_pos = 0\n",
    "        self.clicks_on_lower_pos = 0\n",
    "        self.clicks_after_this = 0\n",
    "        self.clicks_before_this = 0\n",
    "        self.is_click_on_higher_pos = 0\n",
    "        self.is_click_on_lower_pos = 0"
   ]
  },
  {
   "cell_type": "code",
   "execution_count": 2,
   "id": "4609f9be",
   "metadata": {},
   "outputs": [],
   "source": [
    "df_marks = pd.read_csv('train.marks.tsv', delimiter='\\t', header=None)\n",
    "df_marks = df_marks.rename(columns={0: \"QueryId\", 1: \"DocumentId\"})\n",
    "df_marks = df_marks.drop(columns=[2])\n",
    "df_example = pd.read_csv('sample.csv')\n",
    "all_groups = df_marks.append(df_example)\n",
    "all_groups = all_groups.reset_index()\n",
    "all_groups = all_groups.drop(columns=['index'])\n",
    "all_groups = all_groups.sort_values(by=['QueryId', 'DocumentId']).reset_index()\n",
    "all_groups = all_groups.drop(columns=['index'])\n",
    "rev_frame = all_groups.sort_values(by=['DocumentId', 'QueryId']).reset_index()\n",
    "rev_frame = rev_frame.drop(columns=['index'])"
   ]
  },
  {
   "cell_type": "code",
   "execution_count": 3,
   "id": "438864d5",
   "metadata": {},
   "outputs": [],
   "source": [
    "vals = all_groups['DocumentId'].values"
   ]
  },
  {
   "cell_type": "code",
   "execution_count": 4,
   "id": "c2d85882",
   "metadata": {},
   "outputs": [],
   "source": [
    "with open(\"doc_to_host.pickle\", 'rb') as file:\n",
    "    doc_to_host = pickle.load(file)\n",
    "with open(\"url_simple.pickle\", 'rb') as file:\n",
    "    url_simple = pickle.load(file)\n",
    "with open(\"host_simple.pickle\", 'rb') as file:\n",
    "    host_simple = pickle.load(file)"
   ]
  },
  {
   "cell_type": "code",
   "execution_count": 5,
   "id": "fe93b33d",
   "metadata": {},
   "outputs": [],
   "source": [
    "template = np.arange(1,11)\n",
    "click_feats = dict()\n",
    "click_feats1 = dict()\n",
    "\n",
    "for i in range(2,11):\n",
    "    click_feats['url_cumul_ctr{}'.format(i)] = []\n",
    "for i in range(2,11):\n",
    "    click_feats1['host_cumul_ctr{}'.format(i)] = []\n",
    "\n",
    "click_feats['url_clicks_out'] = []\n",
    "click_feats['url_shows_out'] = []\n",
    "click_feats['url_clicks_out_prob'] = []\n",
    "click_feats['url_shows_out_prob'] = []\n",
    "\n",
    "click_feats1['host_clicks_out'] = []\n",
    "click_feats1['host_shows_out'] = []\n",
    "click_feats1['host_clicks_out_prob'] = []\n",
    "click_feats1['host_shows_out_prob'] = []\n",
    "\n",
    "click_feats['url_higher_prob'] = []\n",
    "click_feats['url_lower_prob'] = []\n",
    "click_feats['url_num_higher_cl'] = []\n",
    "click_feats['url_num_lower_cl'] = []\n",
    "click_feats1['host_higher_prob'] = []\n",
    "click_feats1['host_lower_prob'] = []\n",
    "click_feats1['host_num_higher_cl'] = []\n",
    "click_feats1['host_num_lower_cl'] = []"
   ]
  },
  {
   "cell_type": "code",
   "execution_count": 6,
   "id": "d54f8413",
   "metadata": {},
   "outputs": [
    {
     "name": "stderr",
     "output_type": "stream",
     "text": [
      "100%|██████████| 606050/606050 [01:41<00:00, 5964.99it/s]\n"
     ]
    }
   ],
   "source": [
    "for key in tqdm(vals):\n",
    "    key1 = transform(key, ill_url_ids)\n",
    "    \n",
    "    for j in range(2,11):\n",
    "        var = np.sum(url_simple[key1].click_poses[:j])/(np.sum(url_simple[key1].show_poses[:j])+0.0000001)\n",
    "        click_feats['url_cumul_ctr{}'.format(j)].append(var)\n",
    "        \n",
    "    click_feats['url_clicks_out'].append(url_simple[key1].total_clicks - np.sum(url_simple[key1].show_poses_cl))\n",
    "    click_feats['url_shows_out'].append(url_simple[key1].total_shows - np.sum(url_simple[key1].show_poses))\n",
    "    var = url_simple[key1].total_clicks - np.sum(url_simple[key1].show_poses_cl)\n",
    "    click_feats['url_clicks_out_prob'].append(var/(url_simple[key1].total_clicks+0.0000001))\n",
    "    var = url_simple[key1].total_shows - np.sum(url_simple[key1].show_poses)\n",
    "    click_feats['url_shows_out_prob'].append(var/(url_simple[key1].total_shows+0.0000001))\n",
    "    \n",
    "    click_feats['url_higher_prob'].append(url_simple[key1].is_click_on_higher_pos/(url_simple[key1].total_shows+0.0000001))\n",
    "    click_feats['url_lower_prob'].append(url_simple[key1].is_click_on_lower_pos/(url_simple[key1].total_shows+0.0000001))\n",
    "    click_feats['url_num_higher_cl'].append(url_simple[key1].is_click_on_higher_pos)\n",
    "    click_feats['url_num_lower_cl'].append(url_simple[key1].is_click_on_lower_pos)"
   ]
  },
  {
   "cell_type": "code",
   "execution_count": 7,
   "id": "17e59dff",
   "metadata": {},
   "outputs": [],
   "source": [
    "url_simple = None"
   ]
  },
  {
   "cell_type": "code",
   "execution_count": 8,
   "id": "befde36a",
   "metadata": {},
   "outputs": [
    {
     "name": "stderr",
     "output_type": "stream",
     "text": [
      "100%|██████████| 606050/606050 [01:35<00:00, 6315.55it/s]\n"
     ]
    }
   ],
   "source": [
    "for key in tqdm(vals):\n",
    "    key1 = transform(key, ill_url_ids)\n",
    "    key1 = doc_to_host[key1]\n",
    "    \n",
    "    for j in range(2,11):\n",
    "        var = np.sum(host_simple[key1].click_poses[:j])/(np.sum(host_simple[key1].show_poses[:j])+0.0000001)\n",
    "        click_feats1['host_cumul_ctr{}'.format(j)].append(var)\n",
    "        \n",
    "    click_feats1['host_clicks_out'].append(host_simple[key1].total_clicks - np.sum(host_simple[key1].show_poses_cl))\n",
    "    click_feats1['host_shows_out'].append(host_simple[key1].total_shows - np.sum(host_simple[key1].show_poses))\n",
    "    var = host_simple[key1].total_clicks - np.sum(host_simple[key1].show_poses_cl)\n",
    "    click_feats1['host_clicks_out_prob'].append(var/(host_simple[key1].total_clicks+0.0000001))\n",
    "    var = host_simple[key1].total_shows - np.sum(host_simple[key1].show_poses)\n",
    "    click_feats1['host_shows_out_prob'].append(var/(host_simple[key1].total_shows+0.0000001))\n",
    "    \n",
    "    click_feats1['host_higher_prob'].append(host_simple[key1].is_click_on_higher_pos/(host_simple[key1].total_shows+0.0000001))\n",
    "    click_feats1['host_lower_prob'].append(host_simple[key1].is_click_on_lower_pos/(host_simple[key1].total_shows+0.0000001))\n",
    "    click_feats1['host_num_higher_cl'].append(host_simple[key1].is_click_on_higher_pos)\n",
    "    click_feats1['host_num_lower_cl'].append(host_simple[key1].is_click_on_lower_pos)"
   ]
  },
  {
   "cell_type": "code",
   "execution_count": 9,
   "id": "8bd8c25e",
   "metadata": {},
   "outputs": [],
   "source": [
    "with open(\"click_feats_extra.pickle\", 'wb') as file:\n",
    "    pickle.dump(click_feats, file)"
   ]
  },
  {
   "cell_type": "code",
   "execution_count": 10,
   "id": "f8c74de3",
   "metadata": {},
   "outputs": [],
   "source": [
    "with open(\"click_feats_extra1.pickle\", 'wb') as file:\n",
    "    pickle.dump(click_feats1, file)"
   ]
  }
 ],
 "metadata": {
  "kernelspec": {
   "display_name": "Python 3",
   "language": "python",
   "name": "python3"
  },
  "language_info": {
   "codemirror_mode": {
    "name": "ipython",
    "version": 3
   },
   "file_extension": ".py",
   "mimetype": "text/x-python",
   "name": "python",
   "nbconvert_exporter": "python",
   "pygments_lexer": "ipython3",
   "version": "3.8.8"
  }
 },
 "nbformat": 4,
 "nbformat_minor": 5
}
