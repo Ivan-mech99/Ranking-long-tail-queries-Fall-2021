{
 "cells": [
  {
   "cell_type": "code",
   "execution_count": 1,
   "id": "02f6bc63",
   "metadata": {},
   "outputs": [],
   "source": [
    "from tqdm import tqdm\n",
    "import pandas as pd\n",
    "import os\n",
    "import gzip\n",
    "import zipfile\n",
    "import shutil\n",
    "from time import sleep\n",
    "import pymorphy2\n",
    "from pyaspeller import YandexSpeller\n",
    "from lru import LRU\n",
    "import pickle\n",
    "from time import sleep\n",
    "from concurrent.futures import ThreadPoolExecutor\n",
    "import tarfile\n",
    "import bz2\n",
    "import sys\n",
    "import numpy as np\n",
    "with open('ill_url_ids.pickle', 'rb') as file:\n",
    "    ill_url_ids = pickle.load(file)\n",
    "def transform(arg, ill_url_ids):\n",
    "    if arg not in ill_url_ids:\n",
    "        return arg\n",
    "    else:\n",
    "        return ill_url_ids[arg]\n",
    "alpha = np.array([0.41,0.16,0.105,0.08,0.06,0.05,0.35,0.3,0.25,0.2])\n",
    "class URL_info():\n",
    "    def __init__(self):\n",
    "        self.total_shows = 0\n",
    "        self.total_clicks = 0\n",
    "        self.num_first_clicks = 0\n",
    "        self.num_last_clicks = 0\n",
    "        self.show_poses = np.zeros((10,),dtype='int')\n",
    "        self.show_poses_cl = np.zeros((10,),dtype='int')\n",
    "        self.click_poses = np.zeros((10,),dtype='int')\n",
    "        self.time = 0\n",
    "        self.clicks_on_higher_pos = 0\n",
    "        self.clicks_on_lower_pos = 0\n",
    "        self.clicks_after_this = 0\n",
    "        self.clicks_before_this = 0\n",
    "        self.is_click_on_higher_pos = 0\n",
    "        self.is_click_on_lower_pos = 0"
   ]
  },
  {
   "cell_type": "code",
   "execution_count": 2,
   "id": "602c16e5",
   "metadata": {},
   "outputs": [],
   "source": [
    "df_marks = pd.read_csv('train.marks.tsv', delimiter='\\t', header=None)\n",
    "df_marks = df_marks.rename(columns={0: \"QueryId\", 1: \"DocumentId\"})\n",
    "df_marks = df_marks.drop(columns=[2])\n",
    "df_example = pd.read_csv('sample.csv')\n",
    "all_groups = df_marks.append(df_example)\n",
    "all_groups = all_groups.reset_index()\n",
    "all_groups = all_groups.drop(columns=['index'])\n",
    "all_groups = all_groups.sort_values(by=['QueryId', 'DocumentId']).reset_index()\n",
    "all_groups = all_groups.drop(columns=['index'])\n",
    "rev_frame = all_groups.sort_values(by=['DocumentId', 'QueryId']).reset_index()\n",
    "rev_frame = rev_frame.drop(columns=['index'])"
   ]
  },
  {
   "cell_type": "code",
   "execution_count": 3,
   "id": "38cc02dd",
   "metadata": {},
   "outputs": [
    {
     "data": {
      "text/html": [
       "<div>\n",
       "<style scoped>\n",
       "    .dataframe tbody tr th:only-of-type {\n",
       "        vertical-align: middle;\n",
       "    }\n",
       "\n",
       "    .dataframe tbody tr th {\n",
       "        vertical-align: top;\n",
       "    }\n",
       "\n",
       "    .dataframe thead th {\n",
       "        text-align: right;\n",
       "    }\n",
       "</style>\n",
       "<table border=\"1\" class=\"dataframe\">\n",
       "  <thead>\n",
       "    <tr style=\"text-align: right;\">\n",
       "      <th></th>\n",
       "      <th>QueryId</th>\n",
       "      <th>DocumentId</th>\n",
       "    </tr>\n",
       "  </thead>\n",
       "  <tbody>\n",
       "    <tr>\n",
       "      <th>0</th>\n",
       "      <td>0</td>\n",
       "      <td>1443</td>\n",
       "    </tr>\n",
       "    <tr>\n",
       "      <th>1</th>\n",
       "      <td>0</td>\n",
       "      <td>5912</td>\n",
       "    </tr>\n",
       "    <tr>\n",
       "      <th>2</th>\n",
       "      <td>0</td>\n",
       "      <td>5963</td>\n",
       "    </tr>\n",
       "    <tr>\n",
       "      <th>3</th>\n",
       "      <td>0</td>\n",
       "      <td>6096</td>\n",
       "    </tr>\n",
       "    <tr>\n",
       "      <th>4</th>\n",
       "      <td>0</td>\n",
       "      <td>6230</td>\n",
       "    </tr>\n",
       "    <tr>\n",
       "      <th>...</th>\n",
       "      <td>...</td>\n",
       "      <td>...</td>\n",
       "    </tr>\n",
       "    <tr>\n",
       "      <th>606045</th>\n",
       "      <td>6310</td>\n",
       "      <td>497350</td>\n",
       "    </tr>\n",
       "    <tr>\n",
       "      <th>606046</th>\n",
       "      <td>6310</td>\n",
       "      <td>512263</td>\n",
       "    </tr>\n",
       "    <tr>\n",
       "      <th>606047</th>\n",
       "      <td>6310</td>\n",
       "      <td>529857</td>\n",
       "    </tr>\n",
       "    <tr>\n",
       "      <th>606048</th>\n",
       "      <td>6310</td>\n",
       "      <td>551291</td>\n",
       "    </tr>\n",
       "    <tr>\n",
       "      <th>606049</th>\n",
       "      <td>6310</td>\n",
       "      <td>561732</td>\n",
       "    </tr>\n",
       "  </tbody>\n",
       "</table>\n",
       "<p>606050 rows × 2 columns</p>\n",
       "</div>"
      ],
      "text/plain": [
       "        QueryId  DocumentId\n",
       "0             0        1443\n",
       "1             0        5912\n",
       "2             0        5963\n",
       "3             0        6096\n",
       "4             0        6230\n",
       "...         ...         ...\n",
       "606045     6310      497350\n",
       "606046     6310      512263\n",
       "606047     6310      529857\n",
       "606048     6310      551291\n",
       "606049     6310      561732\n",
       "\n",
       "[606050 rows x 2 columns]"
      ]
     },
     "execution_count": 3,
     "metadata": {},
     "output_type": "execute_result"
    }
   ],
   "source": [
    "all_groups"
   ]
  },
  {
   "cell_type": "code",
   "execution_count": 4,
   "id": "2e16bae7",
   "metadata": {},
   "outputs": [],
   "source": [
    "vals = all_groups['DocumentId'].values\n",
    "qifs = all_groups['QueryId'].values"
   ]
  },
  {
   "cell_type": "code",
   "execution_count": 5,
   "id": "2bfa5715",
   "metadata": {},
   "outputs": [],
   "source": [
    "with open(\"doc_to_host.pickle\", 'rb') as file:\n",
    "    doc_to_host = pickle.load(file)\n",
    "with open(\"QDP.pickle\", 'rb') as file:\n",
    "    url_simple = pickle.load(file)\n",
    "with open(\"QHP.pickle\", 'rb') as file:\n",
    "    host_simple = pickle.load(file)"
   ]
  },
  {
   "cell_type": "code",
   "execution_count": 6,
   "id": "09ecce55",
   "metadata": {},
   "outputs": [],
   "source": [
    "click_feats = dict()\n",
    "click_feats1 = dict()\n",
    "click_feats2 = dict()\n",
    "click_feats['QD_shows'] = []\n",
    "click_feats['QD_clicks'] = []\n",
    "click_feats['QD_ctr'] = []\n",
    "\n",
    "for i in range(1,11):\n",
    "    click_feats['QD_showpos_{}'.format(i)] = []\n",
    "\n",
    "for i in range(1,11):\n",
    "    click_feats['QD_clickpos_{}'.format(i)] = []\n",
    "\n",
    "for i in range(1,11):\n",
    "    click_feats1['QD_ctrpos_{}'.format(i)] = []\n",
    "\n",
    "click_feats1['QD_pbm'] = []\n",
    "click_feats1['QD_time'] = []\n",
    "click_feats1['QD_avg_time'] = []\n",
    "\n",
    "click_feats['QH_shows'] = []\n",
    "click_feats['QH_clicks'] = []\n",
    "click_feats['QH_ctr'] = []\n",
    "\n",
    "for i in range(1,11):\n",
    "    click_feats2['QH_showpos_{}'.format(i)] = []\n",
    "\n",
    "for i in range(1,11):\n",
    "    click_feats2['QH_clickpos_{}'.format(i)] = []\n",
    "\n",
    "for i in range(1,11):\n",
    "    click_feats1['QH_ctrpos_{}'.format(i)] = []\n",
    "\n",
    "click_feats1['QH_pbm'] = []\n",
    "click_feats1['QH_time'] = []\n",
    "click_feats1['QH_avg_time'] = []"
   ]
  },
  {
   "cell_type": "code",
   "execution_count": 7,
   "id": "e1d47226",
   "metadata": {},
   "outputs": [
    {
     "name": "stderr",
     "output_type": "stream",
     "text": [
      "100%|██████████| 606050/606050 [00:54<00:00, 11054.85it/s]\n"
     ]
    }
   ],
   "source": [
    "for i in tqdm(range(len(vals))):\n",
    "    key = vals[i]\n",
    "    Q = qifs[i]\n",
    "    key1 = transform(key, ill_url_ids)\n",
    "    click_feats['QD_shows'].append(url_simple[Q][key1].total_shows)\n",
    "    click_feats['QD_clicks'].append(url_simple[Q][key1].total_clicks)\n",
    "    if url_simple[Q][key1].total_shows==0:\n",
    "        click_feats['QD_ctr'].append(0.0)\n",
    "    else:\n",
    "        click_feats['QD_ctr'].append(url_simple[Q][key1].total_clicks/url_simple[Q][key1].total_shows)\n",
    "    for j in range(1,11):\n",
    "        click_feats['QD_showpos_{}'.format(j)].append(url_simple[Q][key1].show_poses[j-1])\n",
    "    \n",
    "    for j in range(1,11):\n",
    "        click_feats['QD_clickpos_{}'.format(j)].append(url_simple[Q][key1].click_poses[j-1])\n",
    "    \n",
    "    for j in range(1,11):\n",
    "        click_feats1['QD_ctrpos_{}'.format(j)].append(url_simple[Q][key1].click_poses[j-1]/(0.0000001+url_simple[Q][key1].show_poses[j-1]))\n",
    "    \n",
    "    click_feats1['QD_pbm'].append(url_simple[Q][key1].total_clicks/(np.sum(url_simple[Q][key1].show_poses*alpha)+0.0000001))\n",
    "    click_feats1['QD_time'].append(url_simple[Q][key1].time)\n",
    "    click_feats1['QD_avg_time'].append(url_simple[Q][key1].time/(url_simple[Q][key1].total_clicks+0.0000001))"
   ]
  },
  {
   "cell_type": "code",
   "execution_count": 8,
   "id": "941885b1",
   "metadata": {},
   "outputs": [
    {
     "name": "stderr",
     "output_type": "stream",
     "text": [
      "100%|██████████| 606050/606050 [00:54<00:00, 11138.94it/s]\n"
     ]
    }
   ],
   "source": [
    "for i in tqdm(range(len(vals))):\n",
    "    key = vals[i]\n",
    "    Q = qifs[i]\n",
    "    key1 = transform(key, ill_url_ids)\n",
    "    key1 = doc_to_host[key1]\n",
    "    click_feats['QH_shows'].append(host_simple[Q][key1].total_shows)\n",
    "    click_feats['QH_clicks'].append(host_simple[Q][key1].total_clicks)\n",
    "    if host_simple[Q][key1].total_shows==0:\n",
    "        click_feats['QH_ctr'].append(0.0)\n",
    "    else:\n",
    "        click_feats['QH_ctr'].append(host_simple[Q][key1].total_clicks/host_simple[Q][key1].total_shows)\n",
    "    for j in range(1,11):\n",
    "        click_feats2['QH_showpos_{}'.format(j)].append(host_simple[Q][key1].show_poses[j-1])\n",
    "    \n",
    "    for j in range(1,11):\n",
    "        click_feats2['QH_clickpos_{}'.format(j)].append(host_simple[Q][key1].click_poses[j-1])\n",
    "    \n",
    "    for j in range(1,11):\n",
    "        click_feats1['QH_ctrpos_{}'.format(j)].append(host_simple[Q][key1].click_poses[j-1]/(0.0000001+host_simple[Q][key1].show_poses[j-1]))\n",
    "    \n",
    "    click_feats1['QH_pbm'].append(host_simple[Q][key1].total_clicks/(np.sum(host_simple[Q][key1].show_poses*alpha)+0.0000001))\n",
    "    click_feats1['QH_time'].append(host_simple[Q][key1].time)\n",
    "    click_feats1['QH_avg_time'].append(host_simple[Q][key1].time/(host_simple[Q][key1].total_clicks+0.0000001))"
   ]
  },
  {
   "cell_type": "code",
   "execution_count": 9,
   "id": "1ee391c5",
   "metadata": {},
   "outputs": [],
   "source": [
    "with open(\"click_feats_pair.pickle\", 'wb') as file:\n",
    "    pickle.dump(click_feats, file)"
   ]
  },
  {
   "cell_type": "code",
   "execution_count": 10,
   "id": "f504c03d",
   "metadata": {},
   "outputs": [],
   "source": [
    "with open(\"click_feats_pair1.pickle\", 'wb') as file:\n",
    "    pickle.dump(click_feats1, file)"
   ]
  },
  {
   "cell_type": "code",
   "execution_count": 11,
   "id": "3820fe37",
   "metadata": {},
   "outputs": [],
   "source": [
    "with open(\"click_feats_pair2.pickle\", 'wb') as file:\n",
    "    pickle.dump(click_feats2, file)"
   ]
  },
  {
   "cell_type": "code",
   "execution_count": 12,
   "id": "9472b840",
   "metadata": {},
   "outputs": [
    {
     "data": {
      "text/plain": [
       "3"
      ]
     },
     "execution_count": 12,
     "metadata": {},
     "output_type": "execute_result"
    }
   ],
   "source": [
    "1+2"
   ]
  },
  {
   "cell_type": "code",
   "execution_count": null,
   "id": "d9c714b8",
   "metadata": {},
   "outputs": [],
   "source": []
  }
 ],
 "metadata": {
  "kernelspec": {
   "display_name": "Python 3",
   "language": "python",
   "name": "python3"
  },
  "language_info": {
   "codemirror_mode": {
    "name": "ipython",
    "version": 3
   },
   "file_extension": ".py",
   "mimetype": "text/x-python",
   "name": "python",
   "nbconvert_exporter": "python",
   "pygments_lexer": "ipython3",
   "version": "3.8.8"
  }
 },
 "nbformat": 4,
 "nbformat_minor": 5
}
