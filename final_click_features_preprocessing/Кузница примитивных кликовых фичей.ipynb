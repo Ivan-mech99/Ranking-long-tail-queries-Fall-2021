{
 "cells": [
  {
   "cell_type": "code",
   "execution_count": 1,
   "id": "6e7a6bf5",
   "metadata": {},
   "outputs": [],
   "source": [
    "from tqdm import tqdm\n",
    "import pandas as pd\n",
    "import os\n",
    "import gzip\n",
    "import zipfile\n",
    "import shutil\n",
    "from time import sleep\n",
    "import pymorphy2\n",
    "from pyaspeller import YandexSpeller\n",
    "from lru import LRU\n",
    "import pickle\n",
    "from time import sleep\n",
    "from concurrent.futures import ThreadPoolExecutor\n",
    "import tarfile\n",
    "import bz2\n",
    "import sys\n",
    "import numpy as np\n",
    "with open('ill_url_ids.pickle', 'rb') as file:\n",
    "    ill_url_ids = pickle.load(file)\n",
    "def transform(arg, ill_url_ids):\n",
    "    if arg not in ill_url_ids:\n",
    "        return arg\n",
    "    else:\n",
    "        return ill_url_ids[arg]"
   ]
  },
  {
   "cell_type": "code",
   "execution_count": 2,
   "id": "af65614c",
   "metadata": {},
   "outputs": [],
   "source": [
    "alpha = np.array([0.41,0.16,0.105,0.08,0.06,0.05,0.35,0.3,0.25,0.2])"
   ]
  },
  {
   "cell_type": "code",
   "execution_count": 3,
   "id": "79dc534a",
   "metadata": {},
   "outputs": [],
   "source": [
    "class URL_info():\n",
    "    def __init__(self):\n",
    "        self.total_shows = 0\n",
    "        self.total_clicks = 0\n",
    "        self.num_first_clicks = 0\n",
    "        self.num_last_clicks = 0\n",
    "        self.show_poses = np.zeros((10,),dtype='int')\n",
    "        self.show_poses_cl = np.zeros((10,),dtype='int')\n",
    "        self.click_poses = np.zeros((10,),dtype='int')\n",
    "        self.time = 0\n",
    "        self.clicks_on_higher_pos = 0\n",
    "        self.clicks_on_lower_pos = 0\n",
    "        self.clicks_after_this = 0\n",
    "        self.clicks_before_this = 0\n",
    "        self.is_click_on_higher_pos = 0\n",
    "        self.is_click_on_lower_pos = 0"
   ]
  },
  {
   "cell_type": "code",
   "execution_count": 6,
   "id": "b3db4246",
   "metadata": {},
   "outputs": [],
   "source": [
    "with open('query_dict/id_querry_clean.pickle', 'rb') as file:\n",
    "    id_querry_clean = pickle.load(file)"
   ]
  },
  {
   "cell_type": "code",
   "execution_count": 7,
   "id": "d2c27904",
   "metadata": {},
   "outputs": [],
   "source": [
    "df_marks = pd.read_csv('train.marks.tsv', delimiter='\\t', header=None)\n",
    "df_marks = df_marks.rename(columns={0: \"QueryId\", 1: \"DocumentId\"})\n",
    "df_marks = df_marks.drop(columns=[2])\n",
    "df_example = pd.read_csv('sample.csv')\n",
    "all_groups = df_marks.append(df_example)\n",
    "all_groups = all_groups.reset_index()\n",
    "all_groups = all_groups.drop(columns=['index'])\n",
    "all_groups = all_groups.sort_values(by=['QueryId', 'DocumentId']).reset_index()\n",
    "all_groups = all_groups.drop(columns=['index'])\n",
    "rev_frame = all_groups.sort_values(by=['DocumentId', 'QueryId']).reset_index()\n",
    "rev_frame = rev_frame.drop(columns=['index'])"
   ]
  },
  {
   "cell_type": "code",
   "execution_count": 8,
   "id": "c50b39cc",
   "metadata": {},
   "outputs": [],
   "source": [
    "vals = all_groups['DocumentId'].values"
   ]
  },
  {
   "cell_type": "code",
   "execution_count": 9,
   "id": "8897e41a",
   "metadata": {},
   "outputs": [],
   "source": [
    "with open(\"doc_to_host.pickle\", 'rb') as file:\n",
    "    doc_to_host = pickle.load(file)\n",
    "with open(\"url_simple.pickle\", 'rb') as file:\n",
    "    url_simple = pickle.load(file)\n",
    "with open(\"host_simple.pickle\", 'rb') as file:\n",
    "    host_simple = pickle.load(file)"
   ]
  },
  {
   "cell_type": "code",
   "execution_count": 10,
   "id": "407561bb",
   "metadata": {},
   "outputs": [],
   "source": [
    "click_feats = dict()\n",
    "click_feats1 = dict()\n",
    "click_feats2 = dict()\n",
    "click_feats['url_shows'] = []\n",
    "click_feats['url_clicks'] = []\n",
    "click_feats['url_ctr'] = []\n",
    "\n",
    "click_feats['url_showpos_1'] = []\n",
    "click_feats['url_showpos_2'] = []\n",
    "click_feats['url_showpos_3'] = []\n",
    "click_feats['url_showpos_4'] = []\n",
    "click_feats['url_showpos_5'] = []\n",
    "click_feats['url_showpos_6'] = []\n",
    "click_feats['url_showpos_7'] = []\n",
    "click_feats['url_showpos_8'] = []\n",
    "click_feats['url_showpos_9'] = []\n",
    "click_feats['url_showpos_10'] = []\n",
    "\n",
    "click_feats['url_clickpos_1'] = []\n",
    "click_feats['url_clickpos_2'] = []\n",
    "click_feats['url_clickpos_3'] = []\n",
    "click_feats['url_clickpos_4'] = []\n",
    "click_feats['url_clickpos_5'] = []\n",
    "click_feats['url_clickpos_6'] = []\n",
    "click_feats['url_clickpos_7'] = []\n",
    "click_feats['url_clickpos_8'] = []\n",
    "click_feats['url_clickpos_9'] = []\n",
    "click_feats['url_clickpos_10'] = []\n",
    "\n",
    "click_feats1['url_ctrpos_1'] = []\n",
    "click_feats1['url_ctrpos_2'] = []\n",
    "click_feats1['url_ctrpos_3'] = []\n",
    "click_feats1['url_ctrpos_4'] = []\n",
    "click_feats1['url_ctrpos_5'] = []\n",
    "click_feats1['url_ctrpos_6'] = []\n",
    "click_feats1['url_ctrpos_7'] = []\n",
    "click_feats1['url_ctrpos_8'] = []\n",
    "click_feats1['url_ctrpos_9'] = []\n",
    "click_feats1['url_ctrpos_10'] = []\n",
    "\n",
    "click_feats1['url_pbm'] = []\n",
    "click_feats1['url_time'] = []\n",
    "click_feats1['url_avg_time'] = []\n",
    "\n",
    "click_feats['host_shows'] = []\n",
    "click_feats['host_clicks'] = []\n",
    "click_feats['host_ctr'] = []\n",
    "\n",
    "click_feats2['host_showpos_1'] = []\n",
    "click_feats2['host_showpos_2'] = []\n",
    "click_feats2['host_showpos_3'] = []\n",
    "click_feats2['host_showpos_4'] = []\n",
    "click_feats2['host_showpos_5'] = []\n",
    "click_feats2['host_showpos_6'] = []\n",
    "click_feats2['host_showpos_7'] = []\n",
    "click_feats2['host_showpos_8'] = []\n",
    "click_feats2['host_showpos_9'] = []\n",
    "click_feats2['host_showpos_10'] = []\n",
    "\n",
    "click_feats2['host_clickpos_1'] = []\n",
    "click_feats2['host_clickpos_2'] = []\n",
    "click_feats2['host_clickpos_3'] = []\n",
    "click_feats2['host_clickpos_4'] = []\n",
    "click_feats2['host_clickpos_5'] = []\n",
    "click_feats2['host_clickpos_6'] = []\n",
    "click_feats2['host_clickpos_7'] = []\n",
    "click_feats2['host_clickpos_8'] = []\n",
    "click_feats2['host_clickpos_9'] = []\n",
    "click_feats2['host_clickpos_10'] = []\n",
    "\n",
    "click_feats1['host_ctrpos_1'] = []\n",
    "click_feats1['host_ctrpos_2'] = []\n",
    "click_feats1['host_ctrpos_3'] = []\n",
    "click_feats1['host_ctrpos_4'] = []\n",
    "click_feats1['host_ctrpos_5'] = []\n",
    "click_feats1['host_ctrpos_6'] = []\n",
    "click_feats1['host_ctrpos_7'] = []\n",
    "click_feats1['host_ctrpos_8'] = []\n",
    "click_feats1['host_ctrpos_9'] = []\n",
    "click_feats1['host_ctrpos_10'] = []\n",
    "\n",
    "click_feats1['host_pbm'] = []\n",
    "click_feats1['host_time'] = []\n",
    "click_feats1['host_avg_time'] = []"
   ]
  },
  {
   "cell_type": "code",
   "execution_count": 11,
   "id": "6459f9ee",
   "metadata": {},
   "outputs": [
    {
     "name": "stderr",
     "output_type": "stream",
     "text": [
      "100%|██████████| 606050/606050 [01:04<00:00, 9379.21it/s] \n"
     ]
    }
   ],
   "source": [
    "for key in tqdm(vals):\n",
    "    key1 = transform(key, ill_url_ids)\n",
    "    click_feats['url_shows'].append(url_simple[key1].total_shows)\n",
    "    click_feats['url_clicks'].append(url_simple[key1].total_clicks)\n",
    "    if url_simple[key1].total_shows==0:\n",
    "        click_feats['url_ctr'].append(0.0)\n",
    "    else:\n",
    "        click_feats['url_ctr'].append(url_simple[key1].total_clicks/url_simple[key1].total_shows)\n",
    "    click_feats['url_showpos_1'].append(url_simple[key1].show_poses[0])\n",
    "    click_feats['url_showpos_2'].append(url_simple[key1].show_poses[1])\n",
    "    click_feats['url_showpos_3'].append(url_simple[key1].show_poses[2])\n",
    "    click_feats['url_showpos_4'].append(url_simple[key1].show_poses[3])\n",
    "    click_feats['url_showpos_5'].append(url_simple[key1].show_poses[4])\n",
    "    click_feats['url_showpos_6'].append(url_simple[key1].show_poses[5])\n",
    "    click_feats['url_showpos_7'].append(url_simple[key1].show_poses[6])\n",
    "    click_feats['url_showpos_8'].append(url_simple[key1].show_poses[7])\n",
    "    click_feats['url_showpos_9'].append(url_simple[key1].show_poses[8])\n",
    "    click_feats['url_showpos_10'].append(url_simple[key1].show_poses[9])\n",
    "    \n",
    "    click_feats['url_clickpos_1'].append(url_simple[key1].click_poses[0])\n",
    "    click_feats['url_clickpos_2'].append(url_simple[key1].click_poses[1])\n",
    "    click_feats['url_clickpos_3'].append(url_simple[key1].click_poses[2])\n",
    "    click_feats['url_clickpos_4'].append(url_simple[key1].click_poses[3])\n",
    "    click_feats['url_clickpos_5'].append(url_simple[key1].click_poses[4])\n",
    "    click_feats['url_clickpos_6'].append(url_simple[key1].click_poses[5])\n",
    "    click_feats['url_clickpos_7'].append(url_simple[key1].click_poses[6])\n",
    "    click_feats['url_clickpos_8'].append(url_simple[key1].click_poses[7])\n",
    "    click_feats['url_clickpos_9'].append(url_simple[key1].click_poses[8])\n",
    "    click_feats['url_clickpos_10'].append(url_simple[key1].click_poses[9])\n",
    "    \n",
    "    click_feats1['url_ctrpos_1'].append(url_simple[key1].click_poses[0]/(0.0000001+url_simple[key1].show_poses[0]))\n",
    "    click_feats1['url_ctrpos_2'].append(url_simple[key1].click_poses[1]/(0.0000001+url_simple[key1].show_poses[1]))\n",
    "    click_feats1['url_ctrpos_3'].append(url_simple[key1].click_poses[2]/(0.0000001+url_simple[key1].show_poses[2]))\n",
    "    click_feats1['url_ctrpos_4'].append(url_simple[key1].click_poses[3]/(0.0000001+url_simple[key1].show_poses[3]))\n",
    "    click_feats1['url_ctrpos_5'].append(url_simple[key1].click_poses[4]/(0.0000001+url_simple[key1].show_poses[4]))\n",
    "    click_feats1['url_ctrpos_6'].append(url_simple[key1].click_poses[5]/(0.0000001+url_simple[key1].show_poses[5]))\n",
    "    click_feats1['url_ctrpos_7'].append(url_simple[key1].click_poses[6]/(0.0000001+url_simple[key1].show_poses[6]))\n",
    "    click_feats1['url_ctrpos_8'].append(url_simple[key1].click_poses[7]/(0.0000001+url_simple[key1].show_poses[7]))\n",
    "    click_feats1['url_ctrpos_9'].append(url_simple[key1].click_poses[8]/(0.0000001+url_simple[key1].show_poses[8]))\n",
    "    click_feats1['url_ctrpos_10'].append(url_simple[key1].click_poses[9]/(0.0000001+url_simple[key1].show_poses[9]))\n",
    "    \n",
    "    click_feats1['url_pbm'].append(url_simple[key1].total_clicks/(np.sum(url_simple[key1].show_poses*alpha)+0.0000001))\n",
    "    click_feats1['url_time'].append(url_simple[key1].time)\n",
    "    click_feats1['url_avg_time'].append(url_simple[key1].time/(url_simple[key1].total_clicks+0.0000001))"
   ]
  },
  {
   "cell_type": "code",
   "execution_count": 12,
   "id": "f01bc521",
   "metadata": {},
   "outputs": [
    {
     "name": "stderr",
     "output_type": "stream",
     "text": [
      "100%|██████████| 606050/606050 [00:58<00:00, 10417.95it/s]\n"
     ]
    }
   ],
   "source": [
    "for key in tqdm(vals):\n",
    "    key1 = transform(key, ill_url_ids)\n",
    "    key1 = doc_to_host[key1]\n",
    "    click_feats['host_shows'].append(host_simple[key1].total_shows)\n",
    "    click_feats['host_clicks'].append(host_simple[key1].total_clicks)\n",
    "    if host_simple[key1].total_shows==0:\n",
    "        click_feats['host_ctr'].append(0.0)\n",
    "    else:\n",
    "        click_feats['host_ctr'].append(host_simple[key1].total_clicks/host_simple[key1].total_shows)\n",
    "    click_feats2['host_showpos_1'].append(host_simple[key1].show_poses[0])\n",
    "    click_feats2['host_showpos_2'].append(host_simple[key1].show_poses[1])\n",
    "    click_feats2['host_showpos_3'].append(host_simple[key1].show_poses[2])\n",
    "    click_feats2['host_showpos_4'].append(host_simple[key1].show_poses[3])\n",
    "    click_feats2['host_showpos_5'].append(host_simple[key1].show_poses[4])\n",
    "    click_feats2['host_showpos_6'].append(host_simple[key1].show_poses[5])\n",
    "    click_feats2['host_showpos_7'].append(host_simple[key1].show_poses[6])\n",
    "    click_feats2['host_showpos_8'].append(host_simple[key1].show_poses[7])\n",
    "    click_feats2['host_showpos_9'].append(host_simple[key1].show_poses[8])\n",
    "    click_feats2['host_showpos_10'].append(host_simple[key1].show_poses[9])\n",
    "    \n",
    "    click_feats2['host_clickpos_1'].append(host_simple[key1].click_poses[0])\n",
    "    click_feats2['host_clickpos_2'].append(host_simple[key1].click_poses[1])\n",
    "    click_feats2['host_clickpos_3'].append(host_simple[key1].click_poses[2])\n",
    "    click_feats2['host_clickpos_4'].append(host_simple[key1].click_poses[3])\n",
    "    click_feats2['host_clickpos_5'].append(host_simple[key1].click_poses[4])\n",
    "    click_feats2['host_clickpos_6'].append(host_simple[key1].click_poses[5])\n",
    "    click_feats2['host_clickpos_7'].append(host_simple[key1].click_poses[6])\n",
    "    click_feats2['host_clickpos_8'].append(host_simple[key1].click_poses[7])\n",
    "    click_feats2['host_clickpos_9'].append(host_simple[key1].click_poses[8])\n",
    "    click_feats2['host_clickpos_10'].append(host_simple[key1].click_poses[9])\n",
    "    \n",
    "    click_feats1['host_ctrpos_1'].append(host_simple[key1].click_poses[0]/(0.0000001+host_simple[key1].show_poses[0]))\n",
    "    click_feats1['host_ctrpos_2'].append(host_simple[key1].click_poses[1]/(0.0000001+host_simple[key1].show_poses[1]))\n",
    "    click_feats1['host_ctrpos_3'].append(host_simple[key1].click_poses[2]/(0.0000001+host_simple[key1].show_poses[2]))\n",
    "    click_feats1['host_ctrpos_4'].append(host_simple[key1].click_poses[3]/(0.0000001+host_simple[key1].show_poses[3]))\n",
    "    click_feats1['host_ctrpos_5'].append(host_simple[key1].click_poses[4]/(0.0000001+host_simple[key1].show_poses[4]))\n",
    "    click_feats1['host_ctrpos_6'].append(host_simple[key1].click_poses[5]/(0.0000001+host_simple[key1].show_poses[5]))\n",
    "    click_feats1['host_ctrpos_7'].append(host_simple[key1].click_poses[6]/(0.0000001+host_simple[key1].show_poses[6]))\n",
    "    click_feats1['host_ctrpos_8'].append(host_simple[key1].click_poses[7]/(0.0000001+host_simple[key1].show_poses[7]))\n",
    "    click_feats1['host_ctrpos_9'].append(host_simple[key1].click_poses[8]/(0.0000001+host_simple[key1].show_poses[8]))\n",
    "    click_feats1['host_ctrpos_10'].append(host_simple[key1].click_poses[9]/(0.0000001+host_simple[key1].show_poses[9]))\n",
    "    \n",
    "    click_feats1['host_pbm'].append(host_simple[key1].total_clicks/(np.sum(host_simple[key1].show_poses*alpha)+0.0000001))\n",
    "    click_feats1['host_time'].append(host_simple[key1].time)\n",
    "    click_feats1['host_avg_time'].append(host_simple[key1].time/(host_simple[key1].total_clicks+0.0000001))"
   ]
  },
  {
   "cell_type": "code",
   "execution_count": 14,
   "id": "4e91c26d",
   "metadata": {},
   "outputs": [],
   "source": [
    "with open(\"click_feats_advanced1.pickle\", 'wb') as file:\n",
    "    pickle.dump(click_feats1, file)"
   ]
  },
  {
   "cell_type": "code",
   "execution_count": 15,
   "id": "8b2ef428",
   "metadata": {},
   "outputs": [],
   "source": [
    "with open(\"click_feats_advanced2.pickle\", 'wb') as file:\n",
    "    pickle.dump(click_feats2, file)"
   ]
  },
  {
   "cell_type": "code",
   "execution_count": 16,
   "id": "8b1d6acb",
   "metadata": {},
   "outputs": [
    {
     "data": {
      "text/plain": [
       "16"
      ]
     },
     "execution_count": 16,
     "metadata": {},
     "output_type": "execute_result"
    }
   ],
   "source": [
    "with open(\"click_feats_advanced.pickle\", 'wb') as file:\n",
    "    pickle.dump(click_feats, file)\n",
    "print(16)"
   ]
  },
  {
   "cell_type": "code",
   "execution_count": null,
   "id": "411ba6fc",
   "metadata": {},
   "outputs": [],
   "source": []
  }
 ],
 "metadata": {
  "kernelspec": {
   "display_name": "Python 3",
   "language": "python",
   "name": "python3"
  },
  "language_info": {
   "codemirror_mode": {
    "name": "ipython",
    "version": 3
   },
   "file_extension": ".py",
   "mimetype": "text/x-python",
   "name": "python",
   "nbconvert_exporter": "python",
   "pygments_lexer": "ipython3",
   "version": "3.8.8"
  }
 },
 "nbformat": 4,
 "nbformat_minor": 5
}
