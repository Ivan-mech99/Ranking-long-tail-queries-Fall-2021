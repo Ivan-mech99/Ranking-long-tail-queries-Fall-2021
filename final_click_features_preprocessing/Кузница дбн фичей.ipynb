{
 "cells": [
  {
   "cell_type": "code",
   "execution_count": 1,
   "id": "53762766",
   "metadata": {},
   "outputs": [],
   "source": [
    "from tqdm import tqdm\n",
    "import pandas as pd\n",
    "import os\n",
    "import gzip\n",
    "import zipfile\n",
    "import shutil\n",
    "from time import sleep\n",
    "import pymorphy2\n",
    "from pyaspeller import YandexSpeller\n",
    "from lru import LRU\n",
    "import pickle\n",
    "from time import sleep\n",
    "from concurrent.futures import ThreadPoolExecutor\n",
    "import tarfile\n",
    "import bz2\n",
    "import sys\n",
    "import numpy as np\n",
    "with open('ill_url_ids.pickle', 'rb') as file:\n",
    "    ill_url_ids = pickle.load(file)\n",
    "class DBN_info():\n",
    "    def __init__(self):\n",
    "        self.view = 0\n",
    "        self.click = 0\n",
    "        self.satis = 0\n",
    "def http_cut1(ex_str):\n",
    "    ex_str = ex_str.replace('http://',\"\")\n",
    "    ex_str = ex_str.replace('https://',\"\")\n",
    "    ex_str = ex_str.replace('www.',\"\")\n",
    "    if len(ex_str)>0:\n",
    "        if ex_str[-1]=='/':\n",
    "            ex_str=ex_str[:-1]\n",
    "    return ex_str\n",
    "def transform(arg, ill_url_ids):\n",
    "    if arg not in ill_url_ids:\n",
    "        return arg\n",
    "    else:\n",
    "        return ill_url_ids[arg]"
   ]
  },
  {
   "cell_type": "code",
   "execution_count": 2,
   "id": "3a3a55f7",
   "metadata": {},
   "outputs": [],
   "source": [
    "with open('query_dict/id_querry_clean.pickle', 'rb') as file:\n",
    "    id_querry_clean = pickle.load(file)"
   ]
  },
  {
   "cell_type": "code",
   "execution_count": 3,
   "id": "daa619ce",
   "metadata": {},
   "outputs": [],
   "source": [
    "df_marks = pd.read_csv('train.marks.tsv', delimiter='\\t', header=None)\n",
    "df_marks = df_marks.rename(columns={0: \"QueryId\", 1: \"DocumentId\"})\n",
    "df_marks = df_marks.drop(columns=[2])\n",
    "df_example = pd.read_csv('sample.csv')\n",
    "all_groups = df_marks.append(df_example)\n",
    "all_groups = all_groups.reset_index()\n",
    "all_groups = all_groups.drop(columns=['index'])\n",
    "all_groups = all_groups.sort_values(by=['QueryId', 'DocumentId']).reset_index()\n",
    "all_groups = all_groups.drop(columns=['index'])\n",
    "rev_frame = all_groups.sort_values(by=['DocumentId', 'QueryId']).reset_index()\n",
    "rev_frame = rev_frame.drop(columns=['index'])"
   ]
  },
  {
   "cell_type": "code",
   "execution_count": 4,
   "id": "98aeecdf",
   "metadata": {},
   "outputs": [
    {
     "data": {
      "text/html": [
       "<div>\n",
       "<style scoped>\n",
       "    .dataframe tbody tr th:only-of-type {\n",
       "        vertical-align: middle;\n",
       "    }\n",
       "\n",
       "    .dataframe tbody tr th {\n",
       "        vertical-align: top;\n",
       "    }\n",
       "\n",
       "    .dataframe thead th {\n",
       "        text-align: right;\n",
       "    }\n",
       "</style>\n",
       "<table border=\"1\" class=\"dataframe\">\n",
       "  <thead>\n",
       "    <tr style=\"text-align: right;\">\n",
       "      <th></th>\n",
       "      <th>QueryId</th>\n",
       "      <th>DocumentId</th>\n",
       "    </tr>\n",
       "  </thead>\n",
       "  <tbody>\n",
       "    <tr>\n",
       "      <th>0</th>\n",
       "      <td>0</td>\n",
       "      <td>1443</td>\n",
       "    </tr>\n",
       "    <tr>\n",
       "      <th>1</th>\n",
       "      <td>0</td>\n",
       "      <td>5912</td>\n",
       "    </tr>\n",
       "    <tr>\n",
       "      <th>2</th>\n",
       "      <td>0</td>\n",
       "      <td>5963</td>\n",
       "    </tr>\n",
       "    <tr>\n",
       "      <th>3</th>\n",
       "      <td>0</td>\n",
       "      <td>6096</td>\n",
       "    </tr>\n",
       "    <tr>\n",
       "      <th>4</th>\n",
       "      <td>0</td>\n",
       "      <td>6230</td>\n",
       "    </tr>\n",
       "    <tr>\n",
       "      <th>...</th>\n",
       "      <td>...</td>\n",
       "      <td>...</td>\n",
       "    </tr>\n",
       "    <tr>\n",
       "      <th>606045</th>\n",
       "      <td>6310</td>\n",
       "      <td>497350</td>\n",
       "    </tr>\n",
       "    <tr>\n",
       "      <th>606046</th>\n",
       "      <td>6310</td>\n",
       "      <td>512263</td>\n",
       "    </tr>\n",
       "    <tr>\n",
       "      <th>606047</th>\n",
       "      <td>6310</td>\n",
       "      <td>529857</td>\n",
       "    </tr>\n",
       "    <tr>\n",
       "      <th>606048</th>\n",
       "      <td>6310</td>\n",
       "      <td>551291</td>\n",
       "    </tr>\n",
       "    <tr>\n",
       "      <th>606049</th>\n",
       "      <td>6310</td>\n",
       "      <td>561732</td>\n",
       "    </tr>\n",
       "  </tbody>\n",
       "</table>\n",
       "<p>606050 rows × 2 columns</p>\n",
       "</div>"
      ],
      "text/plain": [
       "        QueryId  DocumentId\n",
       "0             0        1443\n",
       "1             0        5912\n",
       "2             0        5963\n",
       "3             0        6096\n",
       "4             0        6230\n",
       "...         ...         ...\n",
       "606045     6310      497350\n",
       "606046     6310      512263\n",
       "606047     6310      529857\n",
       "606048     6310      551291\n",
       "606049     6310      561732\n",
       "\n",
       "[606050 rows x 2 columns]"
      ]
     },
     "execution_count": 4,
     "metadata": {},
     "output_type": "execute_result"
    }
   ],
   "source": [
    "all_groups"
   ]
  },
  {
   "cell_type": "code",
   "execution_count": 5,
   "id": "bef990d8",
   "metadata": {},
   "outputs": [],
   "source": [
    "vals = all_groups['DocumentId'].values"
   ]
  },
  {
   "cell_type": "code",
   "execution_count": 6,
   "id": "75d49c4e",
   "metadata": {},
   "outputs": [],
   "source": [
    "with open(\"doc_to_host.pickle\", 'rb') as file:\n",
    "    doc_to_host = pickle.load(file)"
   ]
  },
  {
   "cell_type": "code",
   "execution_count": 7,
   "id": "7a6c4f06",
   "metadata": {},
   "outputs": [],
   "source": [
    "with open(\"url_dbn.pickle\", 'rb') as file:\n",
    "    url_dbn = pickle.load(file)\n",
    "with open(\"host_dbn.pickle\", 'rb') as file:\n",
    "    host_dbn = pickle.load(file)"
   ]
  },
  {
   "cell_type": "code",
   "execution_count": 8,
   "id": "f3fa8d58",
   "metadata": {},
   "outputs": [],
   "source": [
    "dbn_feats = dict()\n",
    "dbn_feats['url_dbn'] = []\n",
    "dbn_feats['url_dbn_a'] = []\n",
    "dbn_feats['url_dbn_s'] = []\n",
    "dbn_feats['url_dbn_v'] = []\n",
    "dbn_feats['url_dbn_cl'] = []\n",
    "dbn_feats['url_dbn_sat'] = []\n",
    "dbn_feats['host_dbn'] = []\n",
    "dbn_feats['host_dbn_a'] = []\n",
    "dbn_feats['host_dbn_s'] = []\n",
    "dbn_feats['host_dbn_v'] = []\n",
    "dbn_feats['host_dbn_cl'] = []\n",
    "dbn_feats['host_dbn_sat'] = []"
   ]
  },
  {
   "cell_type": "code",
   "execution_count": 9,
   "id": "5d5b9127",
   "metadata": {},
   "outputs": [
    {
     "name": "stderr",
     "output_type": "stream",
     "text": [
      "100%|██████████| 606050/606050 [00:09<00:00, 63802.90it/s]\n"
     ]
    }
   ],
   "source": [
    "for key in tqdm(vals):\n",
    "    key1 = transform(key, ill_url_ids)\n",
    "    a = (url_dbn[key1].click+0.1)/(url_dbn[key1].view+0.2)\n",
    "    s = (url_dbn[key1].satis+0.1)/(url_dbn[key1].click+0.2)\n",
    "    dbn_feats['url_dbn'].append(a*s)\n",
    "    dbn_feats['url_dbn_a'].append(a)\n",
    "    dbn_feats['url_dbn_s'].append(s)\n",
    "    dbn_feats['url_dbn_v'].append(url_dbn[key1].view)\n",
    "    dbn_feats['url_dbn_cl'].append(url_dbn[key1].click)\n",
    "    dbn_feats['url_dbn_sat'].append(url_dbn[key1].satis)"
   ]
  },
  {
   "cell_type": "code",
   "execution_count": 10,
   "id": "a72e6c59",
   "metadata": {},
   "outputs": [
    {
     "name": "stderr",
     "output_type": "stream",
     "text": [
      "100%|██████████| 606050/606050 [00:07<00:00, 83856.58it/s] \n"
     ]
    }
   ],
   "source": [
    "for key in tqdm(vals):\n",
    "    key1 = transform(key, ill_url_ids)\n",
    "    key1 = doc_to_host[key1]\n",
    "    a = (host_dbn[key1].click+0.1)/(host_dbn[key1].view+0.2)\n",
    "    s = (host_dbn[key1].satis+0.1)/(host_dbn[key1].click+0.2)\n",
    "    dbn_feats['host_dbn'].append(a*s)\n",
    "    dbn_feats['host_dbn_a'].append(a)\n",
    "    dbn_feats['host_dbn_s'].append(s)\n",
    "    dbn_feats['host_dbn_v'].append(host_dbn[key1].view)\n",
    "    dbn_feats['host_dbn_cl'].append(host_dbn[key1].click)\n",
    "    dbn_feats['host_dbn_sat'].append(host_dbn[key1].satis)"
   ]
  },
  {
   "cell_type": "code",
   "execution_count": 11,
   "id": "6045e9f3",
   "metadata": {},
   "outputs": [],
   "source": [
    "with open(\"dbn_feats_advanced.pickle\", 'wb') as file:\n",
    "    pickle.dump(dbn_feats, file)"
   ]
  },
  {
   "cell_type": "code",
   "execution_count": 12,
   "id": "03fdf574",
   "metadata": {},
   "outputs": [
    {
     "data": {
      "text/plain": [
       "9"
      ]
     },
     "execution_count": 12,
     "metadata": {},
     "output_type": "execute_result"
    }
   ],
   "source": [
    "2+7"
   ]
  }
 ],
 "metadata": {
  "kernelspec": {
   "display_name": "Python 3",
   "language": "python",
   "name": "python3"
  },
  "language_info": {
   "codemirror_mode": {
    "name": "ipython",
    "version": 3
   },
   "file_extension": ".py",
   "mimetype": "text/x-python",
   "name": "python",
   "nbconvert_exporter": "python",
   "pygments_lexer": "ipython3",
   "version": "3.8.8"
  }
 },
 "nbformat": 4,
 "nbformat_minor": 5
}
