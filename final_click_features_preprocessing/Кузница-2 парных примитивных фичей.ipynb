{
 "cells": [
  {
   "cell_type": "code",
   "execution_count": 1,
   "id": "ec67db55",
   "metadata": {},
   "outputs": [],
   "source": [
    "from tqdm import tqdm\n",
    "import pandas as pd\n",
    "import os\n",
    "import gzip\n",
    "import zipfile\n",
    "import shutil\n",
    "from time import sleep\n",
    "import pymorphy2\n",
    "from pyaspeller import YandexSpeller\n",
    "from lru import LRU\n",
    "import pickle\n",
    "from time import sleep\n",
    "from concurrent.futures import ThreadPoolExecutor\n",
    "import tarfile\n",
    "import bz2\n",
    "import sys\n",
    "import numpy as np\n",
    "with open('ill_url_ids.pickle', 'rb') as file:\n",
    "    ill_url_ids = pickle.load(file)\n",
    "def transform(arg, ill_url_ids):\n",
    "    if arg not in ill_url_ids:\n",
    "        return arg\n",
    "    else:\n",
    "        return ill_url_ids[arg]\n",
    "alpha = np.array([0.41,0.16,0.105,0.08,0.06,0.05,0.35,0.3,0.25,0.2])\n",
    "class URL_info():\n",
    "    def __init__(self):\n",
    "        self.total_shows = 0\n",
    "        self.total_clicks = 0\n",
    "        self.num_first_clicks = 0\n",
    "        self.num_last_clicks = 0\n",
    "        self.show_poses = np.zeros((10,),dtype='int')\n",
    "        self.show_poses_cl = np.zeros((10,),dtype='int')\n",
    "        self.click_poses = np.zeros((10,),dtype='int')\n",
    "        self.time = 0\n",
    "        self.clicks_on_higher_pos = 0\n",
    "        self.clicks_on_lower_pos = 0\n",
    "        self.clicks_after_this = 0\n",
    "        self.clicks_before_this = 0\n",
    "        self.is_click_on_higher_pos = 0\n",
    "        self.is_click_on_lower_pos = 0"
   ]
  },
  {
   "cell_type": "code",
   "execution_count": 2,
   "id": "fa9d162b",
   "metadata": {},
   "outputs": [],
   "source": [
    "df_marks = pd.read_csv('train.marks.tsv', delimiter='\\t', header=None)\n",
    "df_marks = df_marks.rename(columns={0: \"QueryId\", 1: \"DocumentId\"})\n",
    "df_marks = df_marks.drop(columns=[2])\n",
    "df_example = pd.read_csv('sample.csv')\n",
    "all_groups = df_marks.append(df_example)\n",
    "all_groups = all_groups.reset_index()\n",
    "all_groups = all_groups.drop(columns=['index'])\n",
    "all_groups = all_groups.sort_values(by=['QueryId', 'DocumentId']).reset_index()\n",
    "all_groups = all_groups.drop(columns=['index'])\n",
    "rev_frame = all_groups.sort_values(by=['DocumentId', 'QueryId']).reset_index()\n",
    "rev_frame = rev_frame.drop(columns=['index'])"
   ]
  },
  {
   "cell_type": "code",
   "execution_count": 3,
   "id": "c70db30a",
   "metadata": {},
   "outputs": [
    {
     "data": {
      "text/html": [
       "<div>\n",
       "<style scoped>\n",
       "    .dataframe tbody tr th:only-of-type {\n",
       "        vertical-align: middle;\n",
       "    }\n",
       "\n",
       "    .dataframe tbody tr th {\n",
       "        vertical-align: top;\n",
       "    }\n",
       "\n",
       "    .dataframe thead th {\n",
       "        text-align: right;\n",
       "    }\n",
       "</style>\n",
       "<table border=\"1\" class=\"dataframe\">\n",
       "  <thead>\n",
       "    <tr style=\"text-align: right;\">\n",
       "      <th></th>\n",
       "      <th>QueryId</th>\n",
       "      <th>DocumentId</th>\n",
       "    </tr>\n",
       "  </thead>\n",
       "  <tbody>\n",
       "    <tr>\n",
       "      <th>0</th>\n",
       "      <td>0</td>\n",
       "      <td>1443</td>\n",
       "    </tr>\n",
       "    <tr>\n",
       "      <th>1</th>\n",
       "      <td>0</td>\n",
       "      <td>5912</td>\n",
       "    </tr>\n",
       "    <tr>\n",
       "      <th>2</th>\n",
       "      <td>0</td>\n",
       "      <td>5963</td>\n",
       "    </tr>\n",
       "    <tr>\n",
       "      <th>3</th>\n",
       "      <td>0</td>\n",
       "      <td>6096</td>\n",
       "    </tr>\n",
       "    <tr>\n",
       "      <th>4</th>\n",
       "      <td>0</td>\n",
       "      <td>6230</td>\n",
       "    </tr>\n",
       "    <tr>\n",
       "      <th>...</th>\n",
       "      <td>...</td>\n",
       "      <td>...</td>\n",
       "    </tr>\n",
       "    <tr>\n",
       "      <th>606045</th>\n",
       "      <td>6310</td>\n",
       "      <td>497350</td>\n",
       "    </tr>\n",
       "    <tr>\n",
       "      <th>606046</th>\n",
       "      <td>6310</td>\n",
       "      <td>512263</td>\n",
       "    </tr>\n",
       "    <tr>\n",
       "      <th>606047</th>\n",
       "      <td>6310</td>\n",
       "      <td>529857</td>\n",
       "    </tr>\n",
       "    <tr>\n",
       "      <th>606048</th>\n",
       "      <td>6310</td>\n",
       "      <td>551291</td>\n",
       "    </tr>\n",
       "    <tr>\n",
       "      <th>606049</th>\n",
       "      <td>6310</td>\n",
       "      <td>561732</td>\n",
       "    </tr>\n",
       "  </tbody>\n",
       "</table>\n",
       "<p>606050 rows × 2 columns</p>\n",
       "</div>"
      ],
      "text/plain": [
       "        QueryId  DocumentId\n",
       "0             0        1443\n",
       "1             0        5912\n",
       "2             0        5963\n",
       "3             0        6096\n",
       "4             0        6230\n",
       "...         ...         ...\n",
       "606045     6310      497350\n",
       "606046     6310      512263\n",
       "606047     6310      529857\n",
       "606048     6310      551291\n",
       "606049     6310      561732\n",
       "\n",
       "[606050 rows x 2 columns]"
      ]
     },
     "execution_count": 3,
     "metadata": {},
     "output_type": "execute_result"
    }
   ],
   "source": [
    "all_groups"
   ]
  },
  {
   "cell_type": "code",
   "execution_count": 4,
   "id": "9309bf2d",
   "metadata": {},
   "outputs": [],
   "source": [
    "vals = all_groups['DocumentId'].values\n",
    "qifs = all_groups['QueryId'].values"
   ]
  },
  {
   "cell_type": "code",
   "execution_count": 5,
   "id": "72d78de2",
   "metadata": {},
   "outputs": [],
   "source": [
    "with open(\"doc_to_host.pickle\", 'rb') as file:\n",
    "    doc_to_host = pickle.load(file)\n",
    "with open(\"QDP.pickle\", 'rb') as file:\n",
    "    url_simple = pickle.load(file)\n",
    "with open(\"QHP.pickle\", 'rb') as file:\n",
    "    host_simple = pickle.load(file)"
   ]
  },
  {
   "cell_type": "code",
   "execution_count": 6,
   "id": "68ce12c4",
   "metadata": {},
   "outputs": [],
   "source": [
    "template = np.arange(1,11)\n",
    "click_feats = dict()\n",
    "click_feats1 = dict()\n",
    "click_feats2 = dict()\n",
    "click_feats3 = dict()\n",
    "click_feats4 = dict()\n",
    "click_feats['QD_fctr'] = []\n",
    "click_feats['QD_lctr'] = []\n",
    "click_feats['QD_avg_show_poses'] = []\n",
    "click_feats['QD_avg_show_poses_cl'] = []\n",
    "click_feats['QD_avg_click_poses'] = []\n",
    "\n",
    "for i in range(1,11):\n",
    "    click_feats['QD_show_poses_cl{}'.format(i)] = []\n",
    "\n",
    "for i in range(1,11):\n",
    "    click_feats2['QD_prob_cc{}'.format(i)] = []\n",
    "\n",
    "click_feats['QH_fctr'] = []\n",
    "click_feats['QH_lctr'] = []\n",
    "click_feats['QH_avg_show_poses'] = []\n",
    "click_feats['QH_avg_show_poses_cl'] = []\n",
    "click_feats['QH_avg_click_poses'] = []\n",
    "\n",
    "for i in range(1,11):\n",
    "    click_feats1['QH_show_poses_cl{}'.format(i)] = []\n",
    "\n",
    "for i in range(1,11):\n",
    "    click_feats2['QH_prob_cc{}'.format(i)] = []\n",
    "\n",
    "for i in range(1,11):\n",
    "    click_feats3['QD_prob_sc{}'.format(i)] = []\n",
    "    click_feats3['QH_prob_sc{}'.format(i)] = []\n",
    "for i in range(1,11):\n",
    "    click_feats4['QD_prob_ss{}'.format(i)] = []\n",
    "    click_feats4['QH_prob_ss{}'.format(i)] = []"
   ]
  },
  {
   "cell_type": "code",
   "execution_count": 7,
   "id": "f8bee0a9",
   "metadata": {},
   "outputs": [
    {
     "name": "stderr",
     "output_type": "stream",
     "text": [
      "100%|██████████| 606050/606050 [01:29<00:00, 6808.81it/s]\n"
     ]
    }
   ],
   "source": [
    "for i in tqdm(range(len(vals))):\n",
    "    key = vals[i]\n",
    "    Q = qifs[i]\n",
    "    key1 = transform(key, ill_url_ids)\n",
    "    \n",
    "    click_feats['QD_fctr'].append(url_simple[Q][key1].num_first_clicks/(url_simple[Q][key1].total_shows+0.0000001))\n",
    "    click_feats['QD_lctr'].append(url_simple[Q][key1].num_last_clicks/(url_simple[Q][key1].total_shows+0.0000001))\n",
    "    click_feats['QD_avg_show_poses'].append(np.sum(template*url_simple[Q][key1].show_poses)/(np.sum(url_simple[Q][key1].show_poses)+0.0000001))\n",
    "    click_feats['QD_avg_show_poses_cl'].append(np.sum(template*url_simple[Q][key1].show_poses_cl)/(np.sum(url_simple[Q][key1].show_poses_cl)+0.0000001))\n",
    "    click_feats['QD_avg_click_poses'].append(np.sum(template*url_simple[Q][key1].click_poses)/(np.sum(url_simple[Q][key1].click_poses)+0.0000001))\n",
    "    \n",
    "    for j in range(1,11):\n",
    "        click_feats['QD_show_poses_cl{}'.format(j)].append(url_simple[Q][key1].show_poses_cl[j-1])\n",
    "\n",
    "    for j in range(1,11):\n",
    "        click_feats2['QD_prob_cc{}'.format(j)].append(url_simple[Q][key1].click_poses[j-1]/(url_simple[Q][key1].total_clicks+0.0000001))\n",
    "\n",
    "    for i in range(1,11):\n",
    "        click_feats3['QD_prob_sc{}'.format(i)].append(url_simple[Q][key1].show_poses_cl[i-1]/(url_simple[Q][key1].total_clicks+0.0000001))\n",
    "    for i in range(1,11):\n",
    "        click_feats4['QD_prob_ss{}'.format(i)].append(url_simple[Q][key1].show_poses[i-1]/(url_simple[Q][key1].total_shows+0.0000001))"
   ]
  },
  {
   "cell_type": "code",
   "execution_count": 8,
   "id": "b3f087f6",
   "metadata": {},
   "outputs": [
    {
     "name": "stderr",
     "output_type": "stream",
     "text": [
      "100%|██████████| 606050/606050 [01:28<00:00, 6842.00it/s]\n"
     ]
    }
   ],
   "source": [
    "for i in tqdm(range(len(vals))):\n",
    "    key = vals[i]\n",
    "    Q = qifs[i]\n",
    "    key1 = transform(key, ill_url_ids)\n",
    "    key1 = doc_to_host[key1]\n",
    "    \n",
    "    click_feats['QH_fctr'].append(host_simple[Q][key1].num_first_clicks/(host_simple[Q][key1].total_shows+0.0000001))\n",
    "    click_feats['QH_lctr'].append(host_simple[Q][key1].num_last_clicks/(host_simple[Q][key1].total_shows+0.0000001))\n",
    "    click_feats['QH_avg_show_poses'].append(np.sum(template*host_simple[Q][key1].show_poses)/(np.sum(host_simple[Q][key1].show_poses)+0.0000001))\n",
    "    click_feats['QH_avg_show_poses_cl'].append(np.sum(template*host_simple[Q][key1].show_poses_cl)/(np.sum(host_simple[Q][key1].show_poses_cl)+0.0000001))\n",
    "    click_feats['QH_avg_click_poses'].append(np.sum(template*host_simple[Q][key1].click_poses)/(np.sum(host_simple[Q][key1].click_poses)+0.0000001))\n",
    "    \n",
    "    for j in range(1,11):\n",
    "        click_feats1['QH_show_poses_cl{}'.format(j)].append(host_simple[Q][key1].show_poses_cl[j-1])\n",
    "\n",
    "    for j in range(1,11):\n",
    "        click_feats2['QH_prob_cc{}'.format(j)].append(host_simple[Q][key1].click_poses[j-1]/(host_simple[Q][key1].total_clicks+0.0000001))\n",
    "\n",
    "    for i in range(1,11):\n",
    "        click_feats3['QH_prob_sc{}'.format(i)].append(host_simple[Q][key1].show_poses_cl[i-1]/(host_simple[Q][key1].total_clicks+0.0000001))\n",
    "    for i in range(1,11):\n",
    "        click_feats4['QH_prob_ss{}'.format(i)].append(host_simple[Q][key1].show_poses[i-1]/(host_simple[Q][key1].total_shows+0.0000001))"
   ]
  },
  {
   "cell_type": "code",
   "execution_count": 9,
   "id": "110d6c30",
   "metadata": {},
   "outputs": [],
   "source": [
    "with open(\"click_feats_pair3.pickle\", 'wb') as file:\n",
    "    pickle.dump(click_feats, file)"
   ]
  },
  {
   "cell_type": "code",
   "execution_count": 10,
   "id": "000bd113",
   "metadata": {},
   "outputs": [],
   "source": [
    "with open(\"click_feats_pair4.pickle\", 'wb') as file:\n",
    "    pickle.dump(click_feats1, file)"
   ]
  },
  {
   "cell_type": "code",
   "execution_count": 11,
   "id": "d235050c",
   "metadata": {},
   "outputs": [],
   "source": [
    "with open(\"click_feats_pair5.pickle\", 'wb') as file:\n",
    "    pickle.dump(click_feats2, file)"
   ]
  },
  {
   "cell_type": "code",
   "execution_count": 12,
   "id": "88ff3a82",
   "metadata": {},
   "outputs": [],
   "source": [
    "with open(\"click_feats_pair6.pickle\", 'wb') as file:\n",
    "    pickle.dump(click_feats3, file)"
   ]
  },
  {
   "cell_type": "code",
   "execution_count": 13,
   "id": "787b3d6d",
   "metadata": {},
   "outputs": [],
   "source": [
    "with open(\"click_feats_pair7.pickle\", 'wb') as file:\n",
    "    pickle.dump(click_feats4, file)"
   ]
  },
  {
   "cell_type": "code",
   "execution_count": 14,
   "id": "92b8d6fa",
   "metadata": {},
   "outputs": [
    {
     "data": {
      "text/plain": [
       "17"
      ]
     },
     "execution_count": 14,
     "metadata": {},
     "output_type": "execute_result"
    }
   ],
   "source": [
    "8+9"
   ]
  },
  {
   "cell_type": "code",
   "execution_count": null,
   "id": "9f8b5b5d",
   "metadata": {},
   "outputs": [],
   "source": []
  }
 ],
 "metadata": {
  "kernelspec": {
   "display_name": "Python 3",
   "language": "python",
   "name": "python3"
  },
  "language_info": {
   "codemirror_mode": {
    "name": "ipython",
    "version": 3
   },
   "file_extension": ".py",
   "mimetype": "text/x-python",
   "name": "python",
   "nbconvert_exporter": "python",
   "pygments_lexer": "ipython3",
   "version": "3.8.8"
  }
 },
 "nbformat": 4,
 "nbformat_minor": 5
}
