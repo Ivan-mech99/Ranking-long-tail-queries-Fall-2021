{
 "cells": [
  {
   "cell_type": "code",
   "execution_count": 1,
   "id": "b63d7966",
   "metadata": {},
   "outputs": [],
   "source": [
    "from tqdm import tqdm\n",
    "import pandas as pd\n",
    "import os\n",
    "import gzip\n",
    "import zipfile\n",
    "import shutil\n",
    "from time import sleep\n",
    "import pymorphy2\n",
    "from pyaspeller import YandexSpeller\n",
    "from lru import LRU\n",
    "import pickle\n",
    "from time import sleep\n",
    "from concurrent.futures import ThreadPoolExecutor\n",
    "import tarfile\n",
    "import bz2\n",
    "import sys\n",
    "import numpy as np\n",
    "with open('ill_url_ids.pickle', 'rb') as file:\n",
    "    ill_url_ids = pickle.load(file)\n",
    "def transform(arg, ill_url_ids):\n",
    "    if arg not in ill_url_ids:\n",
    "        return arg\n",
    "    else:\n",
    "        return ill_url_ids[arg]"
   ]
  },
  {
   "cell_type": "code",
   "execution_count": 2,
   "id": "3ecf44e0",
   "metadata": {},
   "outputs": [],
   "source": [
    "alpha = np.array([0.41,0.16,0.105,0.08,0.06,0.05,0.35,0.3,0.25,0.2])"
   ]
  },
  {
   "cell_type": "code",
   "execution_count": 3,
   "id": "853f6069",
   "metadata": {},
   "outputs": [],
   "source": [
    "class URL_info():\n",
    "    def __init__(self):\n",
    "        self.total_shows = 0\n",
    "        self.total_clicks = 0\n",
    "        self.num_first_clicks = 0\n",
    "        self.num_last_clicks = 0\n",
    "        self.show_poses = np.zeros((10,),dtype='int')\n",
    "        self.show_poses_cl = np.zeros((10,),dtype='int')\n",
    "        self.click_poses = np.zeros((10,),dtype='int')\n",
    "        self.time = 0\n",
    "        self.clicks_on_higher_pos = 0\n",
    "        self.clicks_on_lower_pos = 0\n",
    "        self.clicks_after_this = 0\n",
    "        self.clicks_before_this = 0\n",
    "        self.is_click_on_higher_pos = 0\n",
    "        self.is_click_on_lower_pos = 0"
   ]
  },
  {
   "cell_type": "code",
   "execution_count": 4,
   "id": "9e41fa74",
   "metadata": {},
   "outputs": [],
   "source": [
    "with open('query_dict/id_querry_clean.pickle', 'rb') as file:\n",
    "    id_querry_clean = pickle.load(file)"
   ]
  },
  {
   "cell_type": "code",
   "execution_count": 5,
   "id": "e50bafba",
   "metadata": {},
   "outputs": [],
   "source": [
    "df_marks = pd.read_csv('train.marks.tsv', delimiter='\\t', header=None)\n",
    "df_marks = df_marks.rename(columns={0: \"QueryId\", 1: \"DocumentId\"})\n",
    "df_marks = df_marks.drop(columns=[2])\n",
    "df_example = pd.read_csv('sample.csv')\n",
    "all_groups = df_marks.append(df_example)\n",
    "all_groups = all_groups.reset_index()\n",
    "all_groups = all_groups.drop(columns=['index'])\n",
    "all_groups = all_groups.sort_values(by=['QueryId', 'DocumentId']).reset_index()\n",
    "all_groups = all_groups.drop(columns=['index'])\n",
    "rev_frame = all_groups.sort_values(by=['DocumentId', 'QueryId']).reset_index()\n",
    "rev_frame = rev_frame.drop(columns=['index'])"
   ]
  },
  {
   "cell_type": "code",
   "execution_count": 6,
   "id": "426c9303",
   "metadata": {},
   "outputs": [],
   "source": [
    "vals = all_groups['DocumentId'].values"
   ]
  },
  {
   "cell_type": "code",
   "execution_count": 7,
   "id": "98f48def",
   "metadata": {},
   "outputs": [],
   "source": [
    "with open(\"doc_to_host.pickle\", 'rb') as file:\n",
    "    doc_to_host = pickle.load(file)\n",
    "with open(\"url_simple.pickle\", 'rb') as file:\n",
    "    url_simple = pickle.load(file)\n",
    "with open(\"host_simple.pickle\", 'rb') as file:\n",
    "    host_simple = pickle.load(file)"
   ]
  },
  {
   "cell_type": "code",
   "execution_count": 8,
   "id": "83645819",
   "metadata": {},
   "outputs": [],
   "source": [
    "#self.show_poses = np.zeros((10,),dtype='int')\n",
    "#self.show_poses_cl = np.zeros((10,),dtype='int')\n",
    "#self.click_poses = np.zeros((10,),dtype='int')"
   ]
  },
  {
   "cell_type": "code",
   "execution_count": 9,
   "id": "452f4253",
   "metadata": {},
   "outputs": [],
   "source": [
    "template = np.arange(1,11)\n",
    "click_feats = dict()\n",
    "click_feats1 = dict()\n",
    "click_feats2 = dict()\n",
    "click_feats3 = dict()\n",
    "click_feats4 = dict()\n",
    "click_feats['url_fctr'] = []\n",
    "click_feats['url_lctr'] = []\n",
    "click_feats['url_avg_show_poses'] = []\n",
    "click_feats['url_avg_show_poses_cl'] = []\n",
    "click_feats['url_avg_click_poses'] = []\n",
    "click_feats['url_show_poses_cl1'] = []\n",
    "click_feats['url_show_poses_cl2'] = []\n",
    "click_feats['url_show_poses_cl3'] = []\n",
    "click_feats['url_show_poses_cl4'] = []\n",
    "click_feats['url_show_poses_cl5'] = []\n",
    "click_feats['url_show_poses_cl6'] = []\n",
    "click_feats['url_show_poses_cl7'] = []\n",
    "click_feats['url_show_poses_cl8'] = []\n",
    "click_feats['url_show_poses_cl9'] = []\n",
    "click_feats['url_show_poses_cl10'] = []\n",
    "\n",
    "click_feats2['url_prob_cc1'] = []\n",
    "click_feats2['url_prob_cc2'] = []\n",
    "click_feats2['url_prob_cc3'] = []\n",
    "click_feats2['url_prob_cc4'] = []\n",
    "click_feats2['url_prob_cc5'] = []\n",
    "click_feats2['url_prob_cc6'] = []\n",
    "click_feats2['url_prob_cc7'] = []\n",
    "click_feats2['url_prob_cc8'] = []\n",
    "click_feats2['url_prob_cc9'] = []\n",
    "click_feats2['url_prob_cc10'] = []\n",
    "\n",
    "click_feats['host_fctr'] = []\n",
    "click_feats['host_lctr'] = []\n",
    "click_feats['host_avg_show_poses'] = []\n",
    "click_feats['host_avg_show_poses_cl'] = []\n",
    "click_feats['host_avg_click_poses'] = []\n",
    "click_feats1['host_show_poses_cl1'] = []\n",
    "click_feats1['host_show_poses_cl2'] = []\n",
    "click_feats1['host_show_poses_cl3'] = []\n",
    "click_feats1['host_show_poses_cl4'] = []\n",
    "click_feats1['host_show_poses_cl5'] = []\n",
    "click_feats1['host_show_poses_cl6'] = []\n",
    "click_feats1['host_show_poses_cl7'] = []\n",
    "click_feats1['host_show_poses_cl8'] = []\n",
    "click_feats1['host_show_poses_cl9'] = []\n",
    "click_feats1['host_show_poses_cl10'] = []\n",
    "\n",
    "click_feats2['host_prob_cc1'] = []\n",
    "click_feats2['host_prob_cc2'] = []\n",
    "click_feats2['host_prob_cc3'] = []\n",
    "click_feats2['host_prob_cc4'] = []\n",
    "click_feats2['host_prob_cc5'] = []\n",
    "click_feats2['host_prob_cc6'] = []\n",
    "click_feats2['host_prob_cc7'] = []\n",
    "click_feats2['host_prob_cc8'] = []\n",
    "click_feats2['host_prob_cc9'] = []\n",
    "click_feats2['host_prob_cc10'] = []\n",
    "for i in range(1,11):\n",
    "    click_feats3['url_prob_sc{}'.format(i)] = []\n",
    "    click_feats3['host_prob_sc{}'.format(i)] = []\n",
    "for i in range(1,11):\n",
    "    click_feats4['url_prob_ss{}'.format(i)] = []\n",
    "    click_feats4['host_prob_ss{}'.format(i)] = []"
   ]
  },
  {
   "cell_type": "code",
   "execution_count": 10,
   "id": "eeaf04d4",
   "metadata": {},
   "outputs": [
    {
     "name": "stderr",
     "output_type": "stream",
     "text": [
      "100%|██████████| 606050/606050 [02:05<00:00, 4836.67it/s]\n"
     ]
    }
   ],
   "source": [
    "for key in tqdm(vals):\n",
    "    key1 = transform(key, ill_url_ids)\n",
    "    click_feats['url_fctr'].append(url_simple[key1].num_first_clicks/(url_simple[key1].total_shows+0.0000001))\n",
    "    click_feats['url_lctr'].append(url_simple[key1].num_last_clicks/(url_simple[key1].total_shows+0.0000001))\n",
    "    click_feats['url_avg_show_poses'].append(np.sum(template*url_simple[key1].show_poses)/(np.sum(url_simple[key1].show_poses)+0.0000001))\n",
    "    click_feats['url_avg_show_poses_cl'].append(np.sum(template*url_simple[key1].show_poses_cl)/(np.sum(url_simple[key1].show_poses_cl)+0.0000001))\n",
    "    click_feats['url_avg_click_poses'].append(np.sum(template*url_simple[key1].click_poses)/(np.sum(url_simple[key1].click_poses)+0.0000001))\n",
    "    click_feats['url_show_poses_cl1'].append(url_simple[key1].show_poses_cl[0])\n",
    "    click_feats['url_show_poses_cl2'].append(url_simple[key1].show_poses_cl[1])\n",
    "    click_feats['url_show_poses_cl3'].append(url_simple[key1].show_poses_cl[2])\n",
    "    click_feats['url_show_poses_cl4'].append(url_simple[key1].show_poses_cl[3])\n",
    "    click_feats['url_show_poses_cl5'].append(url_simple[key1].show_poses_cl[4])\n",
    "    click_feats['url_show_poses_cl6'].append(url_simple[key1].show_poses_cl[5])\n",
    "    click_feats['url_show_poses_cl7'].append(url_simple[key1].show_poses_cl[6])\n",
    "    click_feats['url_show_poses_cl8'].append(url_simple[key1].show_poses_cl[7])\n",
    "    click_feats['url_show_poses_cl9'].append(url_simple[key1].show_poses_cl[7])\n",
    "    click_feats['url_show_poses_cl10'].append(url_simple[key1].show_poses_cl[9])\n",
    "    click_feats2['url_prob_cc1'].append(url_simple[key1].click_poses[0]/(url_simple[key1].total_clicks+0.0000001))\n",
    "    click_feats2['url_prob_cc2'].append(url_simple[key1].click_poses[1]/(url_simple[key1].total_clicks+0.0000001))\n",
    "    click_feats2['url_prob_cc3'].append(url_simple[key1].click_poses[2]/(url_simple[key1].total_clicks+0.0000001))\n",
    "    click_feats2['url_prob_cc4'].append(url_simple[key1].click_poses[3]/(url_simple[key1].total_clicks+0.0000001))\n",
    "    click_feats2['url_prob_cc5'].append(url_simple[key1].click_poses[4]/(url_simple[key1].total_clicks+0.0000001))\n",
    "    click_feats2['url_prob_cc6'].append(url_simple[key1].click_poses[5]/(url_simple[key1].total_clicks+0.0000001))\n",
    "    click_feats2['url_prob_cc7'].append(url_simple[key1].click_poses[6]/(url_simple[key1].total_clicks+0.0000001))\n",
    "    click_feats2['url_prob_cc8'].append(url_simple[key1].click_poses[7]/(url_simple[key1].total_clicks+0.0000001))\n",
    "    click_feats2['url_prob_cc9'].append(url_simple[key1].click_poses[8]/(url_simple[key1].total_clicks+0.0000001))\n",
    "    click_feats2['url_prob_cc10'].append(url_simple[key1].click_poses[9]/(url_simple[key1].total_clicks+0.0000001))\n",
    "    for i in range(1,11):\n",
    "        click_feats3['url_prob_sc{}'.format(i)].append(url_simple[key1].show_poses_cl[i-1]/(url_simple[key1].total_clicks+0.0000001))\n",
    "    for i in range(1,11):\n",
    "        click_feats4['url_prob_ss{}'.format(i)].append(url_simple[key1].show_poses[i-1]/(url_simple[key1].total_shows+0.0000001))"
   ]
  },
  {
   "cell_type": "code",
   "execution_count": 11,
   "id": "a357ac2b",
   "metadata": {},
   "outputs": [
    {
     "name": "stderr",
     "output_type": "stream",
     "text": [
      "100%|██████████| 606050/606050 [01:53<00:00, 5341.04it/s]\n"
     ]
    }
   ],
   "source": [
    "for key in tqdm(vals):\n",
    "    key1 = transform(key, ill_url_ids)\n",
    "    key1 = doc_to_host[key1]\n",
    "    click_feats['host_fctr'].append(host_simple[key1].num_first_clicks/(host_simple[key1].total_shows+0.0000001))\n",
    "    click_feats['host_lctr'].append(host_simple[key1].num_last_clicks/(host_simple[key1].total_shows+0.0000001))\n",
    "    click_feats['host_avg_show_poses'].append(np.sum(template*host_simple[key1].show_poses)/(np.sum(host_simple[key1].show_poses)+0.0000001))\n",
    "    click_feats['host_avg_show_poses_cl'].append(np.sum(template*host_simple[key1].show_poses_cl)/(np.sum(host_simple[key1].show_poses_cl)+0.0000001))\n",
    "    click_feats['host_avg_click_poses'].append(np.sum(template*host_simple[key1].click_poses)/(np.sum(host_simple[key1].click_poses)+0.0000001))\n",
    "    click_feats1['host_show_poses_cl1'].append(host_simple[key1].show_poses_cl[0])\n",
    "    click_feats1['host_show_poses_cl2'].append(host_simple[key1].show_poses_cl[1])\n",
    "    click_feats1['host_show_poses_cl3'].append(host_simple[key1].show_poses_cl[2])\n",
    "    click_feats1['host_show_poses_cl4'].append(host_simple[key1].show_poses_cl[3])\n",
    "    click_feats1['host_show_poses_cl5'].append(host_simple[key1].show_poses_cl[4])\n",
    "    click_feats1['host_show_poses_cl6'].append(host_simple[key1].show_poses_cl[5])\n",
    "    click_feats1['host_show_poses_cl7'].append(host_simple[key1].show_poses_cl[6])\n",
    "    click_feats1['host_show_poses_cl8'].append(host_simple[key1].show_poses_cl[7])\n",
    "    click_feats1['host_show_poses_cl9'].append(host_simple[key1].show_poses_cl[7])\n",
    "    click_feats1['host_show_poses_cl10'].append(host_simple[key1].show_poses_cl[9])\n",
    "    click_feats2['host_prob_cc1'].append(host_simple[key1].click_poses[0]/(host_simple[key1].total_clicks+0.0000001))\n",
    "    click_feats2['host_prob_cc2'].append(host_simple[key1].click_poses[1]/(host_simple[key1].total_clicks+0.0000001))\n",
    "    click_feats2['host_prob_cc3'].append(host_simple[key1].click_poses[2]/(host_simple[key1].total_clicks+0.0000001))\n",
    "    click_feats2['host_prob_cc4'].append(host_simple[key1].click_poses[3]/(host_simple[key1].total_clicks+0.0000001))\n",
    "    click_feats2['host_prob_cc5'].append(host_simple[key1].click_poses[4]/(host_simple[key1].total_clicks+0.0000001))\n",
    "    click_feats2['host_prob_cc6'].append(host_simple[key1].click_poses[5]/(host_simple[key1].total_clicks+0.0000001))\n",
    "    click_feats2['host_prob_cc7'].append(host_simple[key1].click_poses[6]/(host_simple[key1].total_clicks+0.0000001))\n",
    "    click_feats2['host_prob_cc8'].append(host_simple[key1].click_poses[7]/(host_simple[key1].total_clicks+0.0000001))\n",
    "    click_feats2['host_prob_cc9'].append(host_simple[key1].click_poses[8]/(host_simple[key1].total_clicks+0.0000001))\n",
    "    click_feats2['host_prob_cc10'].append(host_simple[key1].click_poses[9]/(host_simple[key1].total_clicks+0.0000001))\n",
    "    for i in range(1,11):\n",
    "        click_feats3['host_prob_sc{}'.format(i)].append(host_simple[key1].show_poses_cl[i-1]/(host_simple[key1].total_clicks+0.0000001))\n",
    "    for i in range(1,11):\n",
    "        click_feats4['host_prob_ss{}'.format(i)].append(host_simple[key1].show_poses[i-1]/(host_simple[key1].total_shows+0.0000001))"
   ]
  },
  {
   "cell_type": "code",
   "execution_count": 12,
   "id": "944d4c4f",
   "metadata": {},
   "outputs": [],
   "source": [
    "with open(\"click_feats_advanced3.pickle\", 'wb') as file:\n",
    "    pickle.dump(click_feats, file)"
   ]
  },
  {
   "cell_type": "code",
   "execution_count": 13,
   "id": "5859e4a5",
   "metadata": {},
   "outputs": [],
   "source": [
    "with open(\"click_feats_advanced4.pickle\", 'wb') as file:\n",
    "    pickle.dump(click_feats1, file)"
   ]
  },
  {
   "cell_type": "code",
   "execution_count": 14,
   "id": "6781e16a",
   "metadata": {},
   "outputs": [],
   "source": [
    "with open(\"click_feats_advanced5.pickle\", 'wb') as file:\n",
    "    pickle.dump(click_feats2, file)"
   ]
  },
  {
   "cell_type": "code",
   "execution_count": 15,
   "id": "edccedb8",
   "metadata": {},
   "outputs": [],
   "source": [
    "with open(\"click_feats_advanced6.pickle\", 'wb') as file:\n",
    "    pickle.dump(click_feats3, file)"
   ]
  },
  {
   "cell_type": "code",
   "execution_count": 16,
   "id": "48cf3cf6",
   "metadata": {},
   "outputs": [],
   "source": [
    "with open(\"click_feats_advanced7.pickle\", 'wb') as file:\n",
    "    pickle.dump(click_feats4, file)"
   ]
  },
  {
   "cell_type": "code",
   "execution_count": null,
   "id": "9ba3f6aa",
   "metadata": {},
   "outputs": [],
   "source": []
  }
 ],
 "metadata": {
  "kernelspec": {
   "display_name": "Python 3",
   "language": "python",
   "name": "python3"
  },
  "language_info": {
   "codemirror_mode": {
    "name": "ipython",
    "version": 3
   },
   "file_extension": ".py",
   "mimetype": "text/x-python",
   "name": "python",
   "nbconvert_exporter": "python",
   "pygments_lexer": "ipython3",
   "version": "3.8.8"
  }
 },
 "nbformat": 4,
 "nbformat_minor": 5
}
