{
 "cells": [
  {
   "cell_type": "code",
   "execution_count": 1,
   "id": "128a62a7",
   "metadata": {},
   "outputs": [],
   "source": [
    "from tqdm import tqdm\n",
    "import pandas as pd\n",
    "import os\n",
    "import gzip\n",
    "import zipfile\n",
    "import shutil\n",
    "from time import sleep\n",
    "import pymorphy2\n",
    "from pyaspeller import YandexSpeller\n",
    "from lru import LRU\n",
    "import pickle\n",
    "from time import sleep\n",
    "from concurrent.futures import ThreadPoolExecutor\n",
    "import tarfile\n",
    "import bz2\n",
    "import sys\n",
    "from rank_bm25 import BM25Plus, BM25L, BM25Okapi\n",
    "from sklearn.feature_extraction.text import TfidfVectorizer\n",
    "from sklearn.metrics.pairwise import cosine_similarity"
   ]
  },
  {
   "cell_type": "code",
   "execution_count": 2,
   "id": "e7348d47",
   "metadata": {},
   "outputs": [],
   "source": [
    "with open('query_dict/id_querry_clean.pickle', 'rb') as file:\n",
    "    id_querry_clean = pickle.load(file)"
   ]
  },
  {
   "cell_type": "code",
   "execution_count": 3,
   "id": "0efe5738",
   "metadata": {},
   "outputs": [],
   "source": [
    "df_marks = pd.read_csv('train.marks.tsv', delimiter='\\t', header=None)\n",
    "df_marks = df_marks.rename(columns={0: \"QueryId\", 1: \"DocumentId\"})\n",
    "df_marks = df_marks.drop(columns=[2])\n",
    "df_example = pd.read_csv('sample.csv')\n",
    "all_groups = df_marks.append(df_example)\n",
    "all_groups = all_groups.reset_index()\n",
    "all_groups = all_groups.drop(columns=['index'])\n",
    "all_groups = all_groups.sort_values(by=['QueryId', 'DocumentId']).reset_index()\n",
    "all_groups = all_groups.drop(columns=['index'])\n",
    "rev_frame = all_groups.sort_values(by=['DocumentId', 'QueryId']).reset_index()\n",
    "rev_frame = rev_frame.drop(columns=['index'])"
   ]
  },
  {
   "cell_type": "code",
   "execution_count": 4,
   "id": "ac3401eb",
   "metadata": {},
   "outputs": [
    {
     "data": {
      "text/html": [
       "<div>\n",
       "<style scoped>\n",
       "    .dataframe tbody tr th:only-of-type {\n",
       "        vertical-align: middle;\n",
       "    }\n",
       "\n",
       "    .dataframe tbody tr th {\n",
       "        vertical-align: top;\n",
       "    }\n",
       "\n",
       "    .dataframe thead th {\n",
       "        text-align: right;\n",
       "    }\n",
       "</style>\n",
       "<table border=\"1\" class=\"dataframe\">\n",
       "  <thead>\n",
       "    <tr style=\"text-align: right;\">\n",
       "      <th></th>\n",
       "      <th>QueryId</th>\n",
       "      <th>DocumentId</th>\n",
       "    </tr>\n",
       "  </thead>\n",
       "  <tbody>\n",
       "    <tr>\n",
       "      <th>0</th>\n",
       "      <td>0</td>\n",
       "      <td>1443</td>\n",
       "    </tr>\n",
       "    <tr>\n",
       "      <th>1</th>\n",
       "      <td>0</td>\n",
       "      <td>5912</td>\n",
       "    </tr>\n",
       "    <tr>\n",
       "      <th>2</th>\n",
       "      <td>0</td>\n",
       "      <td>5963</td>\n",
       "    </tr>\n",
       "    <tr>\n",
       "      <th>3</th>\n",
       "      <td>0</td>\n",
       "      <td>6096</td>\n",
       "    </tr>\n",
       "    <tr>\n",
       "      <th>4</th>\n",
       "      <td>0</td>\n",
       "      <td>6230</td>\n",
       "    </tr>\n",
       "    <tr>\n",
       "      <th>...</th>\n",
       "      <td>...</td>\n",
       "      <td>...</td>\n",
       "    </tr>\n",
       "    <tr>\n",
       "      <th>606045</th>\n",
       "      <td>6310</td>\n",
       "      <td>497350</td>\n",
       "    </tr>\n",
       "    <tr>\n",
       "      <th>606046</th>\n",
       "      <td>6310</td>\n",
       "      <td>512263</td>\n",
       "    </tr>\n",
       "    <tr>\n",
       "      <th>606047</th>\n",
       "      <td>6310</td>\n",
       "      <td>529857</td>\n",
       "    </tr>\n",
       "    <tr>\n",
       "      <th>606048</th>\n",
       "      <td>6310</td>\n",
       "      <td>551291</td>\n",
       "    </tr>\n",
       "    <tr>\n",
       "      <th>606049</th>\n",
       "      <td>6310</td>\n",
       "      <td>561732</td>\n",
       "    </tr>\n",
       "  </tbody>\n",
       "</table>\n",
       "<p>606050 rows × 2 columns</p>\n",
       "</div>"
      ],
      "text/plain": [
       "        QueryId  DocumentId\n",
       "0             0        1443\n",
       "1             0        5912\n",
       "2             0        5963\n",
       "3             0        6096\n",
       "4             0        6230\n",
       "...         ...         ...\n",
       "606045     6310      497350\n",
       "606046     6310      512263\n",
       "606047     6310      529857\n",
       "606048     6310      551291\n",
       "606049     6310      561732\n",
       "\n",
       "[606050 rows x 2 columns]"
      ]
     },
     "execution_count": 4,
     "metadata": {},
     "output_type": "execute_result"
    }
   ],
   "source": [
    "all_groups"
   ]
  },
  {
   "cell_type": "code",
   "execution_count": 8,
   "id": "471bd14b",
   "metadata": {},
   "outputs": [],
   "source": [
    "doc_classic_feats = dict()\n",
    "doc_classic_feats['BM25Plus_all'] = []\n",
    "doc_classic_feats['BM25L_all'] = []\n",
    "doc_classic_feats['BM25Okapi_all'] = []\n",
    "doc_classic_feats['BM25Plus_500'] = []\n",
    "doc_classic_feats['BM25L_500'] = []\n",
    "doc_classic_feats['BM25Okapi_500'] = []\n",
    "doc_classic_feats['BM25Plus_1000'] = []\n",
    "doc_classic_feats['BM25L_1000'] = []\n",
    "doc_classic_feats['BM25Okapi_1000'] = []"
   ]
  },
  {
   "cell_type": "code",
   "execution_count": 9,
   "id": "7da4e5da",
   "metadata": {},
   "outputs": [],
   "source": [
    "def calc_cos_sim(vect, corp, query):\n",
    "    x = vect.fit_transform(corp)\n",
    "    q = vect.transform([query])\n",
    "    return list(cosine_similarity(x,q).flatten())"
   ]
  },
  {
   "cell_type": "code",
   "execution_count": 10,
   "id": "d0c9fb4b",
   "metadata": {},
   "outputs": [
    {
     "name": "stderr",
     "output_type": "stream",
     "text": [
      "100%|██████████| 6311/6311 [3:53:32<00:00,  2.22s/it]   \n"
     ]
    }
   ],
   "source": [
    "q_ids = all_groups['QueryId'].unique()\n",
    "for q1 in tqdm(q_ids):\n",
    "    corpus = []\n",
    "    tmp = all_groups[all_groups.QueryId==q1]\n",
    "    docs = tmp['DocumentId'].values\n",
    "    for doc1 in docs:\n",
    "        with gzip.open(\"clean_doc_collection/{}/{}.gz\".format(q1, doc1)) as file:\n",
    "            a = ['']\n",
    "            for line in file:\n",
    "                a = line.decode('utf-8', errors = 'ignore').lower().strip('\\n').split('\\t')\n",
    "        corpus.append(a[0])\n",
    "    corpus_all_tok = [doc.split() for doc in corpus]\n",
    "    corpus_500_tok = [text[:500] for text in corpus_all_tok]\n",
    "    corpus_1000_tok = [text[:1000] for text in corpus_all_tok]\n",
    "    \n",
    "    model1_all = BM25Plus(corpus_all_tok)\n",
    "    model2_all = BM25L(corpus_all_tok)\n",
    "    model3_all = BM25Okapi(corpus_all_tok)\n",
    "    \n",
    "    model1_500 = BM25Plus(corpus_500_tok)\n",
    "    model2_500 = BM25L(corpus_500_tok)\n",
    "    model3_500 = BM25Okapi(corpus_500_tok)\n",
    "    \n",
    "    model1_1000 = BM25Plus(corpus_1000_tok)\n",
    "    model2_1000 = BM25L(corpus_1000_tok)\n",
    "    model3_1000 = BM25Okapi(corpus_1000_tok)\n",
    "    \n",
    "    cur_q = id_querry_clean[q1]\n",
    "    one_tok_txt = cur_q.split()\n",
    "    \n",
    "    doc_classic_feats['BM25Plus_all'].extend(list(model1_all.get_scores(one_tok_txt)))\n",
    "    doc_classic_feats['BM25L_all'].extend(list(model2_all.get_scores(one_tok_txt)))\n",
    "    doc_classic_feats['BM25Okapi_all'].extend(list(model3_all.get_scores(one_tok_txt)))\n",
    "    \n",
    "    doc_classic_feats['BM25Plus_500'].extend(list(model1_500.get_scores(one_tok_txt)))\n",
    "    doc_classic_feats['BM25L_500'].extend(list(model2_500.get_scores(one_tok_txt)))\n",
    "    doc_classic_feats['BM25Okapi_500'].extend(list(model3_500.get_scores(one_tok_txt)))\n",
    "    \n",
    "    doc_classic_feats['BM25Plus_1000'].extend(list(model1_1000.get_scores(one_tok_txt)))\n",
    "    doc_classic_feats['BM25L_1000'].extend(list(model2_1000.get_scores(one_tok_txt)))\n",
    "    doc_classic_feats['BM25Okapi_1000'].extend(list(model3_1000.get_scores(one_tok_txt)))"
   ]
  },
  {
   "cell_type": "code",
   "execution_count": 12,
   "id": "7e370c46",
   "metadata": {},
   "outputs": [],
   "source": [
    "with open('bm_feats_upd.pickle', 'wb') as file:\n",
    "    pickle.dump(doc_classic_feats, file)"
   ]
  }
 ],
 "metadata": {
  "kernelspec": {
   "display_name": "Python 3",
   "language": "python",
   "name": "python3"
  },
  "language_info": {
   "codemirror_mode": {
    "name": "ipython",
    "version": 3
   },
   "file_extension": ".py",
   "mimetype": "text/x-python",
   "name": "python",
   "nbconvert_exporter": "python",
   "pygments_lexer": "ipython3",
   "version": "3.8.8"
  }
 },
 "nbformat": 4,
 "nbformat_minor": 5
}
