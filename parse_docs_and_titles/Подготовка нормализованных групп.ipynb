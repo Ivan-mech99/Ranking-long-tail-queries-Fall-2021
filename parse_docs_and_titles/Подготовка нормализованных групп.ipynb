{
 "cells": [
  {
   "cell_type": "code",
   "execution_count": 1,
   "id": "2c37fe27",
   "metadata": {},
   "outputs": [],
   "source": [
    "from tqdm import tqdm\n",
    "import pandas as pd\n",
    "import os\n",
    "import gzip\n",
    "import shutil\n",
    "from time import sleep\n",
    "import pymorphy2\n",
    "from lru import LRU"
   ]
  },
  {
   "cell_type": "code",
   "execution_count": 2,
   "id": "953205b9",
   "metadata": {},
   "outputs": [],
   "source": [
    "morph = pymorphy2.MorphAnalyzer()\n",
    "PYMORPHY_CACHE = LRU(10000000)\n",
    "def pymorphy_tokenizer(text):\n",
    "    for word in text:\n",
    "        word_hash = hash(word)\n",
    "        if (word_hash not in PYMORPHY_CACHE):\n",
    "            PYMORPHY_CACHE[word_hash] = morph.parse(word)[0].normal_form\n",
    "        yield PYMORPHY_CACHE[word_hash]"
   ]
  },
  {
   "cell_type": "code",
   "execution_count": 3,
   "id": "1c538973",
   "metadata": {},
   "outputs": [],
   "source": [
    "df_marks = pd.read_csv('train.marks.tsv', delimiter='\\t', header=None)\n",
    "df_marks = df_marks.rename(columns={0: \"QueryId\", 1: \"DocumentId\"})\n",
    "df_marks = df_marks.drop(columns=[2])\n",
    "df_example = pd.read_csv('sample.csv')\n",
    "all_groups = df_marks.append(df_example)\n",
    "all_groups = all_groups.reset_index()\n",
    "all_groups = all_groups.drop(columns=['index'])\n",
    "all_groups = all_groups.sort_values(by=['QueryId', 'DocumentId']).reset_index()\n",
    "all_groups = all_groups.drop(columns=['index'])\n",
    "rev_frame = all_groups.sort_values(by=['DocumentId', 'QueryId']).reset_index()\n",
    "rev_frame = rev_frame.drop(columns=['index'])"
   ]
  },
  {
   "cell_type": "code",
   "execution_count": 5,
   "id": "dcf5e064",
   "metadata": {},
   "outputs": [
    {
     "name": "stderr",
     "output_type": "stream",
     "text": [
      "100%|██████████| 606049/606049 [00:00<00:00, 1113958.32it/s]\n"
     ]
    }
   ],
   "source": [
    "query = all_groups['QueryId'].values\n",
    "doc = all_groups['DocumentId'].values\n",
    "q_to_doc = dict()\n",
    "for i in tqdm(range(query.shape[0])):\n",
    "    if query[i] not in q_to_doc:\n",
    "        q_to_doc[query[i]] = []\n",
    "    q_to_doc[query[i]].append(doc[i])"
   ]
  },
  {
   "cell_type": "code",
   "execution_count": 7,
   "id": "6130b3fd",
   "metadata": {},
   "outputs": [],
   "source": [
    "os.makedirs('clean_doc_collection')"
   ]
  },
  {
   "cell_type": "code",
   "execution_count": 8,
   "id": "80e1360d",
   "metadata": {},
   "outputs": [
    {
     "name": "stderr",
     "output_type": "stream",
     "text": [
      "100%|██████████| 6311/6311 [00:02<00:00, 2563.55it/s]\n"
     ]
    }
   ],
   "source": [
    "q_ind = all_groups['QueryId'].unique()\n",
    "for i in tqdm(q_ind):\n",
    "    os.makedirs('clean_doc_collection/'+str(i))"
   ]
  },
  {
   "cell_type": "code",
   "execution_count": 9,
   "id": "d945d8b9",
   "metadata": {},
   "outputs": [
    {
     "name": "stderr",
     "output_type": "stream",
     "text": [
      "582167it [9:30:24, 17.01it/s] \n"
     ]
    }
   ],
   "source": [
    "#читаем данные из gzip файла\n",
    "with gzip.open(\"docs.tsv.gz\") as file:\n",
    "    for line in tqdm(file):\n",
    "        a,b,c = line.decode('utf-8', errors = 'ignore').lower().strip('\\n').split('\\t')\n",
    "        c = c.split()\n",
    "        c = [word for word in pymorphy_tokenizer(c)]\n",
    "        c = ' '.join(c)\n",
    "        text = c.encode('utf-8')\n",
    "        if int(a) in doc_to_q:\n",
    "            #тексты\n",
    "            try:\n",
    "                with gzip.open(a+'.gz', 'wb') as f:\n",
    "                    f.write(text)\n",
    "            except OSError:\n",
    "                sleep(3)\n",
    "                with gzip.open(a+'.gz', 'wb') as f:\n",
    "                    f.write(text)\n",
    "            q_list = doc_to_q[int(a)]\n",
    "            for elem in q_list:\n",
    "                shutil.copy2(a+'.gz', 'clean_doc_collection/'+str(elem)+'/'+a+'.gz')\n",
    "            try:\n",
    "                os.remove(a+'.gz')\n",
    "            except PermissionError:\n",
    "                sleep(3)\n",
    "                os.remove(a+'.gz')"
   ]
  },
  {
   "cell_type": "code",
   "execution_count": null,
   "id": "119f7025",
   "metadata": {},
   "outputs": [],
   "source": []
  }
 ],
 "metadata": {
  "kernelspec": {
   "display_name": "Python 3",
   "language": "python",
   "name": "python3"
  },
  "language_info": {
   "codemirror_mode": {
    "name": "ipython",
    "version": 3
   },
   "file_extension": ".py",
   "mimetype": "text/x-python",
   "name": "python",
   "nbconvert_exporter": "python",
   "pygments_lexer": "ipython3",
   "version": "3.8.8"
  }
 },
 "nbformat": 4,
 "nbformat_minor": 5
}
