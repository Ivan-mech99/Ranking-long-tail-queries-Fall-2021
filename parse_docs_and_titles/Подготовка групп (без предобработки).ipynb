{
 "cells": [
  {
   "cell_type": "code",
   "execution_count": 1,
   "id": "c5c91815",
   "metadata": {},
   "outputs": [],
   "source": [
    "from tqdm import tqdm\n",
    "import pandas as pd\n",
    "import os\n",
    "import gzip\n",
    "import shutil\n",
    "from time import sleep"
   ]
  },
  {
   "cell_type": "code",
   "execution_count": 2,
   "id": "2f3def99",
   "metadata": {},
   "outputs": [],
   "source": [
    "df_marks = pd.read_csv('train.marks.tsv', delimiter='\\t', header=None)\n",
    "df_marks = df_marks.rename(columns={0: \"QueryId\", 1: \"DocumentId\"})\n",
    "df_marks = df_marks.drop(columns=[2])\n",
    "df_example = pd.read_csv('sample.csv')\n",
    "all_groups = df_marks.append(df_example)\n",
    "all_groups = all_groups.reset_index()\n",
    "all_groups = all_groups.drop(columns=['index'])\n",
    "all_groups = all_groups.sort_values(by=['QueryId', 'DocumentId']).reset_index()\n",
    "all_groups = all_groups.drop(columns=['index'])\n",
    "rev_frame = all_groups.sort_values(by=['DocumentId', 'QueryId']).reset_index()\n",
    "rev_frame = rev_frame.drop(columns=['index'])"
   ]
  },
  {
   "cell_type": "code",
   "execution_count": 4,
   "id": "cd55bf9f",
   "metadata": {},
   "outputs": [
    {
     "name": "stderr",
     "output_type": "stream",
     "text": [
      "100%|██████████| 606049/606049 [00:00<00:00, 1168216.46it/s]\n"
     ]
    }
   ],
   "source": [
    "query = all_groups['QueryId'].values\n",
    "doc = all_groups['DocumentId'].values\n",
    "q_to_doc = dict()\n",
    "for i in tqdm(range(query.shape[0])):\n",
    "    if query[i] not in q_to_doc:\n",
    "        q_to_doc[query[i]] = []\n",
    "    q_to_doc[query[i]].append(doc[i])"
   ]
  },
  {
   "cell_type": "code",
   "execution_count": 6,
   "id": "1afcbcf5",
   "metadata": {},
   "outputs": [],
   "source": [
    "os.makedirs('doc_collection')\n",
    "os.makedirs('title_collection')"
   ]
  },
  {
   "cell_type": "code",
   "execution_count": 7,
   "id": "928b3784",
   "metadata": {},
   "outputs": [
    {
     "name": "stderr",
     "output_type": "stream",
     "text": [
      "100%|██████████| 6311/6311 [00:02<00:00, 2615.43it/s]\n"
     ]
    }
   ],
   "source": [
    "q_ind = all_groups['QueryId'].unique()\n",
    "for i in tqdm(q_ind):\n",
    "    os.makedirs('doc_collection/'+str(i))\n",
    "    os.makedirs('title_collection/'+str(i))"
   ]
  },
  {
   "cell_type": "code",
   "execution_count": 8,
   "id": "2a31edca",
   "metadata": {
    "scrolled": false
   },
   "outputs": [
    {
     "name": "stderr",
     "output_type": "stream",
     "text": [
      "8175it [04:36, 34.57it/s] "
     ]
    },
    {
     "name": "stdout",
     "output_type": "stream",
     "text": [
      "OSError\n"
     ]
    },
    {
     "name": "stderr",
     "output_type": "stream",
     "text": [
      "17676it [13:05, 71.83it/s]"
     ]
    },
    {
     "name": "stdout",
     "output_type": "stream",
     "text": [
      "17681\n"
     ]
    },
    {
     "name": "stderr",
     "output_type": "stream",
     "text": [
      "24867it [17:59, 43.25it/s]"
     ]
    },
    {
     "name": "stdout",
     "output_type": "stream",
     "text": [
      "24869\n"
     ]
    },
    {
     "name": "stderr",
     "output_type": "stream",
     "text": [
      "52532it [43:52, 86.70it/s] "
     ]
    },
    {
     "name": "stdout",
     "output_type": "stream",
     "text": [
      "52536\n"
     ]
    },
    {
     "name": "stderr",
     "output_type": "stream",
     "text": [
      "70971it [50:53, 13.10it/s] "
     ]
    },
    {
     "name": "stdout",
     "output_type": "stream",
     "text": [
      "OSError\n"
     ]
    },
    {
     "name": "stderr",
     "output_type": "stream",
     "text": [
      "71842it [52:33,  5.61it/s]"
     ]
    },
    {
     "name": "stdout",
     "output_type": "stream",
     "text": [
      "71842\n"
     ]
    },
    {
     "name": "stderr",
     "output_type": "stream",
     "text": [
      "73129it [54:37, 104.41it/s]"
     ]
    },
    {
     "name": "stdout",
     "output_type": "stream",
     "text": [
      "73138\n"
     ]
    },
    {
     "name": "stderr",
     "output_type": "stream",
     "text": [
      "75928it [56:15, 47.21it/s] "
     ]
    },
    {
     "name": "stdout",
     "output_type": "stream",
     "text": [
      "OSError\n"
     ]
    },
    {
     "name": "stderr",
     "output_type": "stream",
     "text": [
      "115000it [1:24:51, 49.29it/s]"
     ]
    },
    {
     "name": "stdout",
     "output_type": "stream",
     "text": [
      "OSError\n"
     ]
    },
    {
     "name": "stderr",
     "output_type": "stream",
     "text": [
      "124480it [1:29:48, 86.44it/s]"
     ]
    },
    {
     "name": "stdout",
     "output_type": "stream",
     "text": [
      "OSError\n"
     ]
    },
    {
     "name": "stderr",
     "output_type": "stream",
     "text": [
      "128320it [1:31:47, 49.51it/s]"
     ]
    },
    {
     "name": "stdout",
     "output_type": "stream",
     "text": [
      "128323\n"
     ]
    },
    {
     "name": "stderr",
     "output_type": "stream",
     "text": [
      "131005it [1:33:36, 34.23it/s]"
     ]
    },
    {
     "name": "stdout",
     "output_type": "stream",
     "text": [
      "OSError\n"
     ]
    },
    {
     "name": "stderr",
     "output_type": "stream",
     "text": [
      "136211it [1:36:17, 27.13it/s]"
     ]
    },
    {
     "name": "stdout",
     "output_type": "stream",
     "text": [
      "OSError\n"
     ]
    },
    {
     "name": "stderr",
     "output_type": "stream",
     "text": [
      "139963it [1:38:17, 20.33it/s]"
     ]
    },
    {
     "name": "stdout",
     "output_type": "stream",
     "text": [
      "139963\n"
     ]
    },
    {
     "name": "stderr",
     "output_type": "stream",
     "text": [
      "160338it [1:48:25, 72.66it/s] "
     ]
    },
    {
     "name": "stdout",
     "output_type": "stream",
     "text": [
      "160344\n"
     ]
    },
    {
     "name": "stderr",
     "output_type": "stream",
     "text": [
      "172363it [1:55:57, 50.35it/s]"
     ]
    },
    {
     "name": "stdout",
     "output_type": "stream",
     "text": [
      "OSError\n"
     ]
    },
    {
     "name": "stderr",
     "output_type": "stream",
     "text": [
      "175940it [1:57:52, 73.40it/s]"
     ]
    },
    {
     "name": "stdout",
     "output_type": "stream",
     "text": [
      "OSError\n"
     ]
    },
    {
     "name": "stderr",
     "output_type": "stream",
     "text": [
      "229149it [2:36:14, 82.32it/s] "
     ]
    },
    {
     "name": "stdout",
     "output_type": "stream",
     "text": [
      "229150\n"
     ]
    },
    {
     "name": "stderr",
     "output_type": "stream",
     "text": [
      "242626it [2:44:07, 21.87it/s]"
     ]
    },
    {
     "name": "stdout",
     "output_type": "stream",
     "text": [
      "242627\n"
     ]
    },
    {
     "name": "stderr",
     "output_type": "stream",
     "text": [
      "242975it [2:44:17, 41.83it/s]"
     ]
    },
    {
     "name": "stdout",
     "output_type": "stream",
     "text": [
      "OSError\n"
     ]
    },
    {
     "name": "stderr",
     "output_type": "stream",
     "text": [
      "284670it [3:06:47, 24.33it/s]"
     ]
    },
    {
     "name": "stdout",
     "output_type": "stream",
     "text": [
      "284670\n"
     ]
    },
    {
     "name": "stderr",
     "output_type": "stream",
     "text": [
      "299565it [3:13:54, 48.65it/s]"
     ]
    },
    {
     "name": "stdout",
     "output_type": "stream",
     "text": [
      "OSError\n"
     ]
    },
    {
     "name": "stderr",
     "output_type": "stream",
     "text": [
      "307598it [3:18:02, 37.36it/s]"
     ]
    },
    {
     "name": "stdout",
     "output_type": "stream",
     "text": [
      "OSError\n"
     ]
    },
    {
     "name": "stderr",
     "output_type": "stream",
     "text": [
      "337962it [3:36:31, 91.55it/s]"
     ]
    },
    {
     "name": "stdout",
     "output_type": "stream",
     "text": [
      "337970\n"
     ]
    },
    {
     "name": "stderr",
     "output_type": "stream",
     "text": [
      "342539it [3:37:33, 76.39it/s] "
     ]
    },
    {
     "name": "stdout",
     "output_type": "stream",
     "text": [
      "OSError\n"
     ]
    },
    {
     "name": "stderr",
     "output_type": "stream",
     "text": [
      "344806it [3:38:08,  9.09it/s] "
     ]
    },
    {
     "name": "stdout",
     "output_type": "stream",
     "text": [
      "344806\n"
     ]
    },
    {
     "name": "stderr",
     "output_type": "stream",
     "text": [
      "353520it [3:42:00, 29.96it/s] "
     ]
    },
    {
     "name": "stdout",
     "output_type": "stream",
     "text": [
      "353520\n"
     ]
    },
    {
     "name": "stderr",
     "output_type": "stream",
     "text": [
      "369281it [3:56:11, 55.86it/s]"
     ]
    },
    {
     "name": "stdout",
     "output_type": "stream",
     "text": [
      "OSError\n"
     ]
    },
    {
     "name": "stderr",
     "output_type": "stream",
     "text": [
      "369309it [3:56:15, 15.11it/s]"
     ]
    },
    {
     "name": "stdout",
     "output_type": "stream",
     "text": [
      "OSError\n"
     ]
    },
    {
     "name": "stderr",
     "output_type": "stream",
     "text": [
      "381580it [4:05:04, 20.45it/s]"
     ]
    },
    {
     "name": "stdout",
     "output_type": "stream",
     "text": [
      "381580\n"
     ]
    },
    {
     "name": "stderr",
     "output_type": "stream",
     "text": [
      "381809it [4:05:11, 64.25it/s]"
     ]
    },
    {
     "name": "stdout",
     "output_type": "stream",
     "text": [
      "381810\n"
     ]
    },
    {
     "name": "stderr",
     "output_type": "stream",
     "text": [
      "397138it [4:17:09, 78.55it/s]"
     ]
    },
    {
     "name": "stdout",
     "output_type": "stream",
     "text": [
      "OSError\n"
     ]
    },
    {
     "name": "stderr",
     "output_type": "stream",
     "text": [
      "413415it [4:27:49, 46.81it/s]"
     ]
    },
    {
     "name": "stdout",
     "output_type": "stream",
     "text": [
      "413418\n"
     ]
    },
    {
     "name": "stderr",
     "output_type": "stream",
     "text": [
      "420664it [4:32:12, 74.01it/s]"
     ]
    },
    {
     "name": "stdout",
     "output_type": "stream",
     "text": [
      "OSError\n"
     ]
    },
    {
     "name": "stderr",
     "output_type": "stream",
     "text": [
      "428865it [4:37:45, 15.12it/s]"
     ]
    },
    {
     "name": "stdout",
     "output_type": "stream",
     "text": [
      "428865\n"
     ]
    },
    {
     "name": "stderr",
     "output_type": "stream",
     "text": [
      "437166it [4:44:32, 49.73it/s]"
     ]
    },
    {
     "name": "stdout",
     "output_type": "stream",
     "text": [
      "OSError\n"
     ]
    },
    {
     "name": "stderr",
     "output_type": "stream",
     "text": [
      "466014it [5:05:45, 31.73it/s]"
     ]
    },
    {
     "name": "stdout",
     "output_type": "stream",
     "text": [
      "466015\n"
     ]
    },
    {
     "name": "stderr",
     "output_type": "stream",
     "text": [
      "466718it [5:06:06, 56.84it/s]"
     ]
    },
    {
     "name": "stdout",
     "output_type": "stream",
     "text": [
      "466719\n"
     ]
    },
    {
     "name": "stderr",
     "output_type": "stream",
     "text": [
      "517803it [5:40:12, 34.22it/s]"
     ]
    },
    {
     "name": "stdout",
     "output_type": "stream",
     "text": [
      "OSError\n"
     ]
    },
    {
     "name": "stderr",
     "output_type": "stream",
     "text": [
      "534647it [5:49:29, 34.77it/s]"
     ]
    },
    {
     "name": "stdout",
     "output_type": "stream",
     "text": [
      "534651\n"
     ]
    },
    {
     "name": "stderr",
     "output_type": "stream",
     "text": [
      "542989it [5:53:14, 74.55it/s] "
     ]
    },
    {
     "name": "stdout",
     "output_type": "stream",
     "text": [
      "542998\n"
     ]
    },
    {
     "name": "stderr",
     "output_type": "stream",
     "text": [
      "561889it [6:05:48, 10.60it/s]"
     ]
    },
    {
     "name": "stdout",
     "output_type": "stream",
     "text": [
      "OSError\n"
     ]
    },
    {
     "name": "stderr",
     "output_type": "stream",
     "text": [
      "582167it [6:16:27, 25.77it/s]\n"
     ]
    }
   ],
   "source": [
    "#читаем данные из gzip файла\n",
    "with gzip.open(\"docs.tsv.gz\") as file:\n",
    "    for line in tqdm(file):\n",
    "        a,b,c = line.decode('utf-8', errors = 'ignore').lower().strip('\\n').split('\\t')\n",
    "        text = c.encode('utf-8')\n",
    "        title = b.encode('utf-8')\n",
    "        if int(a) in doc_to_q:\n",
    "            #тексты\n",
    "            try:\n",
    "                with gzip.open(a+'.gz', 'wb') as f:\n",
    "                    f.write(text)\n",
    "            except OSError:\n",
    "                print(\"OSError\")\n",
    "                sleep(3)\n",
    "                with gzip.open(a+'.gz', 'wb') as f:\n",
    "                    f.write(text)\n",
    "            q_list = doc_to_q[int(a)]\n",
    "            for elem in q_list:\n",
    "                shutil.copy2(a+'.gz', 'doc_collection/'+str(elem)+'/'+a+'.gz')\n",
    "            #заголовки\n",
    "            try:\n",
    "                with gzip.open(a+'.gz', 'wb') as f:\n",
    "                    f.write(title)\n",
    "            except OSError:\n",
    "                print(\"OSError\")\n",
    "                sleep(3)\n",
    "                with gzip.open(a+'.gz', 'wb') as f:\n",
    "                    f.write(title)\n",
    "            q_list = doc_to_q[int(a)]\n",
    "            for elem in q_list:\n",
    "                shutil.copy2(a+'.gz', 'title_collection/'+str(elem)+'/'+a+'.gz')\n",
    "            try:\n",
    "                os.remove(a+'.gz')\n",
    "            except PermissionError:\n",
    "                print(a)\n",
    "                sleep(3)\n",
    "                os.remove(a+'.gz')"
   ]
  },
  {
   "cell_type": "code",
   "execution_count": null,
   "id": "b2c3bdb2",
   "metadata": {},
   "outputs": [],
   "source": []
  }
 ],
 "metadata": {
  "kernelspec": {
   "display_name": "Python 3",
   "language": "python",
   "name": "python3"
  },
  "language_info": {
   "codemirror_mode": {
    "name": "ipython",
    "version": 3
   },
   "file_extension": ".py",
   "mimetype": "text/x-python",
   "name": "python",
   "nbconvert_exporter": "python",
   "pygments_lexer": "ipython3",
   "version": "3.8.8"
  }
 },
 "nbformat": 4,
 "nbformat_minor": 5
}
