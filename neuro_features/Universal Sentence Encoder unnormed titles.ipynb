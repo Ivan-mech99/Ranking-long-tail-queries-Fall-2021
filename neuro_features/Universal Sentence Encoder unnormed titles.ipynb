{
 "cells": [
  {
   "cell_type": "code",
   "execution_count": 1,
   "id": "939984c8",
   "metadata": {},
   "outputs": [],
   "source": [
    "from tqdm import tqdm\n",
    "import pandas as pd\n",
    "import numpy as np\n",
    "import os\n",
    "import gzip\n",
    "import zipfile\n",
    "import shutil\n",
    "from time import sleep\n",
    "import pickle\n",
    "from time import sleep\n",
    "import sys\n",
    "from sklearn.metrics.pairwise import cosine_similarity\n",
    "from IPython.display import clear_output\n",
    "import tensorflow as tf\n",
    "import tensorflow_hub as hub\n",
    "import tensorflow_text"
   ]
  },
  {
   "cell_type": "code",
   "execution_count": 2,
   "id": "bfb427a6",
   "metadata": {},
   "outputs": [],
   "source": [
    "with open('query_dict/id_querry_spelled.pickle', 'rb') as file:\n",
    "    id_querry_clean = pickle.load(file)\n",
    "with open('title_dict/title_data.pickle', 'rb') as file:\n",
    "    title_data = pickle.load(file)"
   ]
  },
  {
   "cell_type": "code",
   "execution_count": 3,
   "id": "8e7bd100",
   "metadata": {},
   "outputs": [],
   "source": [
    "df_marks = pd.read_csv('train.marks.tsv', delimiter='\\t', header=None)\n",
    "df_marks = df_marks.rename(columns={0: \"QueryId\", 1: \"DocumentId\"})\n",
    "df_marks = df_marks.drop(columns=[2])\n",
    "df_example = pd.read_csv('sample.csv')\n",
    "all_groups = df_marks.append(df_example)\n",
    "all_groups = all_groups.reset_index()\n",
    "all_groups = all_groups.drop(columns=['index'])\n",
    "all_groups = all_groups.sort_values(by=['QueryId', 'DocumentId']).reset_index()\n",
    "all_groups = all_groups.drop(columns=['index'])\n",
    "rev_frame = all_groups.sort_values(by=['DocumentId', 'QueryId']).reset_index()\n",
    "rev_frame = rev_frame.drop(columns=['index'])"
   ]
  },
  {
   "cell_type": "code",
   "execution_count": 4,
   "id": "832c24d4",
   "metadata": {},
   "outputs": [
    {
     "data": {
      "text/html": [
       "<div>\n",
       "<style scoped>\n",
       "    .dataframe tbody tr th:only-of-type {\n",
       "        vertical-align: middle;\n",
       "    }\n",
       "\n",
       "    .dataframe tbody tr th {\n",
       "        vertical-align: top;\n",
       "    }\n",
       "\n",
       "    .dataframe thead th {\n",
       "        text-align: right;\n",
       "    }\n",
       "</style>\n",
       "<table border=\"1\" class=\"dataframe\">\n",
       "  <thead>\n",
       "    <tr style=\"text-align: right;\">\n",
       "      <th></th>\n",
       "      <th>QueryId</th>\n",
       "      <th>DocumentId</th>\n",
       "    </tr>\n",
       "  </thead>\n",
       "  <tbody>\n",
       "    <tr>\n",
       "      <th>0</th>\n",
       "      <td>0</td>\n",
       "      <td>1443</td>\n",
       "    </tr>\n",
       "    <tr>\n",
       "      <th>1</th>\n",
       "      <td>0</td>\n",
       "      <td>5912</td>\n",
       "    </tr>\n",
       "    <tr>\n",
       "      <th>2</th>\n",
       "      <td>0</td>\n",
       "      <td>5963</td>\n",
       "    </tr>\n",
       "    <tr>\n",
       "      <th>3</th>\n",
       "      <td>0</td>\n",
       "      <td>6096</td>\n",
       "    </tr>\n",
       "    <tr>\n",
       "      <th>4</th>\n",
       "      <td>0</td>\n",
       "      <td>6230</td>\n",
       "    </tr>\n",
       "    <tr>\n",
       "      <th>...</th>\n",
       "      <td>...</td>\n",
       "      <td>...</td>\n",
       "    </tr>\n",
       "    <tr>\n",
       "      <th>606045</th>\n",
       "      <td>6310</td>\n",
       "      <td>497350</td>\n",
       "    </tr>\n",
       "    <tr>\n",
       "      <th>606046</th>\n",
       "      <td>6310</td>\n",
       "      <td>512263</td>\n",
       "    </tr>\n",
       "    <tr>\n",
       "      <th>606047</th>\n",
       "      <td>6310</td>\n",
       "      <td>529857</td>\n",
       "    </tr>\n",
       "    <tr>\n",
       "      <th>606048</th>\n",
       "      <td>6310</td>\n",
       "      <td>551291</td>\n",
       "    </tr>\n",
       "    <tr>\n",
       "      <th>606049</th>\n",
       "      <td>6310</td>\n",
       "      <td>561732</td>\n",
       "    </tr>\n",
       "  </tbody>\n",
       "</table>\n",
       "<p>606050 rows × 2 columns</p>\n",
       "</div>"
      ],
      "text/plain": [
       "        QueryId  DocumentId\n",
       "0             0        1443\n",
       "1             0        5912\n",
       "2             0        5963\n",
       "3             0        6096\n",
       "4             0        6230\n",
       "...         ...         ...\n",
       "606045     6310      497350\n",
       "606046     6310      512263\n",
       "606047     6310      529857\n",
       "606048     6310      551291\n",
       "606049     6310      561732\n",
       "\n",
       "[606050 rows x 2 columns]"
      ]
     },
     "execution_count": 4,
     "metadata": {},
     "output_type": "execute_result"
    }
   ],
   "source": [
    "all_groups"
   ]
  },
  {
   "cell_type": "code",
   "execution_count": 5,
   "id": "41cc9c83",
   "metadata": {},
   "outputs": [],
   "source": [
    "model1 = hub.load('https://tfhub.dev/google/universal-sentence-encoder-multilingual-large/3')"
   ]
  },
  {
   "cell_type": "code",
   "execution_count": 6,
   "id": "01da4ecb",
   "metadata": {},
   "outputs": [],
   "source": [
    "neuro_feats = dict()\n",
    "neuro_feats['use-multilingual-large/3_unnormed_titles'] = []"
   ]
  },
  {
   "cell_type": "code",
   "execution_count": 7,
   "id": "c042704b",
   "metadata": {},
   "outputs": [
    {
     "name": "stderr",
     "output_type": "stream",
     "text": [
      "100%|██████████| 6311/6311 [12:39:14<00:00,  7.22s/it]  \n"
     ]
    }
   ],
   "source": [
    "q_ids = all_groups['QueryId'].unique()\n",
    "for q1 in tqdm(q_ids):\n",
    "    corpus = []\n",
    "    tmp = all_groups[all_groups.QueryId==q1]\n",
    "    docs = tmp['DocumentId'].values\n",
    "    for doc1 in docs:\n",
    "        corpus.append(title_data[doc1])\n",
    "    cur_q = id_querry_clean[q1]\n",
    "    one_tok_txt = cur_q.split()\n",
    "    Q_emb = model1(cur_q)\n",
    "    for doc1 in corpus:\n",
    "        D_emb = model1(doc1)\n",
    "        neuro_feats['use-multilingual-large/3_unnormed_titles'].append(cosine_similarity(Q_emb.numpy(), D_emb.numpy()).flatten()[0])"
   ]
  },
  {
   "cell_type": "code",
   "execution_count": 8,
   "id": "c502c6d8",
   "metadata": {},
   "outputs": [],
   "source": [
    "with open('use-multilingual-large_3_unnormed_titles.pickle', 'wb') as file:\n",
    "    pickle.dump(neuro_feats, file)"
   ]
  },
  {
   "cell_type": "code",
   "execution_count": 2,
   "id": "add2f32e",
   "metadata": {},
   "outputs": [],
   "source": [
    "model1 = hub.load('https://tfhub.dev/google/universal-sentence-encoder-multilingual/3')"
   ]
  },
  {
   "cell_type": "code",
   "execution_count": 13,
   "id": "756dcc75",
   "metadata": {},
   "outputs": [],
   "source": [
    "neuro_feats = dict()\n",
    "neuro_feats['use-multilingual/3_unnormed_titles'] = []"
   ]
  },
  {
   "cell_type": "code",
   "execution_count": 14,
   "id": "491578b4",
   "metadata": {},
   "outputs": [
    {
     "name": "stderr",
     "output_type": "stream",
     "text": [
      "100%|██████████| 6311/6311 [1:21:52<00:00,  1.28it/s]\n"
     ]
    }
   ],
   "source": [
    "q_ids = all_groups['QueryId'].unique()\n",
    "for q1 in tqdm(q_ids):\n",
    "    corpus = []\n",
    "    tmp = all_groups[all_groups.QueryId==q1]\n",
    "    docs = tmp['DocumentId'].values\n",
    "    for doc1 in docs:\n",
    "        corpus.append(title_data[doc1])\n",
    "    cur_q = id_querry_clean[q1]\n",
    "    one_tok_txt = cur_q.split()\n",
    "    Q_emb = model1(cur_q)\n",
    "    for doc1 in corpus:\n",
    "        D_emb = model1(doc1)\n",
    "        neuro_feats['use-multilingual/3_unnormed_titles'].append(cosine_similarity(Q_emb.numpy(), D_emb.numpy()).flatten()[0])"
   ]
  },
  {
   "cell_type": "code",
   "execution_count": 17,
   "id": "0eb6feb3",
   "metadata": {},
   "outputs": [],
   "source": [
    "with open('use-multilingual_3_unnormed_titles.pickle', 'wb') as file:\n",
    "    pickle.dump(neuro_feats, file)"
   ]
  },
  {
   "cell_type": "code",
   "execution_count": null,
   "id": "38e81942",
   "metadata": {},
   "outputs": [],
   "source": []
  }
 ],
 "metadata": {
  "kernelspec": {
   "display_name": "Python 3",
   "language": "python",
   "name": "python3"
  },
  "language_info": {
   "codemirror_mode": {
    "name": "ipython",
    "version": 3
   },
   "file_extension": ".py",
   "mimetype": "text/x-python",
   "name": "python",
   "nbconvert_exporter": "python",
   "pygments_lexer": "ipython3",
   "version": "3.8.8"
  }
 },
 "nbformat": 4,
 "nbformat_minor": 5
}
