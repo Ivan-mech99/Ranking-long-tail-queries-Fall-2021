{
 "cells": [
  {
   "cell_type": "code",
   "execution_count": 1,
   "id": "5d736aa6",
   "metadata": {},
   "outputs": [],
   "source": [
    "from tqdm import tqdm\n",
    "import pandas as pd\n",
    "import os\n",
    "import pickle\n",
    "from time import sleep\n",
    "import sys\n",
    "from sklearn.feature_extraction.text import TfidfVectorizer\n",
    "from sklearn.metrics.pairwise import cosine_similarity"
   ]
  },
  {
   "cell_type": "code",
   "execution_count": 2,
   "id": "2d7e317b",
   "metadata": {},
   "outputs": [],
   "source": [
    "with open('query_dict/id_querry_clean.pickle', 'rb') as file:\n",
    "    id_querry_clean = pickle.load(file)\n",
    "with open('title_dict/norm_title_data.pickle', 'rb') as file:\n",
    "    title_data = pickle.load(file)"
   ]
  },
  {
   "cell_type": "code",
   "execution_count": 3,
   "id": "b477bc50",
   "metadata": {},
   "outputs": [],
   "source": [
    "df_marks = pd.read_csv('train.marks.tsv', delimiter='\\t', header=None)\n",
    "df_marks = df_marks.rename(columns={0: \"QueryId\", 1: \"DocumentId\"})\n",
    "df_marks = df_marks.drop(columns=[2])\n",
    "df_example = pd.read_csv('sample.csv')\n",
    "all_groups = df_marks.append(df_example)\n",
    "all_groups = all_groups.reset_index()\n",
    "all_groups = all_groups.drop(columns=['index'])\n",
    "all_groups = all_groups.sort_values(by=['QueryId', 'DocumentId']).reset_index()\n",
    "all_groups = all_groups.drop(columns=['index'])\n",
    "rev_frame = all_groups.sort_values(by=['DocumentId', 'QueryId']).reset_index()\n",
    "rev_frame = rev_frame.drop(columns=['index'])"
   ]
  },
  {
   "cell_type": "code",
   "execution_count": 4,
   "id": "25f608ed",
   "metadata": {},
   "outputs": [
    {
     "name": "stderr",
     "output_type": "stream",
     "text": [
      "100%|██████████| 582167/582167 [00:00<00:00, 2387286.02it/s]\n"
     ]
    }
   ],
   "source": [
    "global_corp = []\n",
    "for key in tqdm(title_data):\n",
    "    global_corp.append(title_data[key])"
   ]
  },
  {
   "cell_type": "code",
   "execution_count": 5,
   "id": "0fe85d0a",
   "metadata": {},
   "outputs": [],
   "source": [
    "tfidf_vectorizer_1 = TfidfVectorizer(ngram_range=(1,1))\n",
    "tfidf_vectorizer_1.fit(global_corp)\n",
    "global_corp = []\n",
    "title_classic_feats = dict()\n",
    "title_classic_feats['title_tfidf_vectorizer_1'] = []"
   ]
  },
  {
   "cell_type": "code",
   "execution_count": 6,
   "id": "a1953885",
   "metadata": {},
   "outputs": [],
   "source": [
    "def calc_cos_sim(vect, title, query):\n",
    "    x = vect.transform([title])\n",
    "    q = vect.transform([query])\n",
    "    return cosine_similarity(x,q).flatten()[0]"
   ]
  },
  {
   "cell_type": "code",
   "execution_count": 7,
   "id": "ba3e7ead",
   "metadata": {},
   "outputs": [
    {
     "name": "stderr",
     "output_type": "stream",
     "text": [
      "100%|██████████| 606050/606050 [2:06:41<00:00, 79.73it/s]  \n"
     ]
    }
   ],
   "source": [
    "q_ids = all_groups['QueryId'].values\n",
    "t_ids = all_groups['DocumentId'].values\n",
    "for i in tqdm(range(0, 606050)):\n",
    "    cur_q = id_querry_clean[q_ids[i]]\n",
    "    cur_t = title_data[t_ids[i]]\n",
    "    title_classic_feats['title_tfidf_vectorizer_1'].append(calc_cos_sim(tfidf_vectorizer_1, cur_t, cur_q))"
   ]
  },
  {
   "cell_type": "code",
   "execution_count": 8,
   "id": "e281771f",
   "metadata": {},
   "outputs": [],
   "source": [
    "with open('title_tfidf_vectorizer_1.pickle', 'wb') as file:\n",
    "    pickle.dump(title_classic_feats, file)"
   ]
  },
  {
   "cell_type": "code",
   "execution_count": null,
   "id": "51d76265",
   "metadata": {},
   "outputs": [],
   "source": []
  }
 ],
 "metadata": {
  "kernelspec": {
   "display_name": "Python 3",
   "language": "python",
   "name": "python3"
  },
  "language_info": {
   "codemirror_mode": {
    "name": "ipython",
    "version": 3
   },
   "file_extension": ".py",
   "mimetype": "text/x-python",
   "name": "python",
   "nbconvert_exporter": "python",
   "pygments_lexer": "ipython3",
   "version": "3.8.8"
  }
 },
 "nbformat": 4,
 "nbformat_minor": 5
}
