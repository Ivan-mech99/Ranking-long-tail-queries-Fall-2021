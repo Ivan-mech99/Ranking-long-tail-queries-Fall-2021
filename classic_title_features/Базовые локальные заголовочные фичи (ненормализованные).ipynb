{
 "cells": [
  {
   "cell_type": "code",
   "execution_count": 1,
   "id": "e3e92556",
   "metadata": {},
   "outputs": [],
   "source": [
    "from tqdm import tqdm\n",
    "import pandas as pd\n",
    "import os\n",
    "import pickle\n",
    "from time import sleep\n",
    "import sys\n",
    "from sklearn.feature_extraction.text import TfidfVectorizer\n",
    "from sklearn.metrics.pairwise import cosine_similarity"
   ]
  },
  {
   "cell_type": "code",
   "execution_count": 2,
   "id": "8b77e822",
   "metadata": {},
   "outputs": [],
   "source": [
    "with open('query_dict/id_querry_spelled.pickle', 'rb') as file:\n",
    "    id_querry_clean = pickle.load(file)\n",
    "with open('title_dict/title_data.pickle', 'rb') as file:\n",
    "    title_data = pickle.load(file)"
   ]
  },
  {
   "cell_type": "code",
   "execution_count": 3,
   "id": "a5b8e072",
   "metadata": {},
   "outputs": [],
   "source": [
    "df_marks = pd.read_csv('train.marks.tsv', delimiter='\\t', header=None)\n",
    "df_marks = df_marks.rename(columns={0: \"QueryId\", 1: \"DocumentId\"})\n",
    "df_marks = df_marks.drop(columns=[2])\n",
    "df_example = pd.read_csv('sample.csv')\n",
    "all_groups = df_marks.append(df_example)\n",
    "all_groups = all_groups.reset_index()\n",
    "all_groups = all_groups.drop(columns=['index'])\n",
    "all_groups = all_groups.sort_values(by=['QueryId', 'DocumentId']).reset_index()\n",
    "all_groups = all_groups.drop(columns=['index'])\n",
    "rev_frame = all_groups.sort_values(by=['DocumentId', 'QueryId']).reset_index()\n",
    "rev_frame = rev_frame.drop(columns=['index'])"
   ]
  },
  {
   "cell_type": "code",
   "execution_count": 4,
   "id": "cc53d1a9",
   "metadata": {},
   "outputs": [
    {
     "data": {
      "text/html": [
       "<div>\n",
       "<style scoped>\n",
       "    .dataframe tbody tr th:only-of-type {\n",
       "        vertical-align: middle;\n",
       "    }\n",
       "\n",
       "    .dataframe tbody tr th {\n",
       "        vertical-align: top;\n",
       "    }\n",
       "\n",
       "    .dataframe thead th {\n",
       "        text-align: right;\n",
       "    }\n",
       "</style>\n",
       "<table border=\"1\" class=\"dataframe\">\n",
       "  <thead>\n",
       "    <tr style=\"text-align: right;\">\n",
       "      <th></th>\n",
       "      <th>QueryId</th>\n",
       "      <th>DocumentId</th>\n",
       "    </tr>\n",
       "  </thead>\n",
       "  <tbody>\n",
       "    <tr>\n",
       "      <th>0</th>\n",
       "      <td>0</td>\n",
       "      <td>1443</td>\n",
       "    </tr>\n",
       "    <tr>\n",
       "      <th>1</th>\n",
       "      <td>0</td>\n",
       "      <td>5912</td>\n",
       "    </tr>\n",
       "    <tr>\n",
       "      <th>2</th>\n",
       "      <td>0</td>\n",
       "      <td>5963</td>\n",
       "    </tr>\n",
       "    <tr>\n",
       "      <th>3</th>\n",
       "      <td>0</td>\n",
       "      <td>6096</td>\n",
       "    </tr>\n",
       "    <tr>\n",
       "      <th>4</th>\n",
       "      <td>0</td>\n",
       "      <td>6230</td>\n",
       "    </tr>\n",
       "    <tr>\n",
       "      <th>...</th>\n",
       "      <td>...</td>\n",
       "      <td>...</td>\n",
       "    </tr>\n",
       "    <tr>\n",
       "      <th>606045</th>\n",
       "      <td>6310</td>\n",
       "      <td>497350</td>\n",
       "    </tr>\n",
       "    <tr>\n",
       "      <th>606046</th>\n",
       "      <td>6310</td>\n",
       "      <td>512263</td>\n",
       "    </tr>\n",
       "    <tr>\n",
       "      <th>606047</th>\n",
       "      <td>6310</td>\n",
       "      <td>529857</td>\n",
       "    </tr>\n",
       "    <tr>\n",
       "      <th>606048</th>\n",
       "      <td>6310</td>\n",
       "      <td>551291</td>\n",
       "    </tr>\n",
       "    <tr>\n",
       "      <th>606049</th>\n",
       "      <td>6310</td>\n",
       "      <td>561732</td>\n",
       "    </tr>\n",
       "  </tbody>\n",
       "</table>\n",
       "<p>606050 rows × 2 columns</p>\n",
       "</div>"
      ],
      "text/plain": [
       "        QueryId  DocumentId\n",
       "0             0        1443\n",
       "1             0        5912\n",
       "2             0        5963\n",
       "3             0        6096\n",
       "4             0        6230\n",
       "...         ...         ...\n",
       "606045     6310      497350\n",
       "606046     6310      512263\n",
       "606047     6310      529857\n",
       "606048     6310      551291\n",
       "606049     6310      561732\n",
       "\n",
       "[606050 rows x 2 columns]"
      ]
     },
     "execution_count": 4,
     "metadata": {},
     "output_type": "execute_result"
    }
   ],
   "source": [
    "all_groups"
   ]
  },
  {
   "cell_type": "code",
   "execution_count": 5,
   "id": "617dd53a",
   "metadata": {},
   "outputs": [],
   "source": [
    "title_classic_feats = dict()\n",
    "title_classic_feats['un_title_loc_tfidf_vectorizer_1'] = []\n",
    "title_classic_feats['un_title_loc_tfidf_vectorizer_2'] = []\n",
    "title_classic_feats['un_title_loc_tfidf_vectorizer_3'] = []\n",
    "title_classic_feats['un_title_loc_tfidf_vectorizer_234'] = []\n",
    "title_classic_feats['un_title_loc_tfidf_vectorizer_12345'] = []\n",
    "title_classic_feats['un_title_loc_tfidf_vectorizer_ch_1_7'] = []\n",
    "title_classic_feats['un_title_loc_tfidf_vectorizer_ch_8_15'] = []\n",
    "#################################\n",
    "title_classic_feats['un_title_loc_tf_vectorizer_1'] = []\n",
    "title_classic_feats['un_title_loc_tf_vectorizer_2'] = []\n",
    "title_classic_feats['un_title_loc_tf_vectorizer_3'] = []\n",
    "title_classic_feats['un_title_loc_tf_vectorizer_234'] = []\n",
    "title_classic_feats['un_title_loc_tf_vectorizer_12345'] = []\n",
    "title_classic_feats['un_title_loc_tf_vectorizer_ch_1_7'] = []\n",
    "title_classic_feats['un_title_loc_tf_vectorizer_ch_8_15'] = []"
   ]
  },
  {
   "cell_type": "code",
   "execution_count": 6,
   "id": "563d24c0",
   "metadata": {},
   "outputs": [],
   "source": [
    "def calc_cos_sim(vect, corp, query):\n",
    "    x = vect.fit_transform(corp)\n",
    "    q = vect.transform([query])\n",
    "    return list(cosine_similarity(x,q).flatten())"
   ]
  },
  {
   "cell_type": "code",
   "execution_count": 7,
   "id": "a76e3d65",
   "metadata": {},
   "outputs": [
    {
     "name": "stderr",
     "output_type": "stream",
     "text": [
      "100%|██████████| 6311/6311 [14:07<00:00,  7.45it/s]\n"
     ]
    }
   ],
   "source": [
    "q_ids = all_groups['QueryId'].unique()\n",
    "for q1 in tqdm(q_ids):\n",
    "    cur_t = []\n",
    "    cur_q = id_querry_clean[q1]\n",
    "    tmp = all_groups[all_groups.QueryId==q1]\n",
    "    docs = tmp['DocumentId'].values\n",
    "    for doc1 in docs:\n",
    "        cur_t.append(title_data[doc1])\n",
    "    tfidf_vectorizer_1 = TfidfVectorizer(ngram_range=(1,1))\n",
    "    tfidf_vectorizer_2 = TfidfVectorizer(ngram_range=(2,2))\n",
    "    tfidf_vectorizer_3 = TfidfVectorizer(ngram_range=(3,3))\n",
    "    tfidf_vectorizer_234 = TfidfVectorizer(ngram_range=(2,4))\n",
    "    tfidf_vectorizer_12345 = TfidfVectorizer(ngram_range=(1,5))\n",
    "    tfidf_vectorizer_ch_1_7 = TfidfVectorizer(ngram_range=(1,7), analyzer='char_wb')\n",
    "    tfidf_vectorizer_ch_8_15 = TfidfVectorizer(ngram_range=(8,15), analyzer='char_wb')\n",
    "    ####################\n",
    "    tf_vectorizer_1 = TfidfVectorizer(ngram_range=(1,1), use_idf=False)\n",
    "    tf_vectorizer_2 = TfidfVectorizer(ngram_range=(2,2), use_idf=False)\n",
    "    tf_vectorizer_3 = TfidfVectorizer(ngram_range=(3,3), use_idf=False)\n",
    "    tf_vectorizer_234 = TfidfVectorizer(ngram_range=(2,4), use_idf=False)\n",
    "    tf_vectorizer_12345 = TfidfVectorizer(ngram_range=(1,5), use_idf=False)\n",
    "    tf_vectorizer_ch_1_7 = TfidfVectorizer(ngram_range=(1,7), analyzer='char_wb', use_idf=False)\n",
    "    tf_vectorizer_ch_8_15 = TfidfVectorizer(ngram_range=(8,15), analyzer='char_wb', use_idf=False)\n",
    "    \n",
    "    title_classic_feats['un_title_loc_tfidf_vectorizer_1'].extend(calc_cos_sim(tfidf_vectorizer_1, cur_t, cur_q))\n",
    "    title_classic_feats['un_title_loc_tfidf_vectorizer_2'].extend(calc_cos_sim(tfidf_vectorizer_2, cur_t, cur_q))\n",
    "    title_classic_feats['un_title_loc_tfidf_vectorizer_3'].extend(calc_cos_sim(tfidf_vectorizer_3, cur_t, cur_q))\n",
    "    title_classic_feats['un_title_loc_tfidf_vectorizer_234'].extend(calc_cos_sim(tfidf_vectorizer_234, cur_t, cur_q))\n",
    "    title_classic_feats['un_title_loc_tfidf_vectorizer_12345'].extend(calc_cos_sim(tfidf_vectorizer_12345, cur_t, cur_q))\n",
    "    title_classic_feats['un_title_loc_tfidf_vectorizer_ch_1_7'].extend(calc_cos_sim(tfidf_vectorizer_ch_1_7, cur_t, cur_q))\n",
    "    title_classic_feats['un_title_loc_tfidf_vectorizer_ch_8_15'].extend(calc_cos_sim(tfidf_vectorizer_ch_8_15, cur_t, cur_q))\n",
    "    #################################\n",
    "    title_classic_feats['un_title_loc_tf_vectorizer_1'].extend(calc_cos_sim(tf_vectorizer_1, cur_t, cur_q))\n",
    "    title_classic_feats['un_title_loc_tf_vectorizer_2'].extend(calc_cos_sim(tf_vectorizer_2, cur_t, cur_q))\n",
    "    title_classic_feats['un_title_loc_tf_vectorizer_3'].extend(calc_cos_sim(tf_vectorizer_3, cur_t, cur_q))\n",
    "    title_classic_feats['un_title_loc_tf_vectorizer_234'].extend(calc_cos_sim(tf_vectorizer_234, cur_t, cur_q))\n",
    "    title_classic_feats['un_title_loc_tf_vectorizer_12345'].extend(calc_cos_sim(tf_vectorizer_12345, cur_t, cur_q))\n",
    "    title_classic_feats['un_title_loc_tf_vectorizer_ch_1_7'].extend(calc_cos_sim(tf_vectorizer_ch_1_7, cur_t, cur_q))\n",
    "    title_classic_feats['un_title_loc_tf_vectorizer_ch_8_15'].extend(calc_cos_sim(tf_vectorizer_ch_8_15, cur_t, cur_q))"
   ]
  },
  {
   "cell_type": "code",
   "execution_count": 8,
   "id": "e29b4bb8",
   "metadata": {},
   "outputs": [],
   "source": [
    "with open('un_basic_tf_idf_title_feats.pickle', 'wb') as file:\n",
    "    pickle.dump(title_classic_feats, file)"
   ]
  },
  {
   "cell_type": "code",
   "execution_count": null,
   "id": "3cf6dc80",
   "metadata": {},
   "outputs": [],
   "source": []
  }
 ],
 "metadata": {
  "kernelspec": {
   "display_name": "Python 3",
   "language": "python",
   "name": "python3"
  },
  "language_info": {
   "codemirror_mode": {
    "name": "ipython",
    "version": 3
   },
   "file_extension": ".py",
   "mimetype": "text/x-python",
   "name": "python",
   "nbconvert_exporter": "python",
   "pygments_lexer": "ipython3",
   "version": "3.8.8"
  }
 },
 "nbformat": 4,
 "nbformat_minor": 5
}
