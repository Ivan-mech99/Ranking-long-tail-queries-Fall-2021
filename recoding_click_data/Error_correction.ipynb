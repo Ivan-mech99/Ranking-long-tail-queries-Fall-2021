{
 "cells": [
  {
   "cell_type": "code",
   "execution_count": 1,
   "id": "828ad451",
   "metadata": {},
   "outputs": [],
   "source": [
    "from tqdm import tqdm\n",
    "import pandas as pd\n",
    "import os\n",
    "import gzip\n",
    "import zipfile\n",
    "import shutil\n",
    "from time import sleep\n",
    "import pymorphy2\n",
    "from pyaspeller import YandexSpeller\n",
    "from lru import LRU\n",
    "import pickle\n",
    "from time import sleep\n",
    "from concurrent.futures import ThreadPoolExecutor\n",
    "import tarfile\n",
    "import bz2\n",
    "import sys\n",
    "import numpy as np"
   ]
  },
  {
   "cell_type": "code",
   "execution_count": 2,
   "id": "40d0d8a5",
   "metadata": {},
   "outputs": [],
   "source": [
    "with open(\"id_url.pickle\", 'rb') as file:\n",
    "    id_url = pickle.load(file)"
   ]
  },
  {
   "cell_type": "code",
   "execution_count": 3,
   "id": "71a4b683",
   "metadata": {},
   "outputs": [],
   "source": [
    "with open(\"url_id.pickle\", 'rb') as file:\n",
    "    url_id = pickle.load(file)"
   ]
  },
  {
   "cell_type": "code",
   "execution_count": 4,
   "id": "b156032a",
   "metadata": {},
   "outputs": [],
   "source": [
    "with open('id_url_std.pickle', 'rb') as file:\n",
    "    id_url_std = pickle.load(file)"
   ]
  },
  {
   "cell_type": "code",
   "execution_count": 5,
   "id": "756ab53d",
   "metadata": {},
   "outputs": [],
   "source": [
    "with open('url_id_std.pickle', 'rb') as file:\n",
    "    url_id_std = pickle.load(file)"
   ]
  },
  {
   "cell_type": "code",
   "execution_count": 6,
   "id": "e9adb20b",
   "metadata": {},
   "outputs": [],
   "source": [
    "non_uniq_urls = dict()\n",
    "for key in id_url_std:\n",
    "    if id_url_std[key] not in non_uniq_urls:\n",
    "        non_uniq_urls[id_url_std[key]] = []\n",
    "        non_uniq_urls[id_url_std[key]].append(key)\n",
    "    else:\n",
    "        non_uniq_urls[id_url_std[key]].append(key)"
   ]
  },
  {
   "cell_type": "code",
   "execution_count": 7,
   "id": "a5a845f7",
   "metadata": {},
   "outputs": [
    {
     "name": "stdout",
     "output_type": "stream",
     "text": [
      "fotogl.com/content.php?r=16 [17385, 17387]\n",
      "forum.ladoshki.com/viewtopic.php?t=35668 [23150, 23151]\n",
      "russianfood.com/recipes/recipe.php?rid=115206 [41967, 42095]\n",
      "login.vk.com/?_origin=vk.com&ip_h=679559bb68bbd7fe22&role=fast&to=YWxfZmVlZC5waHA- [55505, 55507]\n",
      "youtube.com/?gl=RU&hl=ru [62174, 68743]\n",
      "3-ndfl.info/?id=43 [74788, 74790]\n",
      "blogs.bashtanka.info/viewdn.php?id=2&id_d=31 [75252, 75253]\n",
      "dateandtime.info/ru/city.php?id=1486209 [75679, 75704]\n",
      "small-games.info/?c=61&go=genre&s=2 [80383, 80394]\n",
      "forum.tatar.info/index.php?showtopic=6647 [80852, 80854]\n",
      "elicense.kz/?lang=ru [83391, 83392]\n",
      "zwonok.net/index.php?newsid=1659 [106708, 106710]\n",
      "junona.org/modules.php?link=d09dd0b5d0b1d0be&name=Sonnic&pa=word [110340, 110373]\n",
      "pospelov.org/showthread.php?tid=5216 [113096, 113101]\n",
      "rutracker.org/forum/viewtopic.php?t=2787036 [114286, 114386]\n",
      "lit.1september.ru/article.php?ID=200301206 [124245, 124268]\n",
      "4pda.ru/forum/index.php?showtopic=199639 [128233, 128874]\n",
      "4pda.ru/forum/index.php?showtopic=273806 [128322, 128875]\n",
      "bestkids.ru/?show=boygirl [168284, 168288]\n",
      "boomz.ru/index.php?newsid=7 [180175, 180177]\n",
      "calendareveryday.ru/?id=pravoslavn [185444, 185451]\n",
      "forum.consultant.ru/viewtopic.php?id=670 [196642, 196654]\n",
      "delo-press.ru/articles.php?n=5050 [202952, 203040]\n",
      "delo-press.ru/articles.php?n=5137 [202957, 203041]\n",
      "delo-press.ru/articles.php?n=5860 [202978, 203042]\n",
      "delo-press.ru/articles.php?n=7035 [203004, 203044]\n",
      "delo-press.ru/articles.php?n=7262 [203010, 203045]\n",
      "detkimama.ru/viewtopic.php?id=4576 [204045, 204048]\n",
      "domprazdnika.ru/feasts/scripts/scenary567?rid=71 [213842, 213843]\n",
      "dukandiet.ru/forum/viewtopic.php?f=17&t=6 [219556, 219557]\n",
      "fammeo.ru/articles.php?article_id=944 [237155, 237156]\n",
      "forumdacha.ru/forum/viewtopic.php?t=885 [248021, 248022]\n",
      "freeadvice.ru/view_advice.php?id=66 [249108, 249119]\n",
      "freeadvice.ru/view_advice.php?id=74 [249110, 249120]\n",
      "galya.ru/clubs/show.php?id=211231 [251023, 251378]\n",
      "galya.ru/clubs/show.php?id=262323 [251048, 251379]\n",
      "m.galya.ru/clubs/show.php?id=262323 [251412, 251417]\n",
      "gotovim-doma.ru/view.php?r=47-recept-Plov-po-domashnemu [261173, 261236]\n",
      "happy-kids.ru/page.php?id=447 [264895, 264896]\n",
      "historicus.ru/?page=8&q=97 [266883, 266885]\n",
      "informi.ru/view.php?id=328 [274860, 274870]\n",
      "ixbit.ru/forum?open=1237497319_697 [281124, 281126]\n",
      "kozdor.ru/odna_stat.php?id=231 [298696, 298716]\n",
      "my.mail.ru/?from=content [332717, 332722]\n",
      "live.mephist.ru/?mid=1273162348 [355405, 355406]\n",
      "migrants.ru/forum/theme.php?id=74 [356693, 356695]\n",
      "mixprice.ru/noutbuk/?top=30 [360266, 360267]\n",
      "mycondo.ru/forums/topic.php?tid=678 [374783, 374784]\n",
      "forum.myjane.ru/viewtopic.php?start=15&t=11267 [375310, 375378]\n",
      "forum.myjane.ru/viewtopic.php?t=13968 [375339, 375379]\n",
      "nashi-detochki.ru/svoimirukamipodr.php?id=15 [381779, 381782]\n",
      "o-spide.ru/about/healthy/detail.php?ID=139 [395261, 395262]\n",
      "ok.ru/?_erv=viewlyirbwpynedra [397375, 397412]\n",
      "ok.ru/?_erv=vuyzlyirbwpynedjrs [397377, 397413]\n",
      "ok.ru/?_erv=vwhxlyirbwpynedop [397378, 397414]\n",
      "osnova-pc.ru/prosmotr_posta.php?id=275 [404825, 404828]\n",
      "parniok.ru/?id=167&mod=boards [410001, 410011]\n",
      "pc-user.ru/view_post.php?id=17 [411035, 411044]\n",
      "pobedish.ru/main/depress?id=113 [416669, 416691]\n",
      "pobedish.ru/main/talks?id=37 [416689, 416730]\n",
      "prihoz.ru/lawyer/full.php?aid=913 [425765, 425769]\n",
      "psynavigator.ru/articles.php?code=704 [433902, 433908]\n",
      "realisti.ru/main/delat_li_abort?id=506 [439416, 439442]\n",
      "regforum.ru/forum/showthread.php?t=42424 [444035, 444041]\n",
      "sbforum.ru/showthread.php?t=7486 [459128, 459133]\n",
      "forum.sibnet.ru/index.php?showtopic=140483&st=20 [465947, 465955]\n",
      "supersadovnik.ru/article_plant.aspx?id=1000672 [493410, 493419]\n",
      "vetkaivi.ru/main/prison?id=99 [528433, 528438]\n",
      "vsegdazdorov.ru/articles.html?gid=2040923240&id=1615522145 [534680, 534682]\n",
      "lady.webnice.ru/beauty/?act=article&v=161 [538611, 538615]\n",
      "worldgeo.ru/russia/lists/?id=23&page=3 [544122, 544123]\n",
      "www-formula.ru/index.php?Itemid=165&id=162&option=com_content&view=article [544620, 544643]\n",
      "awalar.su/index.php?id=5936&option=com_avalar [558355, 558356]\n",
      "efferent.com.ua/consult1.php?q=4265 [566984, 566988]\n"
     ]
    }
   ],
   "source": [
    "ill_url_ids = dict()\n",
    "for key in non_uniq_urls:\n",
    "    if len(non_uniq_urls[key])>1:\n",
    "        print(key, non_uniq_urls[key])\n",
    "        ill_url_ids[non_uniq_urls[key][0]] = non_uniq_urls[key][1]"
   ]
  },
  {
   "cell_type": "code",
   "execution_count": 9,
   "id": "f4f6884d",
   "metadata": {},
   "outputs": [],
   "source": [
    "with open('ill_url_ids.pickle', 'wb') as file:\n",
    "    pickle.dump(ill_url_ids, file)"
   ]
  },
  {
   "cell_type": "code",
   "execution_count": null,
   "id": "b90d3e19",
   "metadata": {},
   "outputs": [],
   "source": []
  }
 ],
 "metadata": {
  "kernelspec": {
   "display_name": "Python 3",
   "language": "python",
   "name": "python3"
  },
  "language_info": {
   "codemirror_mode": {
    "name": "ipython",
    "version": 3
   },
   "file_extension": ".py",
   "mimetype": "text/x-python",
   "name": "python",
   "nbconvert_exporter": "python",
   "pygments_lexer": "ipython3",
   "version": "3.8.8"
  }
 },
 "nbformat": 4,
 "nbformat_minor": 5
}
