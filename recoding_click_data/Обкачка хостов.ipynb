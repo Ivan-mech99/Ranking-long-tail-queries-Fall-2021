{
 "cells": [
  {
   "cell_type": "code",
   "execution_count": 1,
   "id": "423ed751",
   "metadata": {},
   "outputs": [],
   "source": [
    "from tqdm import tqdm\n",
    "import pandas as pd\n",
    "import os\n",
    "import gzip\n",
    "import zipfile\n",
    "import shutil\n",
    "from time import sleep\n",
    "import pymorphy2\n",
    "from pyaspeller import YandexSpeller\n",
    "from lru import LRU\n",
    "import pickle\n",
    "from time import sleep\n",
    "from concurrent.futures import ThreadPoolExecutor\n",
    "import tarfile\n",
    "import bz2\n",
    "import sys\n",
    "import numpy as np"
   ]
  },
  {
   "cell_type": "code",
   "execution_count": 2,
   "id": "c14c6c83",
   "metadata": {},
   "outputs": [],
   "source": [
    "class URL_info():\n",
    "    def __init__(self):\n",
    "        self.total_shows = 0\n",
    "        self.total_clicks = 0\n",
    "        self.num_first_clicks = 0\n",
    "        self.num_last_clicks = 0\n",
    "        self.show_poses = np.zeros((10,),dtype='int')\n",
    "        self.show_poses_cl = np.zeros((10,),dtype='int')\n",
    "        self.click_poses = np.zeros((10,),dtype='int')\n",
    "        self.time = 0\n",
    "        self.clicks_on_higher_pos = 0\n",
    "        self.clicks_on_lower_pos = 0\n",
    "        self.clicks_after_this = 0\n",
    "        self.clicks_before_this = 0\n",
    "        self.is_click_on_higher_pos = 0\n",
    "        self.is_click_on_lower_pos = 0"
   ]
  },
  {
   "cell_type": "code",
   "execution_count": 3,
   "id": "d45b3f41",
   "metadata": {},
   "outputs": [],
   "source": [
    "with open('id_host.pickle', 'rb') as file:\n",
    "    id_url_std = pickle.load(file)"
   ]
  },
  {
   "cell_type": "code",
   "execution_count": 4,
   "id": "67a13f40",
   "metadata": {},
   "outputs": [],
   "source": [
    "url_cl_info = dict()\n",
    "for key in id_url_std:\n",
    "    url_cl_info[key] = URL_info()"
   ]
  },
  {
   "cell_type": "code",
   "execution_count": 5,
   "id": "ec605990",
   "metadata": {},
   "outputs": [
    {
     "name": "stderr",
     "output_type": "stream",
     "text": [
      "100%|██████████| 1900/1900 [14:58:35<00:00, 28.38s/it]    \n"
     ]
    }
   ],
   "source": [
    "listOfFiles = os.listdir('rh_host_data_upd')\n",
    "idx = [int(str2[3:-4]) for str2 in listOfFiles]\n",
    "idx.sort()\n",
    "best_dat = []\n",
    "for idx1 in tqdm(idx):\n",
    "    with zipfile.ZipFile('rh_host_data_upd/rh_{}.zip'.format(idx1)) as myzip:\n",
    "        with myzip.open('rh_{}.pickle'.format(idx1), 'r') as file:\n",
    "            obj = pickle.load(file)\n",
    "            for session in obj:\n",
    "                #чтсло первых кликов\n",
    "                if len(session[3])>0:\n",
    "                    if session[3][0]>-1:\n",
    "                        url_cl_info[session[3][0]].num_first_clicks+=1\n",
    "                #число последних кликов  \n",
    "                if len(session[3])>0:\n",
    "                    if session[3][-1]>-1:\n",
    "                        url_cl_info[session[3][-1]].num_last_clicks+=1\n",
    "                #число показов\n",
    "                show_ps = dict()\n",
    "                for i in range(len(session[2])):\n",
    "                    show_ps[session[2][i]]=i\n",
    "                    if session[2][i]>-1:\n",
    "                        url_cl_info[session[2][i]].total_shows+=1\n",
    "                        #показы на первых 10-ти позициях\n",
    "                        if i<10:\n",
    "                            url_cl_info[session[2][i]].show_poses[i]+=1\n",
    "                #число кликов    \n",
    "                for i in range(len(session[3])):\n",
    "                    if session[3][i]>-1:\n",
    "                        url_cl_info[session[3][i]].total_clicks+=1\n",
    "                        #число кликов после/до клика на этот\n",
    "                        url_cl_info[session[3][i]].clicks_before_this += i\n",
    "                        url_cl_info[session[3][i]].clicks_after_this += (len(session[3])-1-i)\n",
    "                        #клики на первых 10-ти позициях\n",
    "                        if show_ps[session[3][i]]<10:\n",
    "                            url_cl_info[session[3][i]].click_poses[show_ps[session[3][i]]]+=1\n",
    "                #время\n",
    "                if len(session[4])>1:\n",
    "                    for i in range(len(session[4])-2):\n",
    "                        if session[3][i]>-1:\n",
    "                            url_cl_info[session[3][i]].time += ((session[4][i+1]-session[4][i])/1000)\n",
    "                pos_list = []\n",
    "                for key in show_ps:\n",
    "                    pos_list.append(show_ps[key])\n",
    "                pos_list = np.array(pos_list)\n",
    "                clicked_set = set()\n",
    "                for i in range(len(session[3])):\n",
    "                    if session[3][i]>-1:\n",
    "                        cur_pos = show_ps[session[3][i]]\n",
    "                        clicked_set.add(session[3][i])\n",
    "                        a1 = np.sum(pos_list<cur_pos)\n",
    "                        url_cl_info[session[3][i]].clicks_on_lower_pos+=a1\n",
    "                        if a1>0:\n",
    "                            url_cl_info[session[3][i]].is_click_on_lower_pos+=1\n",
    "                        b1 = np.sum(pos_list>cur_pos)\n",
    "                        url_cl_info[session[3][i]].clicks_on_higher_pos+=b1\n",
    "                        if b1>0:\n",
    "                            url_cl_info[session[3][i]].is_click_on_higher_pos+=1\n",
    "                for i in range(len(session[3])):\n",
    "                    if session[3][i] in clicked_set and i<10:\n",
    "                        url_cl_info[session[3][i]].show_poses_cl[i]+=1     "
   ]
  },
  {
   "cell_type": "code",
   "execution_count": 6,
   "id": "a61fd473",
   "metadata": {},
   "outputs": [],
   "source": [
    "with open(\"host_simple.pickle\", 'wb') as file:\n",
    "    pickle.dump(url_cl_info, file)"
   ]
  },
  {
   "cell_type": "code",
   "execution_count": 7,
   "id": "27530826",
   "metadata": {},
   "outputs": [
    {
     "data": {
      "text/plain": [
       "3"
      ]
     },
     "execution_count": 7,
     "metadata": {},
     "output_type": "execute_result"
    }
   ],
   "source": [
    "1+2"
   ]
  },
  {
   "cell_type": "code",
   "execution_count": null,
   "id": "4fee31c5",
   "metadata": {},
   "outputs": [],
   "source": []
  }
 ],
 "metadata": {
  "kernelspec": {
   "display_name": "Python 3",
   "language": "python",
   "name": "python3"
  },
  "language_info": {
   "codemirror_mode": {
    "name": "ipython",
    "version": 3
   },
   "file_extension": ".py",
   "mimetype": "text/x-python",
   "name": "python",
   "nbconvert_exporter": "python",
   "pygments_lexer": "ipython3",
   "version": "3.8.8"
  }
 },
 "nbformat": 4,
 "nbformat_minor": 5
}
