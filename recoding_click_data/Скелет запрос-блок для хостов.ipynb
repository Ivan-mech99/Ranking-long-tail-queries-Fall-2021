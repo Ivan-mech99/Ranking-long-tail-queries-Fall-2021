{
 "cells": [
  {
   "cell_type": "code",
   "execution_count": 1,
   "id": "892b2420",
   "metadata": {},
   "outputs": [],
   "source": [
    "from tqdm import tqdm\n",
    "import pandas as pd\n",
    "import os\n",
    "import gzip\n",
    "import zipfile\n",
    "import shutil\n",
    "from time import sleep\n",
    "import pickle\n",
    "import tarfile\n",
    "import bz2\n",
    "import sys\n",
    "import numpy as np"
   ]
  },
  {
   "cell_type": "code",
   "execution_count": 2,
   "id": "de167cfa",
   "metadata": {},
   "outputs": [],
   "source": [
    "df_marks = pd.read_csv('train.marks.tsv', delimiter='\\t', header=None)\n",
    "df_marks = df_marks.rename(columns={0: \"QueryId\", 1: \"DocumentId\"})\n",
    "df_marks = df_marks.drop(columns=[2])\n",
    "df_example = pd.read_csv('sample.csv')\n",
    "all_groups = df_marks.append(df_example)\n",
    "all_groups = all_groups.reset_index()\n",
    "all_groups = all_groups.drop(columns=['index'])\n",
    "all_groups = all_groups.sort_values(by=['QueryId', 'DocumentId']).reset_index()\n",
    "all_groups = all_groups.drop(columns=['index'])\n",
    "rev_frame = all_groups.sort_values(by=['DocumentId', 'QueryId']).reset_index()\n",
    "rev_frame = rev_frame.drop(columns=['index'])"
   ]
  },
  {
   "cell_type": "code",
   "execution_count": 3,
   "id": "ac0c1a20",
   "metadata": {},
   "outputs": [],
   "source": [
    "host_skelet = dict()\n",
    "q_ids = all_groups['QueryId'].unique()\n",
    "for qid in q_ids:\n",
    "    host_skelet[qid] = set()"
   ]
  },
  {
   "cell_type": "code",
   "execution_count": 4,
   "id": "f69e2a6d",
   "metadata": {},
   "outputs": [
    {
     "name": "stderr",
     "output_type": "stream",
     "text": [
      "100%|██████████| 1900/1900 [51:41<00:00,  1.63s/it]  \n"
     ]
    }
   ],
   "source": [
    "listOfFiles = os.listdir('rh_host_data_upd')\n",
    "idx = [int(str2[3:-4]) for str2 in listOfFiles]\n",
    "idx.sort()\n",
    "for idx1 in tqdm(idx):\n",
    "    with zipfile.ZipFile('rh_host_data_upd/rh_{}.zip'.format(idx1)) as myzip:\n",
    "        with myzip.open('rh_{}.pickle'.format(idx1), 'r') as file:\n",
    "            obj = pickle.load(file)\n",
    "            for session in obj:\n",
    "                if session[0]>-1:\n",
    "                    host_skelet[session[0]].add(idx1)"
   ]
  },
  {
   "cell_type": "code",
   "execution_count": 5,
   "id": "f372c564",
   "metadata": {},
   "outputs": [],
   "source": [
    "with open('host_skelet.pickle', 'wb') as file:\n",
    "    pickle.dump(host_skelet, file)"
   ]
  },
  {
   "cell_type": "code",
   "execution_count": 6,
   "id": "be15b9a7",
   "metadata": {},
   "outputs": [
    {
     "data": {
      "text/plain": [
       "3"
      ]
     },
     "execution_count": 6,
     "metadata": {},
     "output_type": "execute_result"
    }
   ],
   "source": [
    "1+2"
   ]
  },
  {
   "cell_type": "code",
   "execution_count": 8,
   "id": "38f1c072",
   "metadata": {},
   "outputs": [
    {
     "name": "stderr",
     "output_type": "stream",
     "text": [
      "100%|██████████| 6311/6311 [4:53:23<00:00,  2.79s/it]   \n"
     ]
    }
   ],
   "source": [
    "for key in tqdm(host_skelet):\n",
    "    if len(host_skelet[key])>0:\n",
    "        data = []\n",
    "        for num in host_skelet[key]:\n",
    "            with zipfile.ZipFile('rh_host_data_upd/rh_{}.zip'.format(num)) as myzip:\n",
    "                with myzip.open('rh_{}.pickle'.format(num), 'r') as file:\n",
    "                    obj = pickle.load(file)\n",
    "                    tmp = list(filter(lambda x: x[0]==key, obj))\n",
    "                    data.extend(tmp)\n",
    "        data = tuple(data)\n",
    "        with open('host_query/qh_{}.pickle'.format(key), 'wb') as file:\n",
    "            pickle.dump(data, file)"
   ]
  },
  {
   "cell_type": "code",
   "execution_count": 9,
   "id": "3292fd54",
   "metadata": {},
   "outputs": [
    {
     "data": {
      "text/plain": [
       "3"
      ]
     },
     "execution_count": 9,
     "metadata": {},
     "output_type": "execute_result"
    }
   ],
   "source": [
    "1+2"
   ]
  },
  {
   "cell_type": "code",
   "execution_count": null,
   "id": "cf8cb302",
   "metadata": {},
   "outputs": [],
   "source": []
  }
 ],
 "metadata": {
  "kernelspec": {
   "display_name": "Python 3",
   "language": "python",
   "name": "python3"
  },
  "language_info": {
   "codemirror_mode": {
    "name": "ipython",
    "version": 3
   },
   "file_extension": ".py",
   "mimetype": "text/x-python",
   "name": "python",
   "nbconvert_exporter": "python",
   "pygments_lexer": "ipython3",
   "version": "3.8.8"
  }
 },
 "nbformat": 4,
 "nbformat_minor": 5
}
