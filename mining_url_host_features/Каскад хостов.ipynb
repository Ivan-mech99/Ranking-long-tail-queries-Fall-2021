{
 "cells": [
  {
   "cell_type": "code",
   "execution_count": 1,
   "id": "e78a6915",
   "metadata": {},
   "outputs": [],
   "source": [
    "from tqdm import tqdm\n",
    "import pandas as pd\n",
    "import os\n",
    "import gzip\n",
    "import zipfile\n",
    "import shutil\n",
    "from time import sleep\n",
    "import pymorphy2\n",
    "from pyaspeller import YandexSpeller\n",
    "from lru import LRU\n",
    "import pickle\n",
    "from time import sleep\n",
    "from concurrent.futures import ThreadPoolExecutor\n",
    "import tarfile\n",
    "import bz2\n",
    "import sys\n",
    "import numpy as np"
   ]
  },
  {
   "cell_type": "code",
   "execution_count": 2,
   "id": "fb743e07",
   "metadata": {},
   "outputs": [],
   "source": [
    "class Cascade_info():\n",
    "    def __init__(self):\n",
    "        self.view = 0\n",
    "        self.click = 0"
   ]
  },
  {
   "cell_type": "code",
   "execution_count": 3,
   "id": "96f48703",
   "metadata": {},
   "outputs": [],
   "source": [
    "with open('id_host.pickle', 'rb') as file:\n",
    "    id_url_std = pickle.load(file)"
   ]
  },
  {
   "cell_type": "code",
   "execution_count": 4,
   "id": "485e5a20",
   "metadata": {},
   "outputs": [],
   "source": [
    "url_casc_info = dict()\n",
    "for key in id_url_std:\n",
    "    url_casc_info[key] = Cascade_info()"
   ]
  },
  {
   "cell_type": "code",
   "execution_count": 5,
   "id": "0f8d15c3",
   "metadata": {},
   "outputs": [
    {
     "name": "stderr",
     "output_type": "stream",
     "text": [
      "100%|██████████| 1900/1900 [1:01:10<00:00,  1.93s/it]\n"
     ]
    }
   ],
   "source": [
    "listOfFiles = os.listdir('rh_host_data_upd')\n",
    "idx = [int(str2[3:-4]) for str2 in listOfFiles]\n",
    "idx.sort()\n",
    "best_dat = []\n",
    "for idx1 in tqdm(idx):\n",
    "    with zipfile.ZipFile('rh_host_data_upd/rh_{}.zip'.format(idx1)) as myzip:\n",
    "        with myzip.open('rh_{}.pickle'.format(idx1), 'r') as file:\n",
    "            obj = pickle.load(file)\n",
    "            #корректный каскад\n",
    "            for session in obj:\n",
    "                clicked_set = set()\n",
    "                for num in session[3]:\n",
    "                    #if num>-1:\n",
    "                    clicked_set.add(num)\n",
    "                if len(clicked_set)>0:\n",
    "                    for num in session[2]:\n",
    "                        if num not in clicked_set and num>-1:\n",
    "                            url_casc_info[num].view+=1\n",
    "                        elif num in clicked_set:\n",
    "                            if num>-1:\n",
    "                                url_casc_info[num].view+=1\n",
    "                                url_casc_info[num].click+=1\n",
    "                            break"
   ]
  },
  {
   "cell_type": "code",
   "execution_count": 6,
   "id": "f1bf9e3a",
   "metadata": {},
   "outputs": [],
   "source": [
    "with open(\"host_casc.pickle\", 'wb') as file:\n",
    "    pickle.dump(url_casc_info, file)"
   ]
  },
  {
   "cell_type": "code",
   "execution_count": null,
   "id": "1bdef61e",
   "metadata": {},
   "outputs": [],
   "source": []
  }
 ],
 "metadata": {
  "kernelspec": {
   "display_name": "Python 3",
   "language": "python",
   "name": "python3"
  },
  "language_info": {
   "codemirror_mode": {
    "name": "ipython",
    "version": 3
   },
   "file_extension": ".py",
   "mimetype": "text/x-python",
   "name": "python",
   "nbconvert_exporter": "python",
   "pygments_lexer": "ipython3",
   "version": "3.8.8"
  }
 },
 "nbformat": 4,
 "nbformat_minor": 5
}
