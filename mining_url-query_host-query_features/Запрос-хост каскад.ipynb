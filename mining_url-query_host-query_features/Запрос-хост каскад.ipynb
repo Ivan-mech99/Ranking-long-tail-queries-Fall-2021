{
 "cells": [
  {
   "cell_type": "code",
   "execution_count": 1,
   "id": "5cbb68ca",
   "metadata": {},
   "outputs": [],
   "source": [
    "from tqdm import tqdm\n",
    "import pandas as pd\n",
    "import os\n",
    "import gzip\n",
    "import zipfile\n",
    "import shutil\n",
    "from time import sleep\n",
    "import pymorphy2\n",
    "from pyaspeller import YandexSpeller\n",
    "from lru import LRU\n",
    "import pickle\n",
    "from time import sleep\n",
    "from concurrent.futures import ThreadPoolExecutor\n",
    "import tarfile\n",
    "import bz2\n",
    "import sys\n",
    "import numpy as np\n",
    "with open('ill_url_ids.pickle', 'rb') as file:\n",
    "    ill_url_ids = pickle.load(file)\n",
    "def transform(arg, ill_url_ids):\n",
    "    if arg not in ill_url_ids:\n",
    "        return arg\n",
    "    else:\n",
    "        return ill_url_ids[arg]\n",
    "class Cascade_info():\n",
    "    def __init__(self):\n",
    "        self.view = 0\n",
    "        self.click = 0\n",
    "with open(\"doc_to_host.pickle\", 'rb') as file:\n",
    "    doc_to_host = pickle.load(file)"
   ]
  },
  {
   "cell_type": "code",
   "execution_count": 2,
   "id": "c37a33a4",
   "metadata": {},
   "outputs": [],
   "source": [
    "df_marks = pd.read_csv('train.marks.tsv', delimiter='\\t', header=None)\n",
    "df_marks = df_marks.rename(columns={0: \"QueryId\", 1: \"DocumentId\"})\n",
    "df_marks = df_marks.drop(columns=[2])\n",
    "df_example = pd.read_csv('sample.csv')\n",
    "all_groups = df_marks.append(df_example)\n",
    "all_groups = all_groups.reset_index()\n",
    "all_groups = all_groups.drop(columns=['index'])\n",
    "all_groups = all_groups.sort_values(by=['QueryId', 'DocumentId']).reset_index()\n",
    "all_groups = all_groups.drop(columns=['index'])\n",
    "rev_frame = all_groups.sort_values(by=['DocumentId', 'QueryId']).reset_index()\n",
    "rev_frame = rev_frame.drop(columns=['index'])"
   ]
  },
  {
   "cell_type": "code",
   "execution_count": 3,
   "id": "d256be44",
   "metadata": {},
   "outputs": [
    {
     "data": {
      "text/html": [
       "<div>\n",
       "<style scoped>\n",
       "    .dataframe tbody tr th:only-of-type {\n",
       "        vertical-align: middle;\n",
       "    }\n",
       "\n",
       "    .dataframe tbody tr th {\n",
       "        vertical-align: top;\n",
       "    }\n",
       "\n",
       "    .dataframe thead th {\n",
       "        text-align: right;\n",
       "    }\n",
       "</style>\n",
       "<table border=\"1\" class=\"dataframe\">\n",
       "  <thead>\n",
       "    <tr style=\"text-align: right;\">\n",
       "      <th></th>\n",
       "      <th>QueryId</th>\n",
       "      <th>DocumentId</th>\n",
       "    </tr>\n",
       "  </thead>\n",
       "  <tbody>\n",
       "    <tr>\n",
       "      <th>0</th>\n",
       "      <td>0</td>\n",
       "      <td>1443</td>\n",
       "    </tr>\n",
       "    <tr>\n",
       "      <th>1</th>\n",
       "      <td>0</td>\n",
       "      <td>5912</td>\n",
       "    </tr>\n",
       "    <tr>\n",
       "      <th>2</th>\n",
       "      <td>0</td>\n",
       "      <td>5963</td>\n",
       "    </tr>\n",
       "    <tr>\n",
       "      <th>3</th>\n",
       "      <td>0</td>\n",
       "      <td>6096</td>\n",
       "    </tr>\n",
       "    <tr>\n",
       "      <th>4</th>\n",
       "      <td>0</td>\n",
       "      <td>6230</td>\n",
       "    </tr>\n",
       "    <tr>\n",
       "      <th>...</th>\n",
       "      <td>...</td>\n",
       "      <td>...</td>\n",
       "    </tr>\n",
       "    <tr>\n",
       "      <th>606045</th>\n",
       "      <td>6310</td>\n",
       "      <td>497350</td>\n",
       "    </tr>\n",
       "    <tr>\n",
       "      <th>606046</th>\n",
       "      <td>6310</td>\n",
       "      <td>512263</td>\n",
       "    </tr>\n",
       "    <tr>\n",
       "      <th>606047</th>\n",
       "      <td>6310</td>\n",
       "      <td>529857</td>\n",
       "    </tr>\n",
       "    <tr>\n",
       "      <th>606048</th>\n",
       "      <td>6310</td>\n",
       "      <td>551291</td>\n",
       "    </tr>\n",
       "    <tr>\n",
       "      <th>606049</th>\n",
       "      <td>6310</td>\n",
       "      <td>561732</td>\n",
       "    </tr>\n",
       "  </tbody>\n",
       "</table>\n",
       "<p>606050 rows × 2 columns</p>\n",
       "</div>"
      ],
      "text/plain": [
       "        QueryId  DocumentId\n",
       "0             0        1443\n",
       "1             0        5912\n",
       "2             0        5963\n",
       "3             0        6096\n",
       "4             0        6230\n",
       "...         ...         ...\n",
       "606045     6310      497350\n",
       "606046     6310      512263\n",
       "606047     6310      529857\n",
       "606048     6310      551291\n",
       "606049     6310      561732\n",
       "\n",
       "[606050 rows x 2 columns]"
      ]
     },
     "execution_count": 3,
     "metadata": {},
     "output_type": "execute_result"
    }
   ],
   "source": [
    "all_groups"
   ]
  },
  {
   "cell_type": "code",
   "execution_count": 4,
   "id": "9fd648ba",
   "metadata": {},
   "outputs": [],
   "source": [
    "q_ids = all_groups['QueryId'].unique()"
   ]
  },
  {
   "cell_type": "code",
   "execution_count": 5,
   "id": "3161066e",
   "metadata": {},
   "outputs": [],
   "source": [
    "q_docs_act = dict()"
   ]
  },
  {
   "cell_type": "code",
   "execution_count": 6,
   "id": "ed89a18c",
   "metadata": {},
   "outputs": [
    {
     "name": "stderr",
     "output_type": "stream",
     "text": [
      "100%|██████████| 6311/6311 [00:09<00:00, 655.85it/s]\n"
     ]
    }
   ],
   "source": [
    "for qid in tqdm(q_ids):\n",
    "    q_docs_act[qid] = set()\n",
    "    tmp = all_groups[all_groups.QueryId==qid]\n",
    "    tmp_docs = tmp['DocumentId'].unique()\n",
    "    for doc in tmp_docs:\n",
    "        q_docs_act[qid].add(doc_to_host[transform(doc, ill_url_ids)])"
   ]
  },
  {
   "cell_type": "code",
   "execution_count": 7,
   "id": "e955a5c8",
   "metadata": {},
   "outputs": [],
   "source": [
    "with open(\"q_docs_act.pickle\", 'wb') as file:\n",
    "    pickle.dump(q_docs_act, file)"
   ]
  },
  {
   "cell_type": "code",
   "execution_count": 8,
   "id": "6031747a",
   "metadata": {},
   "outputs": [],
   "source": [
    "double_q_dict = dict()"
   ]
  },
  {
   "cell_type": "code",
   "execution_count": 9,
   "id": "cb33ea72",
   "metadata": {},
   "outputs": [
    {
     "name": "stderr",
     "output_type": "stream",
     "text": [
      "100%|██████████| 6311/6311 [00:01<00:00, 5100.43it/s]\n"
     ]
    }
   ],
   "source": [
    "for key in tqdm(q_docs_act):\n",
    "    double_q_dict[key] = dict()\n",
    "    for elem in q_docs_act[key]:\n",
    "        double_q_dict[key][elem]=Cascade_info()"
   ]
  },
  {
   "cell_type": "code",
   "execution_count": 10,
   "id": "2d68fa82",
   "metadata": {},
   "outputs": [],
   "source": [
    "exists = set(os.listdir('host_query'))"
   ]
  },
  {
   "cell_type": "code",
   "execution_count": 11,
   "id": "4395fa7f",
   "metadata": {},
   "outputs": [
    {
     "name": "stderr",
     "output_type": "stream",
     "text": [
      "100%|██████████| 6311/6311 [00:15<00:00, 416.07it/s]\n"
     ]
    }
   ],
   "source": [
    "for key1 in tqdm(double_q_dict):\n",
    "    if 'qh_{}.pickle'.format(key1) in exists:\n",
    "        with open('host_query/qh_{}.pickle'.format(key1), 'rb') as file:\n",
    "            obj = pickle.load(file)\n",
    "            #корректный каскад\n",
    "            for session in obj:\n",
    "                clicked_set = set()\n",
    "                for num in session[3]:\n",
    "                    #if num>-1:\n",
    "                    clicked_set.add(num)\n",
    "                if len(clicked_set)>0:\n",
    "                    for num in session[2]:\n",
    "                        if num not in clicked_set and num in q_docs_act[key1]:\n",
    "                            double_q_dict[key1][num].view+=1\n",
    "                        elif num in clicked_set:\n",
    "                            if num in q_docs_act[key1]:\n",
    "                                double_q_dict[key1][num].view+=1\n",
    "                                double_q_dict[key1][num].click+=1\n",
    "                            break"
   ]
  },
  {
   "cell_type": "code",
   "execution_count": 12,
   "id": "0ea3dc7c",
   "metadata": {},
   "outputs": [],
   "source": [
    "with open(\"QHP_casc.pickle\", 'wb') as file:\n",
    "    pickle.dump(double_q_dict, file)"
   ]
  },
  {
   "cell_type": "code",
   "execution_count": 13,
   "id": "ba9efa2f",
   "metadata": {},
   "outputs": [
    {
     "data": {
      "text/plain": [
       "6"
      ]
     },
     "execution_count": 13,
     "metadata": {},
     "output_type": "execute_result"
    }
   ],
   "source": [
    "1+5"
   ]
  },
  {
   "cell_type": "code",
   "execution_count": null,
   "id": "2c711730",
   "metadata": {},
   "outputs": [],
   "source": []
  }
 ],
 "metadata": {
  "kernelspec": {
   "display_name": "Python 3",
   "language": "python",
   "name": "python3"
  },
  "language_info": {
   "codemirror_mode": {
    "name": "ipython",
    "version": 3
   },
   "file_extension": ".py",
   "mimetype": "text/x-python",
   "name": "python",
   "nbconvert_exporter": "python",
   "pygments_lexer": "ipython3",
   "version": "3.8.8"
  }
 },
 "nbformat": 4,
 "nbformat_minor": 5
}
