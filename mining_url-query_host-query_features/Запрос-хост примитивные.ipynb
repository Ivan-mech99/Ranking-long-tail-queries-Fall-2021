{
 "cells": [
  {
   "cell_type": "code",
   "execution_count": 1,
   "id": "7110327a",
   "metadata": {},
   "outputs": [],
   "source": [
    "from tqdm import tqdm\n",
    "import pandas as pd\n",
    "import os\n",
    "import gzip\n",
    "import zipfile\n",
    "import shutil\n",
    "from time import sleep\n",
    "import pymorphy2\n",
    "from pyaspeller import YandexSpeller\n",
    "from lru import LRU\n",
    "import pickle\n",
    "from time import sleep\n",
    "from concurrent.futures import ThreadPoolExecutor\n",
    "import tarfile\n",
    "import bz2\n",
    "import sys\n",
    "import numpy as np\n",
    "with open('ill_url_ids.pickle', 'rb') as file:\n",
    "    ill_url_ids = pickle.load(file)\n",
    "def transform(arg, ill_url_ids):\n",
    "    if arg not in ill_url_ids:\n",
    "        return arg\n",
    "    else:\n",
    "        return ill_url_ids[arg]\n",
    "class URL_info():\n",
    "    def __init__(self):\n",
    "        self.total_shows = 0\n",
    "        self.total_clicks = 0\n",
    "        self.num_first_clicks = 0\n",
    "        self.num_last_clicks = 0\n",
    "        self.show_poses = np.zeros((10,),dtype='int')\n",
    "        self.show_poses_cl = np.zeros((10,),dtype='int')\n",
    "        self.click_poses = np.zeros((10,),dtype='int')\n",
    "        self.time = 0\n",
    "        self.clicks_on_higher_pos = 0\n",
    "        self.clicks_on_lower_pos = 0\n",
    "        self.clicks_after_this = 0\n",
    "        self.clicks_before_this = 0\n",
    "        self.is_click_on_higher_pos = 0\n",
    "        self.is_click_on_lower_pos = 0\n",
    "with open(\"doc_to_host.pickle\", 'rb') as file:\n",
    "    doc_to_host = pickle.load(file)"
   ]
  },
  {
   "cell_type": "code",
   "execution_count": 2,
   "id": "b485b5ff",
   "metadata": {},
   "outputs": [],
   "source": [
    "df_marks = pd.read_csv('train.marks.tsv', delimiter='\\t', header=None)\n",
    "df_marks = df_marks.rename(columns={0: \"QueryId\", 1: \"DocumentId\"})\n",
    "df_marks = df_marks.drop(columns=[2])\n",
    "df_example = pd.read_csv('sample.csv')\n",
    "all_groups = df_marks.append(df_example)\n",
    "all_groups = all_groups.reset_index()\n",
    "all_groups = all_groups.drop(columns=['index'])\n",
    "all_groups = all_groups.sort_values(by=['QueryId', 'DocumentId']).reset_index()\n",
    "all_groups = all_groups.drop(columns=['index'])\n",
    "rev_frame = all_groups.sort_values(by=['DocumentId', 'QueryId']).reset_index()\n",
    "rev_frame = rev_frame.drop(columns=['index'])"
   ]
  },
  {
   "cell_type": "code",
   "execution_count": 3,
   "id": "42c3b2d0",
   "metadata": {},
   "outputs": [
    {
     "data": {
      "text/html": [
       "<div>\n",
       "<style scoped>\n",
       "    .dataframe tbody tr th:only-of-type {\n",
       "        vertical-align: middle;\n",
       "    }\n",
       "\n",
       "    .dataframe tbody tr th {\n",
       "        vertical-align: top;\n",
       "    }\n",
       "\n",
       "    .dataframe thead th {\n",
       "        text-align: right;\n",
       "    }\n",
       "</style>\n",
       "<table border=\"1\" class=\"dataframe\">\n",
       "  <thead>\n",
       "    <tr style=\"text-align: right;\">\n",
       "      <th></th>\n",
       "      <th>QueryId</th>\n",
       "      <th>DocumentId</th>\n",
       "    </tr>\n",
       "  </thead>\n",
       "  <tbody>\n",
       "    <tr>\n",
       "      <th>0</th>\n",
       "      <td>0</td>\n",
       "      <td>1443</td>\n",
       "    </tr>\n",
       "    <tr>\n",
       "      <th>1</th>\n",
       "      <td>0</td>\n",
       "      <td>5912</td>\n",
       "    </tr>\n",
       "    <tr>\n",
       "      <th>2</th>\n",
       "      <td>0</td>\n",
       "      <td>5963</td>\n",
       "    </tr>\n",
       "    <tr>\n",
       "      <th>3</th>\n",
       "      <td>0</td>\n",
       "      <td>6096</td>\n",
       "    </tr>\n",
       "    <tr>\n",
       "      <th>4</th>\n",
       "      <td>0</td>\n",
       "      <td>6230</td>\n",
       "    </tr>\n",
       "    <tr>\n",
       "      <th>...</th>\n",
       "      <td>...</td>\n",
       "      <td>...</td>\n",
       "    </tr>\n",
       "    <tr>\n",
       "      <th>606045</th>\n",
       "      <td>6310</td>\n",
       "      <td>497350</td>\n",
       "    </tr>\n",
       "    <tr>\n",
       "      <th>606046</th>\n",
       "      <td>6310</td>\n",
       "      <td>512263</td>\n",
       "    </tr>\n",
       "    <tr>\n",
       "      <th>606047</th>\n",
       "      <td>6310</td>\n",
       "      <td>529857</td>\n",
       "    </tr>\n",
       "    <tr>\n",
       "      <th>606048</th>\n",
       "      <td>6310</td>\n",
       "      <td>551291</td>\n",
       "    </tr>\n",
       "    <tr>\n",
       "      <th>606049</th>\n",
       "      <td>6310</td>\n",
       "      <td>561732</td>\n",
       "    </tr>\n",
       "  </tbody>\n",
       "</table>\n",
       "<p>606050 rows × 2 columns</p>\n",
       "</div>"
      ],
      "text/plain": [
       "        QueryId  DocumentId\n",
       "0             0        1443\n",
       "1             0        5912\n",
       "2             0        5963\n",
       "3             0        6096\n",
       "4             0        6230\n",
       "...         ...         ...\n",
       "606045     6310      497350\n",
       "606046     6310      512263\n",
       "606047     6310      529857\n",
       "606048     6310      551291\n",
       "606049     6310      561732\n",
       "\n",
       "[606050 rows x 2 columns]"
      ]
     },
     "execution_count": 3,
     "metadata": {},
     "output_type": "execute_result"
    }
   ],
   "source": [
    "all_groups"
   ]
  },
  {
   "cell_type": "code",
   "execution_count": 4,
   "id": "07535dc6",
   "metadata": {},
   "outputs": [],
   "source": [
    "q_ids = all_groups['QueryId'].unique()\n",
    "q_docs_act = dict()"
   ]
  },
  {
   "cell_type": "code",
   "execution_count": 5,
   "id": "e8dda314",
   "metadata": {},
   "outputs": [
    {
     "name": "stderr",
     "output_type": "stream",
     "text": [
      "100%|██████████| 6311/6311 [00:20<00:00, 308.95it/s]\n"
     ]
    }
   ],
   "source": [
    "for qid in tqdm(q_ids):\n",
    "    q_docs_act[qid] = set()\n",
    "    tmp = all_groups[all_groups.QueryId==qid]\n",
    "    tmp_docs = tmp['DocumentId'].unique()\n",
    "    for doc in tmp_docs:\n",
    "        q_docs_act[qid].add(doc_to_host[transform(doc, ill_url_ids)])"
   ]
  },
  {
   "cell_type": "code",
   "execution_count": 6,
   "id": "0a1ef8c3",
   "metadata": {},
   "outputs": [],
   "source": [
    "with open(\"q_host_act.pickle\", 'wb') as file:\n",
    "    pickle.dump(q_docs_act, file)"
   ]
  },
  {
   "cell_type": "code",
   "execution_count": 7,
   "id": "17e48c66",
   "metadata": {},
   "outputs": [],
   "source": [
    "double_q_dict = dict()"
   ]
  },
  {
   "cell_type": "code",
   "execution_count": 8,
   "id": "fe34daba",
   "metadata": {},
   "outputs": [
    {
     "name": "stderr",
     "output_type": "stream",
     "text": [
      "100%|██████████| 6311/6311 [00:07<00:00, 851.66it/s] \n"
     ]
    }
   ],
   "source": [
    "for key in tqdm(q_docs_act):\n",
    "    double_q_dict[key] = dict()\n",
    "    for elem in q_docs_act[key]:\n",
    "        double_q_dict[key][elem]=URL_info()"
   ]
  },
  {
   "cell_type": "code",
   "execution_count": 9,
   "id": "8110ae65",
   "metadata": {},
   "outputs": [],
   "source": [
    "exists = set(os.listdir('host_query'))"
   ]
  },
  {
   "cell_type": "code",
   "execution_count": 10,
   "id": "b1515402",
   "metadata": {},
   "outputs": [
    {
     "name": "stderr",
     "output_type": "stream",
     "text": [
      "100%|██████████| 6311/6311 [10:11<00:00, 10.32it/s]  \n"
     ]
    }
   ],
   "source": [
    "for key1 in tqdm(double_q_dict):\n",
    "    if 'qh_{}.pickle'.format(key1) in exists:\n",
    "        with open('host_query/qh_{}.pickle'.format(key1), 'rb') as file:\n",
    "            obj = pickle.load(file)\n",
    "            for session in obj:\n",
    "                #чтсло первых кликов\n",
    "                if len(session[3])>0:\n",
    "                    if session[3][0] in q_docs_act[key1]:\n",
    "                        double_q_dict[key1][session[3][0]].num_first_clicks+=1\n",
    "                #число последних кликов  \n",
    "                if len(session[3])>0:\n",
    "                    if session[3][-1] in q_docs_act[key1]:\n",
    "                        double_q_dict[key1][session[3][-1]].num_last_clicks+=1\n",
    "                #число показов\n",
    "                show_ps = dict()\n",
    "                for i in range(len(session[2])):\n",
    "                    show_ps[session[2][i]]=i\n",
    "                    if session[2][i] in q_docs_act[key1]:\n",
    "                        double_q_dict[key1][session[2][i]].total_shows+=1\n",
    "                        #показы на первых 10-ти позициях\n",
    "                        if i<10:\n",
    "                            double_q_dict[key1][session[2][i]].show_poses[i]+=1\n",
    "                #число кликов    \n",
    "                for i in range(len(session[3])):\n",
    "                    if session[3][i] in q_docs_act[key1]:\n",
    "                        double_q_dict[key1][session[3][i]].total_clicks+=1\n",
    "                        #число кликов после/до клика на этот\n",
    "                        double_q_dict[key1][session[3][i]].clicks_before_this = i\n",
    "                        double_q_dict[key1][session[3][i]].clicks_after_this += (len(session[3])-1-i)\n",
    "                        #клики на первых 10-ти позициях\n",
    "                        if show_ps[session[3][i]]<10:\n",
    "                            double_q_dict[key1][session[3][i]].click_poses[show_ps[session[3][i]]]+=1\n",
    "                #время\n",
    "                if len(session[4])>1:\n",
    "                    for i in range(len(session[4])-2):\n",
    "                        if session[3][i] in q_docs_act[key1]:\n",
    "                            double_q_dict[key1][session[3][i]].time += ((session[4][i+1]-session[4][i])/1000)\n",
    "                pos_list = []\n",
    "                for key in show_ps:\n",
    "                    pos_list.append(show_ps[key])\n",
    "                pos_list = np.array(pos_list)\n",
    "                clicked_set = set()\n",
    "                for i in range(len(session[3])):\n",
    "                    if session[3][i] in q_docs_act[key1]:\n",
    "                        cur_pos = show_ps[session[3][i]]\n",
    "                        clicked_set.add(session[3][i])\n",
    "                        a1 = np.sum(pos_list<cur_pos)\n",
    "                        double_q_dict[key1][session[3][i]].clicks_on_lower_pos+=a1\n",
    "                        if a1>0:\n",
    "                            double_q_dict[key1][session[3][i]].is_click_on_lower_pos+=1\n",
    "                        b1 = np.sum(pos_list>cur_pos)\n",
    "                        double_q_dict[key1][session[3][i]].clicks_on_higher_pos+=b1\n",
    "                        if b1>0:\n",
    "                            double_q_dict[key1][session[3][i]].is_click_on_higher_pos+=1\n",
    "                for i in range(len(session[3])):\n",
    "                    if session[3][i] in clicked_set and i<10:\n",
    "                        double_q_dict[key1][session[3][i]].show_poses_cl[i]+=1    "
   ]
  },
  {
   "cell_type": "code",
   "execution_count": 11,
   "id": "84816532",
   "metadata": {},
   "outputs": [],
   "source": [
    "with open(\"QHP.pickle\", 'wb') as file:\n",
    "    pickle.dump(double_q_dict, file)"
   ]
  },
  {
   "cell_type": "code",
   "execution_count": 12,
   "id": "885a34f1",
   "metadata": {},
   "outputs": [
    {
     "data": {
      "text/plain": [
       "3"
      ]
     },
     "execution_count": 12,
     "metadata": {},
     "output_type": "execute_result"
    }
   ],
   "source": [
    "1+2"
   ]
  },
  {
   "cell_type": "code",
   "execution_count": null,
   "id": "53f43c96",
   "metadata": {},
   "outputs": [],
   "source": []
  }
 ],
 "metadata": {
  "kernelspec": {
   "display_name": "Python 3",
   "language": "python",
   "name": "python3"
  },
  "language_info": {
   "codemirror_mode": {
    "name": "ipython",
    "version": 3
   },
   "file_extension": ".py",
   "mimetype": "text/x-python",
   "name": "python",
   "nbconvert_exporter": "python",
   "pygments_lexer": "ipython3",
   "version": "3.8.8"
  }
 },
 "nbformat": 4,
 "nbformat_minor": 5
}
