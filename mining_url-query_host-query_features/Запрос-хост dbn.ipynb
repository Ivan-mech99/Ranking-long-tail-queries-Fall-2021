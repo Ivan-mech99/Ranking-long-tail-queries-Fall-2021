{
 "cells": [
  {
   "cell_type": "code",
   "execution_count": 1,
   "id": "5abbea0d",
   "metadata": {},
   "outputs": [],
   "source": [
    "from tqdm import tqdm\n",
    "import pandas as pd\n",
    "import os\n",
    "import gzip\n",
    "import zipfile\n",
    "import shutil\n",
    "from time import sleep\n",
    "import pymorphy2\n",
    "from pyaspeller import YandexSpeller\n",
    "from lru import LRU\n",
    "import pickle\n",
    "from time import sleep\n",
    "from concurrent.futures import ThreadPoolExecutor\n",
    "import tarfile\n",
    "import bz2\n",
    "import sys\n",
    "import numpy as np\n",
    "with open('ill_url_ids.pickle', 'rb') as file:\n",
    "    ill_url_ids = pickle.load(file)\n",
    "def transform(arg, ill_url_ids):\n",
    "    if arg not in ill_url_ids:\n",
    "        return arg\n",
    "    else:\n",
    "        return ill_url_ids[arg]\n",
    "class DBN_info():\n",
    "    def __init__(self):\n",
    "        self.view = 0\n",
    "        self.click = 0\n",
    "        self.satis = 0\n",
    "with open(\"doc_to_host.pickle\", 'rb') as file:\n",
    "    doc_to_host = pickle.load(file)"
   ]
  },
  {
   "cell_type": "code",
   "execution_count": 2,
   "id": "92b09ad3",
   "metadata": {},
   "outputs": [],
   "source": [
    "df_marks = pd.read_csv('train.marks.tsv', delimiter='\\t', header=None)\n",
    "df_marks = df_marks.rename(columns={0: \"QueryId\", 1: \"DocumentId\"})\n",
    "df_marks = df_marks.drop(columns=[2])\n",
    "df_example = pd.read_csv('sample.csv')\n",
    "all_groups = df_marks.append(df_example)\n",
    "all_groups = all_groups.reset_index()\n",
    "all_groups = all_groups.drop(columns=['index'])\n",
    "all_groups = all_groups.sort_values(by=['QueryId', 'DocumentId']).reset_index()\n",
    "all_groups = all_groups.drop(columns=['index'])\n",
    "rev_frame = all_groups.sort_values(by=['DocumentId', 'QueryId']).reset_index()\n",
    "rev_frame = rev_frame.drop(columns=['index'])"
   ]
  },
  {
   "cell_type": "code",
   "execution_count": 3,
   "id": "8fcb9e71",
   "metadata": {},
   "outputs": [],
   "source": [
    "q_ids = all_groups['QueryId'].unique()"
   ]
  },
  {
   "cell_type": "code",
   "execution_count": 4,
   "id": "a0746930",
   "metadata": {},
   "outputs": [],
   "source": [
    "q_docs_act = dict()"
   ]
  },
  {
   "cell_type": "code",
   "execution_count": 5,
   "id": "858fc42f",
   "metadata": {},
   "outputs": [
    {
     "name": "stderr",
     "output_type": "stream",
     "text": [
      "100%|██████████| 6311/6311 [00:10<00:00, 625.06it/s]\n"
     ]
    }
   ],
   "source": [
    "for qid in tqdm(q_ids):\n",
    "    q_docs_act[qid] = set()\n",
    "    tmp = all_groups[all_groups.QueryId==qid]\n",
    "    tmp_docs = tmp['DocumentId'].unique()\n",
    "    for doc in tmp_docs:\n",
    "        q_docs_act[qid].add(doc_to_host[transform(doc, ill_url_ids)])"
   ]
  },
  {
   "cell_type": "code",
   "execution_count": 6,
   "id": "b5ee8a7f",
   "metadata": {},
   "outputs": [],
   "source": [
    "with open(\"q_docs_act.pickle\", 'wb') as file:\n",
    "    pickle.dump(q_docs_act, file)"
   ]
  },
  {
   "cell_type": "code",
   "execution_count": 7,
   "id": "c65cba1f",
   "metadata": {},
   "outputs": [],
   "source": [
    "double_q_dict = dict()"
   ]
  },
  {
   "cell_type": "code",
   "execution_count": 8,
   "id": "77836a22",
   "metadata": {},
   "outputs": [
    {
     "name": "stderr",
     "output_type": "stream",
     "text": [
      "100%|██████████| 6311/6311 [00:01<00:00, 4840.03it/s]\n"
     ]
    }
   ],
   "source": [
    "for key in tqdm(q_docs_act):\n",
    "    double_q_dict[key] = dict()\n",
    "    for elem in q_docs_act[key]:\n",
    "        double_q_dict[key][elem]=DBN_info()"
   ]
  },
  {
   "cell_type": "code",
   "execution_count": 9,
   "id": "c59c2705",
   "metadata": {},
   "outputs": [
    {
     "name": "stderr",
     "output_type": "stream",
     "text": [
      "100%|██████████| 6311/6311 [00:46<00:00, 134.89it/s]\n"
     ]
    }
   ],
   "source": [
    "exists = set(os.listdir('host_query'))\n",
    "for key1 in tqdm(double_q_dict):\n",
    "    if 'qh_{}.pickle'.format(key1) in exists:\n",
    "        with open('host_query/qh_{}.pickle'.format(key1), 'rb') as file:\n",
    "            obj = pickle.load(file)\n",
    "            for session in obj:\n",
    "                clicked_set = set()\n",
    "                for num in session[3]:\n",
    "                    clicked_set.add(num)\n",
    "                if len(clicked_set)>0:\n",
    "                    last_clicked = session[3][-1]\n",
    "                    for num in session[2]:\n",
    "                        if num not in clicked_set and num in q_docs_act[key1]:\n",
    "                            double_q_dict[key1][num].view+=1\n",
    "                        elif num in clicked_set:\n",
    "                            if num in q_docs_act[key1] and num!=last_clicked:\n",
    "                                double_q_dict[key1][num].view+=1\n",
    "                                double_q_dict[key1][num].click+=1\n",
    "                            elif num in q_docs_act[key1] and num==last_clicked:\n",
    "                                double_q_dict[key1][num].view+=1\n",
    "                                double_q_dict[key1][num].click+=1\n",
    "                                double_q_dict[key1][num].satis+=1\n",
    "                            if num==last_clicked:\n",
    "                                break"
   ]
  },
  {
   "cell_type": "code",
   "execution_count": 10,
   "id": "7c457b41",
   "metadata": {},
   "outputs": [],
   "source": [
    "with open(\"QHP_dbn.pickle\", 'wb') as file:\n",
    "    pickle.dump(double_q_dict, file)"
   ]
  },
  {
   "cell_type": "code",
   "execution_count": null,
   "id": "9f4de0c3",
   "metadata": {},
   "outputs": [],
   "source": []
  }
 ],
 "metadata": {
  "kernelspec": {
   "display_name": "Python 3",
   "language": "python",
   "name": "python3"
  },
  "language_info": {
   "codemirror_mode": {
    "name": "ipython",
    "version": 3
   },
   "file_extension": ".py",
   "mimetype": "text/x-python",
   "name": "python",
   "nbconvert_exporter": "python",
   "pygments_lexer": "ipython3",
   "version": "3.8.8"
  }
 },
 "nbformat": 4,
 "nbformat_minor": 5
}
